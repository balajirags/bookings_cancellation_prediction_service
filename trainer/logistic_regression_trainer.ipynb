{
 "cells": [
  {
   "cell_type": "code",
   "execution_count": 1,
   "id": "f9c472d3-50c3-4399-9d74-bb4649fc1bf5",
   "metadata": {},
   "outputs": [],
   "source": [
    "import pandas as pd\n",
    "import numpy as np\n",
    "import matplotlib.pyplot as plt\n",
    "import seaborn as sn\n"
   ]
  },
  {
   "cell_type": "code",
   "execution_count": 2,
   "id": "d2987a5e-e402-4bd7-8795-0d6b42df1cad",
   "metadata": {},
   "outputs": [],
   "source": [
    "#Data Preparation\n",
    "#Download the data, read it with pandas\n",
    "#Look at the data\n",
    "#Make column names and values look uniform\n",
    "#Check if all the columns read correctly"
   ]
  },
  {
   "cell_type": "code",
   "execution_count": 3,
   "id": "c561e356-1843-4401-a239-4972b32bc0ef",
   "metadata": {},
   "outputs": [
    {
     "data": {
      "text/html": [
       "<div>\n",
       "<style scoped>\n",
       "    .dataframe tbody tr th:only-of-type {\n",
       "        vertical-align: middle;\n",
       "    }\n",
       "\n",
       "    .dataframe tbody tr th {\n",
       "        vertical-align: top;\n",
       "    }\n",
       "\n",
       "    .dataframe thead th {\n",
       "        text-align: right;\n",
       "    }\n",
       "</style>\n",
       "<table border=\"1\" class=\"dataframe\">\n",
       "  <thead>\n",
       "    <tr style=\"text-align: right;\">\n",
       "      <th></th>\n",
       "      <th>Booking_ID</th>\n",
       "      <th>number of adults</th>\n",
       "      <th>number of children</th>\n",
       "      <th>number of weekend nights</th>\n",
       "      <th>number of week nights</th>\n",
       "      <th>type of meal</th>\n",
       "      <th>car parking space</th>\n",
       "      <th>room type</th>\n",
       "      <th>lead time</th>\n",
       "      <th>market segment type</th>\n",
       "      <th>repeated</th>\n",
       "      <th>P-C</th>\n",
       "      <th>P-not-C</th>\n",
       "      <th>average price</th>\n",
       "      <th>special requests</th>\n",
       "      <th>date of reservation</th>\n",
       "      <th>booking status</th>\n",
       "    </tr>\n",
       "  </thead>\n",
       "  <tbody>\n",
       "    <tr>\n",
       "      <th>0</th>\n",
       "      <td>INN00001</td>\n",
       "      <td>1</td>\n",
       "      <td>1</td>\n",
       "      <td>2</td>\n",
       "      <td>5</td>\n",
       "      <td>Meal Plan 1</td>\n",
       "      <td>0</td>\n",
       "      <td>Room_Type 1</td>\n",
       "      <td>224</td>\n",
       "      <td>Offline</td>\n",
       "      <td>0</td>\n",
       "      <td>0</td>\n",
       "      <td>0</td>\n",
       "      <td>88.00</td>\n",
       "      <td>0</td>\n",
       "      <td>10/2/2015</td>\n",
       "      <td>Not_Canceled</td>\n",
       "    </tr>\n",
       "    <tr>\n",
       "      <th>1</th>\n",
       "      <td>INN00002</td>\n",
       "      <td>1</td>\n",
       "      <td>0</td>\n",
       "      <td>1</td>\n",
       "      <td>3</td>\n",
       "      <td>Not Selected</td>\n",
       "      <td>0</td>\n",
       "      <td>Room_Type 1</td>\n",
       "      <td>5</td>\n",
       "      <td>Online</td>\n",
       "      <td>0</td>\n",
       "      <td>0</td>\n",
       "      <td>0</td>\n",
       "      <td>106.68</td>\n",
       "      <td>1</td>\n",
       "      <td>11/6/2018</td>\n",
       "      <td>Not_Canceled</td>\n",
       "    </tr>\n",
       "    <tr>\n",
       "      <th>2</th>\n",
       "      <td>INN00003</td>\n",
       "      <td>2</td>\n",
       "      <td>1</td>\n",
       "      <td>1</td>\n",
       "      <td>3</td>\n",
       "      <td>Meal Plan 1</td>\n",
       "      <td>0</td>\n",
       "      <td>Room_Type 1</td>\n",
       "      <td>1</td>\n",
       "      <td>Online</td>\n",
       "      <td>0</td>\n",
       "      <td>0</td>\n",
       "      <td>0</td>\n",
       "      <td>50.00</td>\n",
       "      <td>0</td>\n",
       "      <td>2/28/2018</td>\n",
       "      <td>Canceled</td>\n",
       "    </tr>\n",
       "    <tr>\n",
       "      <th>3</th>\n",
       "      <td>INN00004</td>\n",
       "      <td>1</td>\n",
       "      <td>0</td>\n",
       "      <td>0</td>\n",
       "      <td>2</td>\n",
       "      <td>Meal Plan 1</td>\n",
       "      <td>0</td>\n",
       "      <td>Room_Type 1</td>\n",
       "      <td>211</td>\n",
       "      <td>Online</td>\n",
       "      <td>0</td>\n",
       "      <td>0</td>\n",
       "      <td>0</td>\n",
       "      <td>100.00</td>\n",
       "      <td>1</td>\n",
       "      <td>5/20/2017</td>\n",
       "      <td>Canceled</td>\n",
       "    </tr>\n",
       "    <tr>\n",
       "      <th>4</th>\n",
       "      <td>INN00005</td>\n",
       "      <td>1</td>\n",
       "      <td>0</td>\n",
       "      <td>1</td>\n",
       "      <td>2</td>\n",
       "      <td>Not Selected</td>\n",
       "      <td>0</td>\n",
       "      <td>Room_Type 1</td>\n",
       "      <td>48</td>\n",
       "      <td>Online</td>\n",
       "      <td>0</td>\n",
       "      <td>0</td>\n",
       "      <td>0</td>\n",
       "      <td>77.00</td>\n",
       "      <td>0</td>\n",
       "      <td>4/11/2018</td>\n",
       "      <td>Canceled</td>\n",
       "    </tr>\n",
       "  </tbody>\n",
       "</table>\n",
       "</div>"
      ],
      "text/plain": [
       "  Booking_ID  number of adults  number of children  number of weekend nights  \\\n",
       "0   INN00001                 1                   1                         2   \n",
       "1   INN00002                 1                   0                         1   \n",
       "2   INN00003                 2                   1                         1   \n",
       "3   INN00004                 1                   0                         0   \n",
       "4   INN00005                 1                   0                         1   \n",
       "\n",
       "   number of week nights  type of meal  car parking space    room type  \\\n",
       "0                      5   Meal Plan 1                  0  Room_Type 1   \n",
       "1                      3  Not Selected                  0  Room_Type 1   \n",
       "2                      3   Meal Plan 1                  0  Room_Type 1   \n",
       "3                      2   Meal Plan 1                  0  Room_Type 1   \n",
       "4                      2  Not Selected                  0  Room_Type 1   \n",
       "\n",
       "   lead time market segment type  repeated  P-C  P-not-C  average price  \\\n",
       "0        224             Offline         0    0        0          88.00   \n",
       "1          5              Online         0    0        0         106.68   \n",
       "2          1              Online         0    0        0          50.00   \n",
       "3        211              Online         0    0        0         100.00   \n",
       "4         48              Online         0    0        0          77.00   \n",
       "\n",
       "   special requests date of reservation booking status  \n",
       "0                 0           10/2/2015   Not_Canceled  \n",
       "1                 1           11/6/2018   Not_Canceled  \n",
       "2                 0           2/28/2018       Canceled  \n",
       "3                 1           5/20/2017       Canceled  \n",
       "4                 0           4/11/2018       Canceled  "
      ]
     },
     "execution_count": 3,
     "metadata": {},
     "output_type": "execute_result"
    }
   ],
   "source": [
    "df =  pd.read_csv('../dataset/booking_train.csv')\n",
    "df.head()"
   ]
  },
  {
   "cell_type": "code",
   "execution_count": 4,
   "id": "d240bd07-a398-4b93-bddb-61837d9f6e52",
   "metadata": {},
   "outputs": [
    {
     "name": "stdout",
     "output_type": "stream",
     "text": [
      "<class 'pandas.core.frame.DataFrame'>\n",
      "RangeIndex: 36285 entries, 0 to 36284\n",
      "Data columns (total 17 columns):\n",
      " #   Column                    Non-Null Count  Dtype  \n",
      "---  ------                    --------------  -----  \n",
      " 0   booking_id                36285 non-null  object \n",
      " 1   number_of_adults          36285 non-null  int64  \n",
      " 2   number_of_children        36285 non-null  int64  \n",
      " 3   number_of_weekend_nights  36285 non-null  int64  \n",
      " 4   number_of_week_nights     36285 non-null  int64  \n",
      " 5   type_of_meal              36285 non-null  object \n",
      " 6   car_parking_space         36285 non-null  int64  \n",
      " 7   room_type                 36285 non-null  object \n",
      " 8   lead_time                 36285 non-null  int64  \n",
      " 9   market_segment_type       36285 non-null  object \n",
      " 10  repeated                  36285 non-null  int64  \n",
      " 11  p-c                       36285 non-null  int64  \n",
      " 12  p-not-c                   36285 non-null  int64  \n",
      " 13  average_price             36285 non-null  float64\n",
      " 14  special_requests          36285 non-null  int64  \n",
      " 15  date_of_reservation       36285 non-null  object \n",
      " 16  booking_status            36285 non-null  object \n",
      "dtypes: float64(1), int64(10), object(6)\n",
      "memory usage: 4.7+ MB\n"
     ]
    }
   ],
   "source": [
    "df.columns = df.columns.str.lower().str.replace(' ', '_')\n",
    "df.info()\n",
    "\n",
    "#p-c => Number of previous bookings that were canceled by the customer prior to the current booking\n",
    "#p-not-c => Number of previous bookings not canceled by the customer prior to the current booking"
   ]
  },
  {
   "cell_type": "code",
   "execution_count": 5,
   "id": "096d5bc6-be47-4af5-b672-30bac249a5d9",
   "metadata": {},
   "outputs": [
    {
     "data": {
      "text/html": [
       "<div>\n",
       "<style scoped>\n",
       "    .dataframe tbody tr th:only-of-type {\n",
       "        vertical-align: middle;\n",
       "    }\n",
       "\n",
       "    .dataframe tbody tr th {\n",
       "        vertical-align: top;\n",
       "    }\n",
       "\n",
       "    .dataframe thead th {\n",
       "        text-align: right;\n",
       "    }\n",
       "</style>\n",
       "<table border=\"1\" class=\"dataframe\">\n",
       "  <thead>\n",
       "    <tr style=\"text-align: right;\">\n",
       "      <th></th>\n",
       "      <th>0</th>\n",
       "      <th>1</th>\n",
       "      <th>2</th>\n",
       "      <th>3</th>\n",
       "      <th>4</th>\n",
       "    </tr>\n",
       "  </thead>\n",
       "  <tbody>\n",
       "    <tr>\n",
       "      <th>booking_id</th>\n",
       "      <td>INN00001</td>\n",
       "      <td>INN00002</td>\n",
       "      <td>INN00003</td>\n",
       "      <td>INN00004</td>\n",
       "      <td>INN00005</td>\n",
       "    </tr>\n",
       "    <tr>\n",
       "      <th>number_of_adults</th>\n",
       "      <td>1</td>\n",
       "      <td>1</td>\n",
       "      <td>2</td>\n",
       "      <td>1</td>\n",
       "      <td>1</td>\n",
       "    </tr>\n",
       "    <tr>\n",
       "      <th>number_of_children</th>\n",
       "      <td>1</td>\n",
       "      <td>0</td>\n",
       "      <td>1</td>\n",
       "      <td>0</td>\n",
       "      <td>0</td>\n",
       "    </tr>\n",
       "    <tr>\n",
       "      <th>number_of_weekend_nights</th>\n",
       "      <td>2</td>\n",
       "      <td>1</td>\n",
       "      <td>1</td>\n",
       "      <td>0</td>\n",
       "      <td>1</td>\n",
       "    </tr>\n",
       "    <tr>\n",
       "      <th>number_of_week_nights</th>\n",
       "      <td>5</td>\n",
       "      <td>3</td>\n",
       "      <td>3</td>\n",
       "      <td>2</td>\n",
       "      <td>2</td>\n",
       "    </tr>\n",
       "    <tr>\n",
       "      <th>type_of_meal</th>\n",
       "      <td>meal_plan_1</td>\n",
       "      <td>not_selected</td>\n",
       "      <td>meal_plan_1</td>\n",
       "      <td>meal_plan_1</td>\n",
       "      <td>not_selected</td>\n",
       "    </tr>\n",
       "    <tr>\n",
       "      <th>car_parking_space</th>\n",
       "      <td>0</td>\n",
       "      <td>0</td>\n",
       "      <td>0</td>\n",
       "      <td>0</td>\n",
       "      <td>0</td>\n",
       "    </tr>\n",
       "    <tr>\n",
       "      <th>room_type</th>\n",
       "      <td>room_type_1</td>\n",
       "      <td>room_type_1</td>\n",
       "      <td>room_type_1</td>\n",
       "      <td>room_type_1</td>\n",
       "      <td>room_type_1</td>\n",
       "    </tr>\n",
       "    <tr>\n",
       "      <th>lead_time</th>\n",
       "      <td>224</td>\n",
       "      <td>5</td>\n",
       "      <td>1</td>\n",
       "      <td>211</td>\n",
       "      <td>48</td>\n",
       "    </tr>\n",
       "    <tr>\n",
       "      <th>market_segment_type</th>\n",
       "      <td>offline</td>\n",
       "      <td>online</td>\n",
       "      <td>online</td>\n",
       "      <td>online</td>\n",
       "      <td>online</td>\n",
       "    </tr>\n",
       "    <tr>\n",
       "      <th>repeated</th>\n",
       "      <td>0</td>\n",
       "      <td>0</td>\n",
       "      <td>0</td>\n",
       "      <td>0</td>\n",
       "      <td>0</td>\n",
       "    </tr>\n",
       "    <tr>\n",
       "      <th>p-c</th>\n",
       "      <td>0</td>\n",
       "      <td>0</td>\n",
       "      <td>0</td>\n",
       "      <td>0</td>\n",
       "      <td>0</td>\n",
       "    </tr>\n",
       "    <tr>\n",
       "      <th>p-not-c</th>\n",
       "      <td>0</td>\n",
       "      <td>0</td>\n",
       "      <td>0</td>\n",
       "      <td>0</td>\n",
       "      <td>0</td>\n",
       "    </tr>\n",
       "    <tr>\n",
       "      <th>average_price</th>\n",
       "      <td>88.0</td>\n",
       "      <td>106.68</td>\n",
       "      <td>50.0</td>\n",
       "      <td>100.0</td>\n",
       "      <td>77.0</td>\n",
       "    </tr>\n",
       "    <tr>\n",
       "      <th>special_requests</th>\n",
       "      <td>0</td>\n",
       "      <td>1</td>\n",
       "      <td>0</td>\n",
       "      <td>1</td>\n",
       "      <td>0</td>\n",
       "    </tr>\n",
       "    <tr>\n",
       "      <th>date_of_reservation</th>\n",
       "      <td>10/2/2015</td>\n",
       "      <td>11/6/2018</td>\n",
       "      <td>2/28/2018</td>\n",
       "      <td>5/20/2017</td>\n",
       "      <td>4/11/2018</td>\n",
       "    </tr>\n",
       "    <tr>\n",
       "      <th>booking_status</th>\n",
       "      <td>Not_Canceled</td>\n",
       "      <td>Not_Canceled</td>\n",
       "      <td>Canceled</td>\n",
       "      <td>Canceled</td>\n",
       "      <td>Canceled</td>\n",
       "    </tr>\n",
       "  </tbody>\n",
       "</table>\n",
       "</div>"
      ],
      "text/plain": [
       "                                     0             1            2  \\\n",
       "booking_id                    INN00001      INN00002     INN00003   \n",
       "number_of_adults                     1             1            2   \n",
       "number_of_children                   1             0            1   \n",
       "number_of_weekend_nights             2             1            1   \n",
       "number_of_week_nights                5             3            3   \n",
       "type_of_meal               meal_plan_1  not_selected  meal_plan_1   \n",
       "car_parking_space                    0             0            0   \n",
       "room_type                  room_type_1   room_type_1  room_type_1   \n",
       "lead_time                          224             5            1   \n",
       "market_segment_type            offline        online       online   \n",
       "repeated                             0             0            0   \n",
       "p-c                                  0             0            0   \n",
       "p-not-c                              0             0            0   \n",
       "average_price                     88.0        106.68         50.0   \n",
       "special_requests                     0             1            0   \n",
       "date_of_reservation          10/2/2015     11/6/2018    2/28/2018   \n",
       "booking_status            Not_Canceled  Not_Canceled     Canceled   \n",
       "\n",
       "                                    3             4  \n",
       "booking_id                   INN00004      INN00005  \n",
       "number_of_adults                    1             1  \n",
       "number_of_children                  0             0  \n",
       "number_of_weekend_nights            0             1  \n",
       "number_of_week_nights               2             2  \n",
       "type_of_meal              meal_plan_1  not_selected  \n",
       "car_parking_space                   0             0  \n",
       "room_type                 room_type_1   room_type_1  \n",
       "lead_time                         211            48  \n",
       "market_segment_type            online        online  \n",
       "repeated                            0             0  \n",
       "p-c                                 0             0  \n",
       "p-not-c                             0             0  \n",
       "average_price                   100.0          77.0  \n",
       "special_requests                    1             0  \n",
       "date_of_reservation         5/20/2017     4/11/2018  \n",
       "booking_status               Canceled      Canceled  "
      ]
     },
     "execution_count": 5,
     "metadata": {},
     "output_type": "execute_result"
    }
   ],
   "source": [
    "df.head().T\n",
    "df['type_of_meal']=df['type_of_meal'].str.lower().str.replace(' ', '_')\n",
    "df['room_type']=df['room_type'].str.lower().str.replace(' ', '_')\n",
    "df['market_segment_type']=df['market_segment_type'].str.lower().str.replace(' ', '_')\n",
    "df.head().T"
   ]
  },
  {
   "cell_type": "code",
   "execution_count": 6,
   "id": "be7e4c1e-67d1-4dcf-8e32-678adbdc9f21",
   "metadata": {},
   "outputs": [],
   "source": [
    "#df['month_of_reservation'] = pd.to_datetime(df['date_of_reservation'],format='%m-%d-%Y') \n",
    "#df['month_of_reservation'].head()\n",
    "#looks like date of reservation has inconsistencies in data format."
   ]
  },
  {
   "cell_type": "code",
   "execution_count": 7,
   "id": "0fd1ba96-59d1-4f36-b646-618314313d70",
   "metadata": {},
   "outputs": [
    {
     "data": {
      "text/plain": [
       "(37, 36248)"
      ]
     },
     "execution_count": 7,
     "metadata": {},
     "output_type": "execute_result"
    }
   ],
   "source": [
    "dates_with_slash = len(df[df[\"date_of_reservation\"].str.contains(\"-\")])\n",
    "dates_with_hypen = len(df[~df[\"date_of_reservation\"].str.contains(\"-\")])\n",
    "dates_with_slash,dates_with_hypen"
   ]
  },
  {
   "cell_type": "code",
   "execution_count": 8,
   "id": "996b3fc5-ad13-48ab-a8c4-9400be2c49f9",
   "metadata": {},
   "outputs": [],
   "source": [
    "#remove the data with incorrect format\n",
    "df = df[~df[\"date_of_reservation\"].str.contains(\"-\")]"
   ]
  },
  {
   "cell_type": "code",
   "execution_count": 9,
   "id": "70a3b38b-3db0-40d7-8cc3-af7cb43d72a8",
   "metadata": {},
   "outputs": [
    {
     "data": {
      "text/plain": [
       "month_of_reservation\n",
       "Oct    5320\n",
       "Sep    4612\n",
       "Aug    3813\n",
       "Jun    3203\n",
       "Dec    3022\n",
       "Nov    2981\n",
       "Jul    2921\n",
       "Apr    2737\n",
       "May    2599\n",
       "Mar    2358\n",
       "Feb    1668\n",
       "Jan    1014\n",
       "Name: count, dtype: int64"
      ]
     },
     "execution_count": 9,
     "metadata": {},
     "output_type": "execute_result"
    }
   ],
   "source": [
    "df['month_of_reservation'] = pd.to_datetime(df['date_of_reservation'],format='%m/%d/%Y').dt.strftime('%b') \n",
    "df['month_of_reservation'].value_counts()"
   ]
  },
  {
   "cell_type": "code",
   "execution_count": 10,
   "id": "fe8eba3c-ab05-4aeb-a80a-ffd6ed031248",
   "metadata": {},
   "outputs": [
    {
     "name": "stdout",
     "output_type": "stream",
     "text": [
      "<class 'pandas.core.frame.DataFrame'>\n",
      "Index: 36248 entries, 0 to 36284\n",
      "Data columns (total 18 columns):\n",
      " #   Column                    Non-Null Count  Dtype  \n",
      "---  ------                    --------------  -----  \n",
      " 0   booking_id                36248 non-null  object \n",
      " 1   number_of_adults          36248 non-null  int64  \n",
      " 2   number_of_children        36248 non-null  int64  \n",
      " 3   number_of_weekend_nights  36248 non-null  int64  \n",
      " 4   number_of_week_nights     36248 non-null  int64  \n",
      " 5   type_of_meal              36248 non-null  object \n",
      " 6   car_parking_space         36248 non-null  int64  \n",
      " 7   room_type                 36248 non-null  object \n",
      " 8   lead_time                 36248 non-null  int64  \n",
      " 9   market_segment_type       36248 non-null  object \n",
      " 10  repeated                  36248 non-null  int64  \n",
      " 11  p-c                       36248 non-null  int64  \n",
      " 12  p-not-c                   36248 non-null  int64  \n",
      " 13  average_price             36248 non-null  float64\n",
      " 14  special_requests          36248 non-null  int64  \n",
      " 15  date_of_reservation       36248 non-null  object \n",
      " 16  booking_status            36248 non-null  object \n",
      " 17  month_of_reservation      36248 non-null  object \n",
      "dtypes: float64(1), int64(10), object(7)\n",
      "memory usage: 5.3+ MB\n"
     ]
    }
   ],
   "source": [
    "df.info()"
   ]
  },
  {
   "cell_type": "code",
   "execution_count": 11,
   "id": "0d73a17a-3881-448f-aa8f-6c11c3371d85",
   "metadata": {},
   "outputs": [],
   "source": [
    "df['booking_status'] = (df.booking_status == 'Canceled').astype(int)\n",
    "#cancelled =1\n",
    "#no_cancelled =0"
   ]
  },
  {
   "cell_type": "code",
   "execution_count": 12,
   "id": "4ec2e810-e6d4-4941-acd7-b6b6be3d80fc",
   "metadata": {},
   "outputs": [
    {
     "data": {
      "text/plain": [
       "booking_status\n",
       "0    24366\n",
       "1    11882\n",
       "Name: count, dtype: int64"
      ]
     },
     "execution_count": 12,
     "metadata": {},
     "output_type": "execute_result"
    }
   ],
   "source": [
    "df['booking_status'].value_counts()"
   ]
  },
  {
   "cell_type": "code",
   "execution_count": 13,
   "id": "cff7e0b0-3e14-4b16-82c0-65cbf93b899c",
   "metadata": {},
   "outputs": [
    {
     "data": {
      "text/plain": [
       "booking_status\n",
       "0    0.672203\n",
       "1    0.327797\n",
       "Name: proportion, dtype: float64"
      ]
     },
     "execution_count": 13,
     "metadata": {},
     "output_type": "execute_result"
    }
   ],
   "source": [
    "df['booking_status'].value_counts(normalize=True)"
   ]
  },
  {
   "cell_type": "code",
   "execution_count": 14,
   "id": "daf534dd-c346-4127-923c-0762969da383",
   "metadata": {},
   "outputs": [
    {
     "data": {
      "text/plain": [
       "(36248, 28998, 21748, 7250, 7250)"
      ]
     },
     "execution_count": 14,
     "metadata": {},
     "output_type": "execute_result"
    }
   ],
   "source": [
    "#Perform the train/validation/test split with Scikit-Learn\n",
    "from sklearn.model_selection import train_test_split\n",
    "\n",
    "df_full_train, df_test = train_test_split(df,test_size=0.2, random_state=1)\n",
    "df_train, df_val = train_test_split(df_full_train,test_size=0.25, random_state=1)\n",
    "len(df),len(df_full_train),len(df_train),len(df_val),len(df_test)"
   ]
  },
  {
   "cell_type": "code",
   "execution_count": 15,
   "id": "819385bc-be81-4629-80f3-2370ce507d5f",
   "metadata": {},
   "outputs": [],
   "source": [
    "df_full_train  = df_full_train.reset_index(drop=True)\n",
    "df_train = df_train.reset_index(drop=True)\n",
    "df_val = df_val.reset_index(drop=True)\n",
    "df_test = df_test.reset_index(drop=True)"
   ]
  },
  {
   "cell_type": "code",
   "execution_count": 16,
   "id": "74ff3f5d-e0e6-47b0-8059-e190e4b2b100",
   "metadata": {},
   "outputs": [
    {
     "data": {
      "text/plain": [
       "(28998, 21748, 7250, 7250)"
      ]
     },
     "execution_count": 16,
     "metadata": {},
     "output_type": "execute_result"
    }
   ],
   "source": [
    "y_full_train = df_full_train['booking_status'].values\n",
    "y_train = df_train['booking_status'].values\n",
    "y_val = df_val['booking_status'].values\n",
    "y_test = df_test['booking_status'].values\n",
    "\n",
    "len(y_full_train),len(y_train),len(y_val),len(y_test)\n"
   ]
  },
  {
   "cell_type": "code",
   "execution_count": 17,
   "id": "0ee4dff9-af34-4da6-aa31-8bf86fb6a170",
   "metadata": {},
   "outputs": [],
   "source": [
    "del df_train['booking_status']\n",
    "del df_val['booking_status']\n",
    "del df_test['booking_status']"
   ]
  },
  {
   "cell_type": "code",
   "execution_count": 18,
   "id": "eeac91f2-6ad9-49d1-a05f-66088018063a",
   "metadata": {},
   "outputs": [
    {
     "data": {
      "text/plain": [
       "booking_id                  False\n",
       "number_of_adults            False\n",
       "number_of_children          False\n",
       "number_of_weekend_nights    False\n",
       "number_of_week_nights       False\n",
       "type_of_meal                False\n",
       "car_parking_space           False\n",
       "room_type                   False\n",
       "lead_time                   False\n",
       "market_segment_type         False\n",
       "repeated                    False\n",
       "p-c                         False\n",
       "p-not-c                     False\n",
       "average_price               False\n",
       "special_requests            False\n",
       "date_of_reservation         False\n",
       "month_of_reservation        False\n",
       "dtype: bool"
      ]
     },
     "execution_count": 18,
     "metadata": {},
     "output_type": "execute_result"
    }
   ],
   "source": [
    "#EDA\n",
    "df_full_train.isnull().any()\n",
    "df_train.isnull().any\n",
    "df_val.isnull().any()\n",
    "df_test.isnull().any()"
   ]
  },
  {
   "cell_type": "code",
   "execution_count": 19,
   "id": "548c5cb7-31e7-47ae-a499-dffe99e3608f",
   "metadata": {},
   "outputs": [
    {
     "data": {
      "text/plain": [
       "booking_status\n",
       "0    0.671943\n",
       "1    0.328057\n",
       "Name: proportion, dtype: float64"
      ]
     },
     "execution_count": 19,
     "metadata": {},
     "output_type": "execute_result"
    }
   ],
   "source": [
    "df_full_train['booking_status'].value_counts(normalize=True)\n",
    "\n",
    "# 66% are cases there are no cancellation\n",
    "# 33% are cases have cancellation\n"
   ]
  },
  {
   "cell_type": "code",
   "execution_count": 20,
   "id": "6a1ba4b3-31d3-4f8a-9642-021c31e68757",
   "metadata": {},
   "outputs": [
    {
     "data": {
      "text/plain": [
       "0.33"
      ]
     },
     "execution_count": 20,
     "metadata": {},
     "output_type": "execute_result"
    }
   ],
   "source": [
    "\n",
    "global_cancellation_rate = df_full_train['booking_status'].mean()\n",
    "global_cancellation_rate = round(global_cancellation_rate,2)\n",
    "global_cancellation_rate"
   ]
  },
  {
   "cell_type": "code",
   "execution_count": 21,
   "id": "1212cc28-6456-41df-86d4-96227dfed2b3",
   "metadata": {},
   "outputs": [
    {
     "data": {
      "text/plain": [
       "booking_id                   object\n",
       "number_of_adults              int64\n",
       "number_of_children            int64\n",
       "number_of_weekend_nights      int64\n",
       "number_of_week_nights         int64\n",
       "type_of_meal                 object\n",
       "car_parking_space             int64\n",
       "room_type                    object\n",
       "lead_time                     int64\n",
       "market_segment_type          object\n",
       "repeated                      int64\n",
       "p-c                           int64\n",
       "p-not-c                       int64\n",
       "average_price               float64\n",
       "special_requests              int64\n",
       "date_of_reservation          object\n",
       "booking_status                int64\n",
       "month_of_reservation         object\n",
       "dtype: object"
      ]
     },
     "execution_count": 21,
     "metadata": {},
     "output_type": "execute_result"
    }
   ],
   "source": [
    "df_full_train.dtypes"
   ]
  },
  {
   "cell_type": "code",
   "execution_count": 22,
   "id": "1ef44bae-c3e5-40ba-8afb-67cbe6fcea4f",
   "metadata": {},
   "outputs": [
    {
     "data": {
      "text/plain": [
       "6"
      ]
     },
     "execution_count": 22,
     "metadata": {},
     "output_type": "execute_result"
    }
   ],
   "source": [
    "df['special_requests'].nunique()"
   ]
  },
  {
   "cell_type": "code",
   "execution_count": 23,
   "id": "85d4684e-5837-4d42-b7dc-efbf0c93d9d5",
   "metadata": {},
   "outputs": [
    {
     "data": {
      "text/plain": [
       "(6, 9)"
      ]
     },
     "execution_count": 23,
     "metadata": {},
     "output_type": "execute_result"
    }
   ],
   "source": [
    "numerical = ['number_of_adults','number_of_children','number_of_weekend_nights','number_of_week_nights','lead_time','p-c','p-not-c','average_price','special_requests']\n",
    "categorical = ['type_of_meal','room_type','market_segment_type','car_parking_space','repeated','month_of_reservation']\n",
    "len(categorical), len(numerical)"
   ]
  },
  {
   "cell_type": "code",
   "execution_count": 24,
   "id": "3d897f8c-c60b-458a-8f0b-68d64ca659ca",
   "metadata": {},
   "outputs": [
    {
     "name": "stdout",
     "output_type": "stream",
     "text": [
      "column - type_of_meal has 4 unique values\n",
      "['meal_plan_1' 'not_selected' 'meal_plan_2' 'meal_plan_3']\n",
      "column - room_type has 7 unique values\n",
      "['room_type_1' 'room_type_4' 'room_type_2' 'room_type_6' 'room_type_5'\n",
      " 'room_type_7' 'room_type_3']\n",
      "column - market_segment_type has 5 unique values\n",
      "['offline' 'online' 'corporate' 'aviation' 'complementary']\n",
      "column - car_parking_space has 2 unique values\n",
      "[0 1]\n",
      "column - repeated has 2 unique values\n",
      "[0 1]\n",
      "column - month_of_reservation has 12 unique values\n",
      "['Oct' 'Nov' 'Feb' 'May' 'Apr' 'Sep' 'Dec' 'Jul' 'Jun' 'Aug' 'Mar' 'Jan']\n"
     ]
    }
   ],
   "source": [
    "for i in categorical:\n",
    "    print(f'column - {i} has {df[i].nunique()} unique values')\n",
    "    print(df[i].unique())"
   ]
  },
  {
   "cell_type": "code",
   "execution_count": 25,
   "id": "3fae953d-ec10-4d3e-9225-edb0689d4cba",
   "metadata": {},
   "outputs": [],
   "source": [
    "#Feature importance\n",
    "#cancellation rate\n",
    "#risk ratio\n",
    "#mutual information\n"
   ]
  },
  {
   "cell_type": "code",
   "execution_count": 26,
   "id": "4899cfe0-41ac-44a6-b80c-d8a0d9a27fc2",
   "metadata": {},
   "outputs": [
    {
     "data": {
      "text/plain": [
       "room_type\n",
       "room_type_1    22537\n",
       "room_type_4     4800\n",
       "room_type_6      768\n",
       "room_type_2      542\n",
       "room_type_5      216\n",
       "room_type_7      128\n",
       "room_type_3        7\n",
       "Name: count, dtype: int64"
      ]
     },
     "execution_count": 26,
     "metadata": {},
     "output_type": "execute_result"
    }
   ],
   "source": [
    "#cancellation rate\n",
    "df_full_train['room_type'].value_counts()"
   ]
  },
  {
   "cell_type": "code",
   "execution_count": 27,
   "id": "242353a5-26d2-418d-963e-067c2e5b1546",
   "metadata": {},
   "outputs": [
    {
     "data": {
      "text/plain": [
       "0.006753782668500685"
      ]
     },
     "execution_count": 27,
     "metadata": {},
     "output_type": "execute_result"
    }
   ],
   "source": [
    "room_type1_cancellation = df_full_train[df_full_train['room_type'] == 'room_type_1']['booking_status'].mean()\n",
    "global_cancellation_rate - room_type1_cancellation"
   ]
  },
  {
   "cell_type": "code",
   "execution_count": 28,
   "id": "71b00659-ca3b-492f-9c0b-af70342805b3",
   "metadata": {},
   "outputs": [
    {
     "data": {
      "text/plain": [
       "-0.0021033210332103147"
      ]
     },
     "execution_count": 28,
     "metadata": {},
     "output_type": "execute_result"
    }
   ],
   "source": [
    "room_type2_cancellation = df_full_train[df_full_train['room_type'] == 'room_type_2']['booking_status'].mean()\n",
    "global_cancellation_rate - room_type2_cancellation"
   ]
  },
  {
   "cell_type": "code",
   "execution_count": 29,
   "id": "7585d30c-9518-4a74-ba5f-fc9273f0c50c",
   "metadata": {},
   "outputs": [
    {
     "data": {
      "text/plain": [
       "0.04428571428571432"
      ]
     },
     "execution_count": 29,
     "metadata": {},
     "output_type": "execute_result"
    }
   ],
   "source": [
    "room_type3_cancellation = df_full_train[df_full_train['room_type'] == 'room_type_3']['booking_status'].mean()\n",
    "global_cancellation_rate - room_type3_cancellation"
   ]
  },
  {
   "cell_type": "code",
   "execution_count": 30,
   "id": "d5134ca6-e2f5-47f1-8e4f-5c0ea4bbea53",
   "metadata": {},
   "outputs": [
    {
     "data": {
      "text/plain": [
       "(1.1030885497706944, 0.9198814120143824, 0.32831427601041546, 0.0)"
      ]
     },
     "execution_count": 30,
     "metadata": {},
     "output_type": "execute_result"
    }
   ],
   "source": [
    "#risk ratio\n",
    "\n",
    "online_cancellation = df_full_train[df_full_train['market_segment_type'] == 'online']['booking_status'].mean()\n",
    "offline_cancellation = df_full_train[df_full_train['market_segment_type'] == 'offline']['booking_status'].mean()\n",
    "corp_cancellation = df_full_train[df_full_train['market_segment_type'] == 'corporate']['booking_status'].mean()\n",
    "complem_cancellation = df_full_train[df_full_train['market_segment_type'] == 'complementary']['booking_status'].mean()\n",
    "online_cancellation_rate = online_cancellation/global_cancellation_rate\n",
    "offline_cancellation_rate = offline_cancellation/global_cancellation_rate\n",
    "corp_cancellation_rate = corp_cancellation/global_cancellation_rate\n",
    "complem_cancellation_rate = complem_cancellation/global_cancellation_rate\n",
    "online_cancellation_rate,offline_cancellation_rate,corp_cancellation_rate,complem_cancellation_rate\n"
   ]
  },
  {
   "cell_type": "code",
   "execution_count": 31,
   "id": "71fb80bc-eac1-478f-b12e-73a0db517fd0",
   "metadata": {},
   "outputs": [
    {
     "data": {
      "text/html": [
       "<div>\n",
       "<style scoped>\n",
       "    .dataframe tbody tr th:only-of-type {\n",
       "        vertical-align: middle;\n",
       "    }\n",
       "\n",
       "    .dataframe tbody tr th {\n",
       "        vertical-align: top;\n",
       "    }\n",
       "\n",
       "    .dataframe thead th {\n",
       "        text-align: right;\n",
       "    }\n",
       "</style>\n",
       "<table border=\"1\" class=\"dataframe\">\n",
       "  <thead>\n",
       "    <tr style=\"text-align: right;\">\n",
       "      <th></th>\n",
       "      <th>mean</th>\n",
       "      <th>count</th>\n",
       "      <th>diff</th>\n",
       "      <th>risk_ratio</th>\n",
       "    </tr>\n",
       "    <tr>\n",
       "      <th>room_type</th>\n",
       "      <th></th>\n",
       "      <th></th>\n",
       "      <th></th>\n",
       "      <th></th>\n",
       "    </tr>\n",
       "  </thead>\n",
       "  <tbody>\n",
       "    <tr>\n",
       "      <th>room_type_1</th>\n",
       "      <td>0.323246</td>\n",
       "      <td>22537</td>\n",
       "      <td>-0.006754</td>\n",
       "      <td>0.979534</td>\n",
       "    </tr>\n",
       "    <tr>\n",
       "      <th>room_type_2</th>\n",
       "      <td>0.332103</td>\n",
       "      <td>542</td>\n",
       "      <td>0.002103</td>\n",
       "      <td>1.006374</td>\n",
       "    </tr>\n",
       "    <tr>\n",
       "      <th>room_type_3</th>\n",
       "      <td>0.285714</td>\n",
       "      <td>7</td>\n",
       "      <td>-0.044286</td>\n",
       "      <td>0.865801</td>\n",
       "    </tr>\n",
       "    <tr>\n",
       "      <th>room_type_4</th>\n",
       "      <td>0.339583</td>\n",
       "      <td>4800</td>\n",
       "      <td>0.009583</td>\n",
       "      <td>1.029040</td>\n",
       "    </tr>\n",
       "    <tr>\n",
       "      <th>room_type_5</th>\n",
       "      <td>0.277778</td>\n",
       "      <td>216</td>\n",
       "      <td>-0.052222</td>\n",
       "      <td>0.841751</td>\n",
       "    </tr>\n",
       "    <tr>\n",
       "      <th>room_type_6</th>\n",
       "      <td>0.423177</td>\n",
       "      <td>768</td>\n",
       "      <td>0.093177</td>\n",
       "      <td>1.282355</td>\n",
       "    </tr>\n",
       "    <tr>\n",
       "      <th>room_type_7</th>\n",
       "      <td>0.242188</td>\n",
       "      <td>128</td>\n",
       "      <td>-0.087813</td>\n",
       "      <td>0.733902</td>\n",
       "    </tr>\n",
       "  </tbody>\n",
       "</table>\n",
       "</div>"
      ],
      "text/plain": [
       "                 mean  count      diff  risk_ratio\n",
       "room_type                                         \n",
       "room_type_1  0.323246  22537 -0.006754    0.979534\n",
       "room_type_2  0.332103    542  0.002103    1.006374\n",
       "room_type_3  0.285714      7 -0.044286    0.865801\n",
       "room_type_4  0.339583   4800  0.009583    1.029040\n",
       "room_type_5  0.277778    216 -0.052222    0.841751\n",
       "room_type_6  0.423177    768  0.093177    1.282355\n",
       "room_type_7  0.242188    128 -0.087813    0.733902"
      ]
     },
     "execution_count": 31,
     "metadata": {},
     "output_type": "execute_result"
    }
   ],
   "source": [
    "df_group = df_full_train.groupby('room_type').booking_status.agg(['mean', 'count'])\n",
    "df_group['diff'] = df_group['mean'] - global_cancellation_rate\n",
    "df_group['risk_ratio'] = df_group['mean'] / global_cancellation_rate\n",
    "df_group"
   ]
  },
  {
   "cell_type": "code",
   "execution_count": 32,
   "id": "16c1e86f-e8da-4950-8220-236116765b2d",
   "metadata": {},
   "outputs": [
    {
     "data": {
      "text/html": [
       "<div>\n",
       "<style scoped>\n",
       "    .dataframe tbody tr th:only-of-type {\n",
       "        vertical-align: middle;\n",
       "    }\n",
       "\n",
       "    .dataframe tbody tr th {\n",
       "        vertical-align: top;\n",
       "    }\n",
       "\n",
       "    .dataframe thead th {\n",
       "        text-align: right;\n",
       "    }\n",
       "</style>\n",
       "<table border=\"1\" class=\"dataframe\">\n",
       "  <thead>\n",
       "    <tr style=\"text-align: right;\">\n",
       "      <th></th>\n",
       "      <th>mean</th>\n",
       "      <th>count</th>\n",
       "      <th>diff</th>\n",
       "      <th>risk_ratio</th>\n",
       "    </tr>\n",
       "    <tr>\n",
       "      <th>type_of_meal</th>\n",
       "      <th></th>\n",
       "      <th></th>\n",
       "      <th></th>\n",
       "      <th></th>\n",
       "    </tr>\n",
       "  </thead>\n",
       "  <tbody>\n",
       "    <tr>\n",
       "      <th>meal_plan_1</th>\n",
       "      <td>0.310597</td>\n",
       "      <td>22167</td>\n",
       "      <td>-0.019403</td>\n",
       "      <td>0.941203</td>\n",
       "    </tr>\n",
       "    <tr>\n",
       "      <th>meal_plan_2</th>\n",
       "      <td>0.469441</td>\n",
       "      <td>2667</td>\n",
       "      <td>0.139441</td>\n",
       "      <td>1.422549</td>\n",
       "    </tr>\n",
       "    <tr>\n",
       "      <th>meal_plan_3</th>\n",
       "      <td>0.250000</td>\n",
       "      <td>4</td>\n",
       "      <td>-0.080000</td>\n",
       "      <td>0.757576</td>\n",
       "    </tr>\n",
       "    <tr>\n",
       "      <th>not_selected</th>\n",
       "      <td>0.330529</td>\n",
       "      <td>4160</td>\n",
       "      <td>0.000529</td>\n",
       "      <td>1.001603</td>\n",
       "    </tr>\n",
       "  </tbody>\n",
       "</table>\n",
       "</div>"
      ],
      "text/plain": [
       "                  mean  count      diff  risk_ratio\n",
       "type_of_meal                                       \n",
       "meal_plan_1   0.310597  22167 -0.019403    0.941203\n",
       "meal_plan_2   0.469441   2667  0.139441    1.422549\n",
       "meal_plan_3   0.250000      4 -0.080000    0.757576\n",
       "not_selected  0.330529   4160  0.000529    1.001603"
      ]
     },
     "metadata": {},
     "output_type": "display_data"
    },
    {
     "data": {
      "text/html": [
       "<div>\n",
       "<style scoped>\n",
       "    .dataframe tbody tr th:only-of-type {\n",
       "        vertical-align: middle;\n",
       "    }\n",
       "\n",
       "    .dataframe tbody tr th {\n",
       "        vertical-align: top;\n",
       "    }\n",
       "\n",
       "    .dataframe thead th {\n",
       "        text-align: right;\n",
       "    }\n",
       "</style>\n",
       "<table border=\"1\" class=\"dataframe\">\n",
       "  <thead>\n",
       "    <tr style=\"text-align: right;\">\n",
       "      <th></th>\n",
       "      <th>mean</th>\n",
       "      <th>count</th>\n",
       "      <th>diff</th>\n",
       "      <th>risk_ratio</th>\n",
       "    </tr>\n",
       "    <tr>\n",
       "      <th>room_type</th>\n",
       "      <th></th>\n",
       "      <th></th>\n",
       "      <th></th>\n",
       "      <th></th>\n",
       "    </tr>\n",
       "  </thead>\n",
       "  <tbody>\n",
       "    <tr>\n",
       "      <th>room_type_1</th>\n",
       "      <td>0.323246</td>\n",
       "      <td>22537</td>\n",
       "      <td>-0.006754</td>\n",
       "      <td>0.979534</td>\n",
       "    </tr>\n",
       "    <tr>\n",
       "      <th>room_type_2</th>\n",
       "      <td>0.332103</td>\n",
       "      <td>542</td>\n",
       "      <td>0.002103</td>\n",
       "      <td>1.006374</td>\n",
       "    </tr>\n",
       "    <tr>\n",
       "      <th>room_type_3</th>\n",
       "      <td>0.285714</td>\n",
       "      <td>7</td>\n",
       "      <td>-0.044286</td>\n",
       "      <td>0.865801</td>\n",
       "    </tr>\n",
       "    <tr>\n",
       "      <th>room_type_4</th>\n",
       "      <td>0.339583</td>\n",
       "      <td>4800</td>\n",
       "      <td>0.009583</td>\n",
       "      <td>1.029040</td>\n",
       "    </tr>\n",
       "    <tr>\n",
       "      <th>room_type_5</th>\n",
       "      <td>0.277778</td>\n",
       "      <td>216</td>\n",
       "      <td>-0.052222</td>\n",
       "      <td>0.841751</td>\n",
       "    </tr>\n",
       "    <tr>\n",
       "      <th>room_type_6</th>\n",
       "      <td>0.423177</td>\n",
       "      <td>768</td>\n",
       "      <td>0.093177</td>\n",
       "      <td>1.282355</td>\n",
       "    </tr>\n",
       "    <tr>\n",
       "      <th>room_type_7</th>\n",
       "      <td>0.242188</td>\n",
       "      <td>128</td>\n",
       "      <td>-0.087813</td>\n",
       "      <td>0.733902</td>\n",
       "    </tr>\n",
       "  </tbody>\n",
       "</table>\n",
       "</div>"
      ],
      "text/plain": [
       "                 mean  count      diff  risk_ratio\n",
       "room_type                                         \n",
       "room_type_1  0.323246  22537 -0.006754    0.979534\n",
       "room_type_2  0.332103    542  0.002103    1.006374\n",
       "room_type_3  0.285714      7 -0.044286    0.865801\n",
       "room_type_4  0.339583   4800  0.009583    1.029040\n",
       "room_type_5  0.277778    216 -0.052222    0.841751\n",
       "room_type_6  0.423177    768  0.093177    1.282355\n",
       "room_type_7  0.242188    128 -0.087813    0.733902"
      ]
     },
     "metadata": {},
     "output_type": "display_data"
    },
    {
     "data": {
      "text/html": [
       "<div>\n",
       "<style scoped>\n",
       "    .dataframe tbody tr th:only-of-type {\n",
       "        vertical-align: middle;\n",
       "    }\n",
       "\n",
       "    .dataframe tbody tr th {\n",
       "        vertical-align: top;\n",
       "    }\n",
       "\n",
       "    .dataframe thead th {\n",
       "        text-align: right;\n",
       "    }\n",
       "</style>\n",
       "<table border=\"1\" class=\"dataframe\">\n",
       "  <thead>\n",
       "    <tr style=\"text-align: right;\">\n",
       "      <th></th>\n",
       "      <th>mean</th>\n",
       "      <th>count</th>\n",
       "      <th>diff</th>\n",
       "      <th>risk_ratio</th>\n",
       "    </tr>\n",
       "    <tr>\n",
       "      <th>market_segment_type</th>\n",
       "      <th></th>\n",
       "      <th></th>\n",
       "      <th></th>\n",
       "      <th></th>\n",
       "    </tr>\n",
       "  </thead>\n",
       "  <tbody>\n",
       "    <tr>\n",
       "      <th>aviation</th>\n",
       "      <td>0.298077</td>\n",
       "      <td>104</td>\n",
       "      <td>-0.031923</td>\n",
       "      <td>0.903263</td>\n",
       "    </tr>\n",
       "    <tr>\n",
       "      <th>complementary</th>\n",
       "      <td>0.000000</td>\n",
       "      <td>314</td>\n",
       "      <td>-0.330000</td>\n",
       "      <td>0.000000</td>\n",
       "    </tr>\n",
       "    <tr>\n",
       "      <th>corporate</th>\n",
       "      <td>0.108344</td>\n",
       "      <td>1606</td>\n",
       "      <td>-0.221656</td>\n",
       "      <td>0.328314</td>\n",
       "    </tr>\n",
       "    <tr>\n",
       "      <th>offline</th>\n",
       "      <td>0.303561</td>\n",
       "      <td>8453</td>\n",
       "      <td>-0.026439</td>\n",
       "      <td>0.919881</td>\n",
       "    </tr>\n",
       "    <tr>\n",
       "      <th>online</th>\n",
       "      <td>0.364019</td>\n",
       "      <td>18521</td>\n",
       "      <td>0.034019</td>\n",
       "      <td>1.103089</td>\n",
       "    </tr>\n",
       "  </tbody>\n",
       "</table>\n",
       "</div>"
      ],
      "text/plain": [
       "                         mean  count      diff  risk_ratio\n",
       "market_segment_type                                       \n",
       "aviation             0.298077    104 -0.031923    0.903263\n",
       "complementary        0.000000    314 -0.330000    0.000000\n",
       "corporate            0.108344   1606 -0.221656    0.328314\n",
       "offline              0.303561   8453 -0.026439    0.919881\n",
       "online               0.364019  18521  0.034019    1.103089"
      ]
     },
     "metadata": {},
     "output_type": "display_data"
    },
    {
     "data": {
      "text/html": [
       "<div>\n",
       "<style scoped>\n",
       "    .dataframe tbody tr th:only-of-type {\n",
       "        vertical-align: middle;\n",
       "    }\n",
       "\n",
       "    .dataframe tbody tr th {\n",
       "        vertical-align: top;\n",
       "    }\n",
       "\n",
       "    .dataframe thead th {\n",
       "        text-align: right;\n",
       "    }\n",
       "</style>\n",
       "<table border=\"1\" class=\"dataframe\">\n",
       "  <thead>\n",
       "    <tr style=\"text-align: right;\">\n",
       "      <th></th>\n",
       "      <th>mean</th>\n",
       "      <th>count</th>\n",
       "      <th>diff</th>\n",
       "      <th>risk_ratio</th>\n",
       "    </tr>\n",
       "    <tr>\n",
       "      <th>car_parking_space</th>\n",
       "      <th></th>\n",
       "      <th></th>\n",
       "      <th></th>\n",
       "      <th></th>\n",
       "    </tr>\n",
       "  </thead>\n",
       "  <tbody>\n",
       "    <tr>\n",
       "      <th>0</th>\n",
       "      <td>0.335196</td>\n",
       "      <td>28094</td>\n",
       "      <td>0.005196</td>\n",
       "      <td>1.015746</td>\n",
       "    </tr>\n",
       "    <tr>\n",
       "      <th>1</th>\n",
       "      <td>0.106195</td>\n",
       "      <td>904</td>\n",
       "      <td>-0.223805</td>\n",
       "      <td>0.321802</td>\n",
       "    </tr>\n",
       "  </tbody>\n",
       "</table>\n",
       "</div>"
      ],
      "text/plain": [
       "                       mean  count      diff  risk_ratio\n",
       "car_parking_space                                       \n",
       "0                  0.335196  28094  0.005196    1.015746\n",
       "1                  0.106195    904 -0.223805    0.321802"
      ]
     },
     "metadata": {},
     "output_type": "display_data"
    },
    {
     "data": {
      "text/html": [
       "<div>\n",
       "<style scoped>\n",
       "    .dataframe tbody tr th:only-of-type {\n",
       "        vertical-align: middle;\n",
       "    }\n",
       "\n",
       "    .dataframe tbody tr th {\n",
       "        vertical-align: top;\n",
       "    }\n",
       "\n",
       "    .dataframe thead th {\n",
       "        text-align: right;\n",
       "    }\n",
       "</style>\n",
       "<table border=\"1\" class=\"dataframe\">\n",
       "  <thead>\n",
       "    <tr style=\"text-align: right;\">\n",
       "      <th></th>\n",
       "      <th>mean</th>\n",
       "      <th>count</th>\n",
       "      <th>diff</th>\n",
       "      <th>risk_ratio</th>\n",
       "    </tr>\n",
       "    <tr>\n",
       "      <th>repeated</th>\n",
       "      <th></th>\n",
       "      <th></th>\n",
       "      <th></th>\n",
       "      <th></th>\n",
       "    </tr>\n",
       "  </thead>\n",
       "  <tbody>\n",
       "    <tr>\n",
       "      <th>0</th>\n",
       "      <td>0.336141</td>\n",
       "      <td>28259</td>\n",
       "      <td>0.006141</td>\n",
       "      <td>1.018608</td>\n",
       "    </tr>\n",
       "    <tr>\n",
       "      <th>1</th>\n",
       "      <td>0.018945</td>\n",
       "      <td>739</td>\n",
       "      <td>-0.311055</td>\n",
       "      <td>0.057408</td>\n",
       "    </tr>\n",
       "  </tbody>\n",
       "</table>\n",
       "</div>"
      ],
      "text/plain": [
       "              mean  count      diff  risk_ratio\n",
       "repeated                                       \n",
       "0         0.336141  28259  0.006141    1.018608\n",
       "1         0.018945    739 -0.311055    0.057408"
      ]
     },
     "metadata": {},
     "output_type": "display_data"
    },
    {
     "data": {
      "text/html": [
       "<div>\n",
       "<style scoped>\n",
       "    .dataframe tbody tr th:only-of-type {\n",
       "        vertical-align: middle;\n",
       "    }\n",
       "\n",
       "    .dataframe tbody tr th {\n",
       "        vertical-align: top;\n",
       "    }\n",
       "\n",
       "    .dataframe thead th {\n",
       "        text-align: right;\n",
       "    }\n",
       "</style>\n",
       "<table border=\"1\" class=\"dataframe\">\n",
       "  <thead>\n",
       "    <tr style=\"text-align: right;\">\n",
       "      <th></th>\n",
       "      <th>mean</th>\n",
       "      <th>count</th>\n",
       "      <th>diff</th>\n",
       "      <th>risk_ratio</th>\n",
       "    </tr>\n",
       "    <tr>\n",
       "      <th>month_of_reservation</th>\n",
       "      <th></th>\n",
       "      <th></th>\n",
       "      <th></th>\n",
       "      <th></th>\n",
       "    </tr>\n",
       "  </thead>\n",
       "  <tbody>\n",
       "    <tr>\n",
       "      <th>Apr</th>\n",
       "      <td>0.367800</td>\n",
       "      <td>2205</td>\n",
       "      <td>0.037800</td>\n",
       "      <td>1.114547</td>\n",
       "    </tr>\n",
       "    <tr>\n",
       "      <th>Aug</th>\n",
       "      <td>0.391547</td>\n",
       "      <td>3052</td>\n",
       "      <td>0.061547</td>\n",
       "      <td>1.186505</td>\n",
       "    </tr>\n",
       "    <tr>\n",
       "      <th>Dec</th>\n",
       "      <td>0.129983</td>\n",
       "      <td>2408</td>\n",
       "      <td>-0.200017</td>\n",
       "      <td>0.393889</td>\n",
       "    </tr>\n",
       "    <tr>\n",
       "      <th>Feb</th>\n",
       "      <td>0.258089</td>\n",
       "      <td>1329</td>\n",
       "      <td>-0.071911</td>\n",
       "      <td>0.782087</td>\n",
       "    </tr>\n",
       "    <tr>\n",
       "      <th>Jan</th>\n",
       "      <td>0.023691</td>\n",
       "      <td>802</td>\n",
       "      <td>-0.306309</td>\n",
       "      <td>0.071790</td>\n",
       "    </tr>\n",
       "    <tr>\n",
       "      <th>Jul</th>\n",
       "      <td>0.450596</td>\n",
       "      <td>2348</td>\n",
       "      <td>0.120596</td>\n",
       "      <td>1.365443</td>\n",
       "    </tr>\n",
       "    <tr>\n",
       "      <th>Jun</th>\n",
       "      <td>0.401491</td>\n",
       "      <td>2548</td>\n",
       "      <td>0.071491</td>\n",
       "      <td>1.216641</td>\n",
       "    </tr>\n",
       "    <tr>\n",
       "      <th>Mar</th>\n",
       "      <td>0.295924</td>\n",
       "      <td>1889</td>\n",
       "      <td>-0.034076</td>\n",
       "      <td>0.896739</td>\n",
       "    </tr>\n",
       "    <tr>\n",
       "      <th>May</th>\n",
       "      <td>0.372963</td>\n",
       "      <td>2086</td>\n",
       "      <td>0.042963</td>\n",
       "      <td>1.130190</td>\n",
       "    </tr>\n",
       "    <tr>\n",
       "      <th>Nov</th>\n",
       "      <td>0.287809</td>\n",
       "      <td>2387</td>\n",
       "      <td>-0.042191</td>\n",
       "      <td>0.872148</td>\n",
       "    </tr>\n",
       "    <tr>\n",
       "      <th>Oct</th>\n",
       "      <td>0.354511</td>\n",
       "      <td>4234</td>\n",
       "      <td>0.024511</td>\n",
       "      <td>1.074276</td>\n",
       "    </tr>\n",
       "    <tr>\n",
       "      <th>Sep</th>\n",
       "      <td>0.330458</td>\n",
       "      <td>3710</td>\n",
       "      <td>0.000458</td>\n",
       "      <td>1.001389</td>\n",
       "    </tr>\n",
       "  </tbody>\n",
       "</table>\n",
       "</div>"
      ],
      "text/plain": [
       "                          mean  count      diff  risk_ratio\n",
       "month_of_reservation                                       \n",
       "Apr                   0.367800   2205  0.037800    1.114547\n",
       "Aug                   0.391547   3052  0.061547    1.186505\n",
       "Dec                   0.129983   2408 -0.200017    0.393889\n",
       "Feb                   0.258089   1329 -0.071911    0.782087\n",
       "Jan                   0.023691    802 -0.306309    0.071790\n",
       "Jul                   0.450596   2348  0.120596    1.365443\n",
       "Jun                   0.401491   2548  0.071491    1.216641\n",
       "Mar                   0.295924   1889 -0.034076    0.896739\n",
       "May                   0.372963   2086  0.042963    1.130190\n",
       "Nov                   0.287809   2387 -0.042191    0.872148\n",
       "Oct                   0.354511   4234  0.024511    1.074276\n",
       "Sep                   0.330458   3710  0.000458    1.001389"
      ]
     },
     "metadata": {},
     "output_type": "display_data"
    }
   ],
   "source": [
    "from IPython.display import display\n",
    "\n",
    "for c in categorical:\n",
    "    df_group = df_full_train.groupby(c).booking_status.agg(['mean', 'count'])\n",
    "    df_group['diff'] = df_group['mean'] - global_cancellation_rate\n",
    "    df_group['risk_ratio'] = df_group['mean'] / global_cancellation_rate\n",
    "    display(df_group)"
   ]
  },
  {
   "cell_type": "code",
   "execution_count": 33,
   "id": "5ebb3129-67e8-4158-8d6d-97ef5b6dd543",
   "metadata": {},
   "outputs": [],
   "source": [
    "#looks like market segment = online | aviation is more likely to cancel\n",
    "#looks like non repeated booking is more likely to cancel\n",
    "#looks like Room type 3,4,6 are more likely to cancel\n",
    "#looks like meal type 2 is likely to cancel\n",
    "#looks like booking in 7th (july) month is likely to have cancellation"
   ]
  },
  {
   "cell_type": "code",
   "execution_count": 34,
   "id": "d9d2c38e-d67b-4a44-8245-981f181e511b",
   "metadata": {},
   "outputs": [],
   "source": [
    "from sklearn.metrics import mutual_info_score"
   ]
  },
  {
   "cell_type": "code",
   "execution_count": 35,
   "id": "290e5d0f-7e88-4219-8db5-3a4f2619744f",
   "metadata": {},
   "outputs": [],
   "source": [
    "def mutual_info_churn_score(series):\n",
    "    return mutual_info_score(series, df_full_train['booking_status'])"
   ]
  },
  {
   "cell_type": "code",
   "execution_count": 36,
   "id": "d28cb8c9-4aec-46fa-a488-a2a7b5cb62ce",
   "metadata": {},
   "outputs": [
    {
     "data": {
      "text/plain": [
       "month_of_reservation    0.023450\n",
       "market_segment_type     0.013879\n",
       "repeated                0.008229\n",
       "type_of_meal            0.004482\n",
       "car_parking_space       0.004328\n",
       "room_type               0.000736\n",
       "dtype: float64"
      ]
     },
     "execution_count": 36,
     "metadata": {},
     "output_type": "execute_result"
    }
   ],
   "source": [
    "mi = df_full_train[categorical].apply(mutual_info_churn_score)\n",
    "mi.sort_values(ascending=False)"
   ]
  },
  {
   "cell_type": "code",
   "execution_count": 37,
   "id": "babc393e-277b-4842-a98b-afe6bf62ed2f",
   "metadata": {},
   "outputs": [],
   "source": [
    "#coreelation"
   ]
  },
  {
   "cell_type": "code",
   "execution_count": 38,
   "id": "525bbcdf-c56b-45ee-8cb9-ad74c3137ffd",
   "metadata": {},
   "outputs": [
    {
     "data": {
      "text/plain": [
       "number_of_adults            0.088697\n",
       "number_of_children          0.032400\n",
       "number_of_weekend_nights    0.059945\n",
       "number_of_week_nights       0.086407\n",
       "lead_time                   0.443466\n",
       "p-c                         0.031505\n",
       "p-not-c                     0.060004\n",
       "average_price               0.144550\n",
       "special_requests            0.254390\n",
       "dtype: float64"
      ]
     },
     "execution_count": 38,
     "metadata": {},
     "output_type": "execute_result"
    }
   ],
   "source": [
    "df_full_train[numerical].corrwith(df_full_train['booking_status']).abs()\n",
    "#discount_offered and weiight have moderate \n",
    "#lead time seems to have moderate correlation"
   ]
  },
  {
   "cell_type": "code",
   "execution_count": 39,
   "id": "b2dfaeda-f53b-4356-b204-b071a2283ff5",
   "metadata": {},
   "outputs": [
    {
     "data": {
      "text/plain": [
       "39"
      ]
     },
     "execution_count": 39,
     "metadata": {},
     "output_type": "execute_result"
    }
   ],
   "source": [
    "from sklearn.feature_extraction import DictVectorizer\n",
    "\n",
    "dv = DictVectorizer(sparse=False)\n",
    "train_dict = df_train[categorical + numerical].to_dict(orient='records')\n",
    "X_train = dv.fit_transform(train_dict)\n",
    "features = dv.get_feature_names_out()\n",
    "\n",
    "val_dict = df_val[categorical + numerical].to_dict(orient='records')\n",
    "X_val = dv.transform(val_dict)\n",
    "len(dv.get_feature_names_out())\n"
   ]
  },
  {
   "cell_type": "code",
   "execution_count": 40,
   "id": "e093bfd2-317e-476e-aa23-f82dac815a23",
   "metadata": {},
   "outputs": [],
   "source": [
    "from sklearn.linear_model import LogisticRegression"
   ]
  },
  {
   "cell_type": "code",
   "execution_count": 41,
   "id": "f871096e-e71a-4e98-b97a-50208d9d79d9",
   "metadata": {},
   "outputs": [
    {
     "name": "stderr",
     "output_type": "stream",
     "text": [
      "/Users/balajig/.local/share/virtualenvs/trainer-L1X3NtCU/lib/python3.10/site-packages/sklearn/linear_model/_logistic.py:460: ConvergenceWarning: lbfgs failed to converge (status=1):\n",
      "STOP: TOTAL NO. of ITERATIONS REACHED LIMIT.\n",
      "\n",
      "Increase the number of iterations (max_iter) or scale the data as shown in:\n",
      "    https://scikit-learn.org/stable/modules/preprocessing.html\n",
      "Please also refer to the documentation for alternative solver options:\n",
      "    https://scikit-learn.org/stable/modules/linear_model.html#logistic-regression\n",
      "  n_iter_i = _check_optimize_result(\n"
     ]
    },
    {
     "data": {
      "text/html": [
       "<style>#sk-container-id-1 {color: black;}#sk-container-id-1 pre{padding: 0;}#sk-container-id-1 div.sk-toggleable {background-color: white;}#sk-container-id-1 label.sk-toggleable__label {cursor: pointer;display: block;width: 100%;margin-bottom: 0;padding: 0.3em;box-sizing: border-box;text-align: center;}#sk-container-id-1 label.sk-toggleable__label-arrow:before {content: \"▸\";float: left;margin-right: 0.25em;color: #696969;}#sk-container-id-1 label.sk-toggleable__label-arrow:hover:before {color: black;}#sk-container-id-1 div.sk-estimator:hover label.sk-toggleable__label-arrow:before {color: black;}#sk-container-id-1 div.sk-toggleable__content {max-height: 0;max-width: 0;overflow: hidden;text-align: left;background-color: #f0f8ff;}#sk-container-id-1 div.sk-toggleable__content pre {margin: 0.2em;color: black;border-radius: 0.25em;background-color: #f0f8ff;}#sk-container-id-1 input.sk-toggleable__control:checked~div.sk-toggleable__content {max-height: 200px;max-width: 100%;overflow: auto;}#sk-container-id-1 input.sk-toggleable__control:checked~label.sk-toggleable__label-arrow:before {content: \"▾\";}#sk-container-id-1 div.sk-estimator input.sk-toggleable__control:checked~label.sk-toggleable__label {background-color: #d4ebff;}#sk-container-id-1 div.sk-label input.sk-toggleable__control:checked~label.sk-toggleable__label {background-color: #d4ebff;}#sk-container-id-1 input.sk-hidden--visually {border: 0;clip: rect(1px 1px 1px 1px);clip: rect(1px, 1px, 1px, 1px);height: 1px;margin: -1px;overflow: hidden;padding: 0;position: absolute;width: 1px;}#sk-container-id-1 div.sk-estimator {font-family: monospace;background-color: #f0f8ff;border: 1px dotted black;border-radius: 0.25em;box-sizing: border-box;margin-bottom: 0.5em;}#sk-container-id-1 div.sk-estimator:hover {background-color: #d4ebff;}#sk-container-id-1 div.sk-parallel-item::after {content: \"\";width: 100%;border-bottom: 1px solid gray;flex-grow: 1;}#sk-container-id-1 div.sk-label:hover label.sk-toggleable__label {background-color: #d4ebff;}#sk-container-id-1 div.sk-serial::before {content: \"\";position: absolute;border-left: 1px solid gray;box-sizing: border-box;top: 0;bottom: 0;left: 50%;z-index: 0;}#sk-container-id-1 div.sk-serial {display: flex;flex-direction: column;align-items: center;background-color: white;padding-right: 0.2em;padding-left: 0.2em;position: relative;}#sk-container-id-1 div.sk-item {position: relative;z-index: 1;}#sk-container-id-1 div.sk-parallel {display: flex;align-items: stretch;justify-content: center;background-color: white;position: relative;}#sk-container-id-1 div.sk-item::before, #sk-container-id-1 div.sk-parallel-item::before {content: \"\";position: absolute;border-left: 1px solid gray;box-sizing: border-box;top: 0;bottom: 0;left: 50%;z-index: -1;}#sk-container-id-1 div.sk-parallel-item {display: flex;flex-direction: column;z-index: 1;position: relative;background-color: white;}#sk-container-id-1 div.sk-parallel-item:first-child::after {align-self: flex-end;width: 50%;}#sk-container-id-1 div.sk-parallel-item:last-child::after {align-self: flex-start;width: 50%;}#sk-container-id-1 div.sk-parallel-item:only-child::after {width: 0;}#sk-container-id-1 div.sk-dashed-wrapped {border: 1px dashed gray;margin: 0 0.4em 0.5em 0.4em;box-sizing: border-box;padding-bottom: 0.4em;background-color: white;}#sk-container-id-1 div.sk-label label {font-family: monospace;font-weight: bold;display: inline-block;line-height: 1.2em;}#sk-container-id-1 div.sk-label-container {text-align: center;}#sk-container-id-1 div.sk-container {/* jupyter's `normalize.less` sets `[hidden] { display: none; }` but bootstrap.min.css set `[hidden] { display: none !important; }` so we also need the `!important` here to be able to override the default hidden behavior on the sphinx rendered scikit-learn.org. See: https://github.com/scikit-learn/scikit-learn/issues/21755 */display: inline-block !important;position: relative;}#sk-container-id-1 div.sk-text-repr-fallback {display: none;}</style><div id=\"sk-container-id-1\" class=\"sk-top-container\"><div class=\"sk-text-repr-fallback\"><pre>LogisticRegression(max_iter=1000)</pre><b>In a Jupyter environment, please rerun this cell to show the HTML representation or trust the notebook. <br />On GitHub, the HTML representation is unable to render, please try loading this page with nbviewer.org.</b></div><div class=\"sk-container\" hidden><div class=\"sk-item\"><div class=\"sk-estimator sk-toggleable\"><input class=\"sk-toggleable__control sk-hidden--visually\" id=\"sk-estimator-id-1\" type=\"checkbox\" checked><label for=\"sk-estimator-id-1\" class=\"sk-toggleable__label sk-toggleable__label-arrow\">LogisticRegression</label><div class=\"sk-toggleable__content\"><pre>LogisticRegression(max_iter=1000)</pre></div></div></div></div></div>"
      ],
      "text/plain": [
       "LogisticRegression(max_iter=1000)"
      ]
     },
     "execution_count": 41,
     "metadata": {},
     "output_type": "execute_result"
    }
   ],
   "source": [
    "model = LogisticRegression(solver='lbfgs',max_iter=1000)\n",
    "model.fit(X_train, y_train)"
   ]
  },
  {
   "cell_type": "code",
   "execution_count": 42,
   "id": "8288e7fb-c776-47ac-9b30-53232f269400",
   "metadata": {},
   "outputs": [
    {
     "data": {
      "text/plain": [
       "-2.776079468841352"
      ]
     },
     "execution_count": 42,
     "metadata": {},
     "output_type": "execute_result"
    }
   ],
   "source": [
    "model.intercept_[0]"
   ]
  },
  {
   "cell_type": "code",
   "execution_count": 43,
   "id": "de18f56f-f034-49c9-9414-be95d2d8aa49",
   "metadata": {},
   "outputs": [
    {
     "data": {
      "text/plain": [
       "array([ 0.02 , -1.434,  0.017,  0.395, -0.807, -0.604, -1.664,  0.219,\n",
       "        0.162, -0.167, -1.498,  0.803, -2.051, -0.143,  0.066,  0.391,\n",
       "       -0.129,  0.422, -0.015, -0.302,  0.119,  0.188,  0.059,  0.158,\n",
       "        0.228, -0.104, -1.14 ,  0.157, -0.062, -0.026, -0.061, -0.601,\n",
       "       -0.832, -1.036, -1.518, -1.008, -0.825,  0.056, -0.685])"
      ]
     },
     "execution_count": 43,
     "metadata": {},
     "output_type": "execute_result"
    }
   ],
   "source": [
    "model.coef_[0].round(3)"
   ]
  },
  {
   "cell_type": "code",
   "execution_count": 44,
   "id": "05ddd411-c843-42b6-b0c9-fad653604f1f",
   "metadata": {},
   "outputs": [
    {
     "data": {
      "text/plain": [
       "{'average_price': 0.02,\n",
       " 'car_parking_space': -1.434,\n",
       " 'lead_time': 0.017,\n",
       " 'market_segment_type=aviation': 0.395,\n",
       " 'market_segment_type=complementary': -0.807,\n",
       " 'market_segment_type=corporate': -0.604,\n",
       " 'market_segment_type=offline': -1.664,\n",
       " 'market_segment_type=online': 0.219,\n",
       " 'month_of_reservation=Apr': 0.162,\n",
       " 'month_of_reservation=Aug': -0.167,\n",
       " 'month_of_reservation=Dec': -1.498,\n",
       " 'month_of_reservation=Feb': 0.803,\n",
       " 'month_of_reservation=Jan': -2.051,\n",
       " 'month_of_reservation=Jul': -0.143,\n",
       " 'month_of_reservation=Jun': 0.066,\n",
       " 'month_of_reservation=Mar': 0.391,\n",
       " 'month_of_reservation=May': -0.129,\n",
       " 'month_of_reservation=Nov': 0.422,\n",
       " 'month_of_reservation=Oct': -0.015,\n",
       " 'month_of_reservation=Sep': -0.302,\n",
       " 'number_of_adults': 0.119,\n",
       " 'number_of_children': 0.188,\n",
       " 'number_of_week_nights': 0.059,\n",
       " 'number_of_weekend_nights': 0.158,\n",
       " 'p-c': 0.228,\n",
       " 'p-not-c': -0.104,\n",
       " 'repeated': -1.14,\n",
       " 'room_type=room_type_1': 0.157,\n",
       " 'room_type=room_type_2': -0.062,\n",
       " 'room_type=room_type_3': -0.026,\n",
       " 'room_type=room_type_4': -0.061,\n",
       " 'room_type=room_type_5': -0.601,\n",
       " 'room_type=room_type_6': -0.832,\n",
       " 'room_type=room_type_7': -1.036,\n",
       " 'special_requests': -1.518,\n",
       " 'type_of_meal=meal_plan_1': -1.008,\n",
       " 'type_of_meal=meal_plan_2': -0.825,\n",
       " 'type_of_meal=meal_plan_3': 0.056,\n",
       " 'type_of_meal=not_selected': -0.685}"
      ]
     },
     "execution_count": 44,
     "metadata": {},
     "output_type": "execute_result"
    }
   ],
   "source": [
    "#features = dv.get_feature_names_out()\n",
    "features\n",
    "dict(zip(features, model.coef_[0].round(3)))"
   ]
  },
  {
   "cell_type": "code",
   "execution_count": 45,
   "id": "8f8b3866-f41d-4eac-bae2-80a245a5ea40",
   "metadata": {},
   "outputs": [
    {
     "data": {
      "text/plain": [
       "array([0.41291059, 0.47172717, 0.58011297, ..., 0.00448048, 0.56704521,\n",
       "       0.00527581])"
      ]
     },
     "execution_count": 45,
     "metadata": {},
     "output_type": "execute_result"
    }
   ],
   "source": [
    "y_pred = model.predict_proba(X_val)[:,1]\n",
    "y_pred"
   ]
  },
  {
   "cell_type": "code",
   "execution_count": 46,
   "id": "10dd0b32-0ea5-4c47-82da-da59afb12311",
   "metadata": {},
   "outputs": [],
   "source": [
    "cancelled = (y_pred >=0.5)\n"
   ]
  },
  {
   "cell_type": "code",
   "execution_count": 47,
   "id": "36776923-b7de-4568-9111-c131ff052916",
   "metadata": {},
   "outputs": [
    {
     "data": {
      "text/plain": [
       "0.8140689655172414"
      ]
     },
     "execution_count": 47,
     "metadata": {},
     "output_type": "execute_result"
    }
   ],
   "source": [
    "(y_val == cancelled).mean()"
   ]
  },
  {
   "cell_type": "code",
   "execution_count": 48,
   "id": "f9772bef-0a58-4346-9ace-55399ff9e322",
   "metadata": {},
   "outputs": [
    {
     "data": {
      "text/plain": [
       "array([False, False,  True, ..., False,  True, False])"
      ]
     },
     "execution_count": 48,
     "metadata": {},
     "output_type": "execute_result"
    }
   ],
   "source": [
    "#confusion table\n",
    "actual_positive = (y_val == 1)\n",
    "actual_negative = (y_val == 0)\n",
    "\n",
    "t=0.5\n",
    "predict_positive = (y_pred >= t)\n",
    "predict_negative = (y_pred < t)\n",
    "\n",
    "predict_positive\n"
   ]
  },
  {
   "cell_type": "code",
   "execution_count": 49,
   "id": "fd5862d9-fcc0-4a48-919e-8ffe5a7afb0d",
   "metadata": {},
   "outputs": [
    {
     "data": {
      "text/plain": [
       "(1509, 4393, 551, 797)"
      ]
     },
     "execution_count": 49,
     "metadata": {},
     "output_type": "execute_result"
    }
   ],
   "source": [
    "tp = (predict_positive & actual_positive).sum()\n",
    "tn = (predict_negative & actual_negative).sum()\n",
    "fp = (predict_positive & actual_negative).sum()\n",
    "fn = (predict_negative & actual_positive).sum()\n",
    "tp, tn, fp, fn"
   ]
  },
  {
   "cell_type": "code",
   "execution_count": 50,
   "id": "46fd1ecc-f183-496b-84cd-6681a870bfee",
   "metadata": {},
   "outputs": [
    {
     "data": {
      "text/plain": [
       "array([[4393,  551],\n",
       "       [ 797, 1509]])"
      ]
     },
     "execution_count": 50,
     "metadata": {},
     "output_type": "execute_result"
    }
   ],
   "source": [
    "confusion_table = np.array([\n",
    "    [tn, fp],\n",
    "    [fn, tp]\n",
    "])\n",
    "confusion_table"
   ]
  },
  {
   "cell_type": "code",
   "execution_count": 51,
   "id": "328f4ad3-7829-45f8-b474-76a68130c1e3",
   "metadata": {},
   "outputs": [
    {
     "data": {
      "text/plain": [
       "array([[0.61, 0.08],\n",
       "       [0.11, 0.21]])"
      ]
     },
     "execution_count": 51,
     "metadata": {},
     "output_type": "execute_result"
    }
   ],
   "source": [
    "(confusion_table/confusion_table.sum()).round(2)"
   ]
  },
  {
   "cell_type": "code",
   "execution_count": 52,
   "id": "67af4e11-75d1-4afd-b865-8f18661be1b1",
   "metadata": {},
   "outputs": [
    {
     "data": {
      "text/plain": [
       "0.8140689655172414"
      ]
     },
     "execution_count": 52,
     "metadata": {},
     "output_type": "execute_result"
    }
   ],
   "source": [
    "# Calculating accuracy using 4 values\n",
    "\n",
    "accuracy = (tp+tn)/(tp+tn+fp+fn)\n",
    "accuracy"
   ]
  },
  {
   "cell_type": "code",
   "execution_count": 53,
   "id": "e5167571-f5bb-449a-895a-a48fdcbb5c00",
   "metadata": {},
   "outputs": [
    {
     "data": {
      "text/plain": [
       "0.7325242718446602"
      ]
     },
     "execution_count": 53,
     "metadata": {},
     "output_type": "execute_result"
    }
   ],
   "source": [
    "#Precision\n",
    "precision = tp/(tp+fp)\n",
    "precision\n",
    "\n",
    "#27% incorrectly identified as cancelled"
   ]
  },
  {
   "cell_type": "code",
   "execution_count": 54,
   "id": "f44860bc-9ace-444b-bb72-26943bc1a9e0",
   "metadata": {},
   "outputs": [
    {
     "data": {
      "text/plain": [
       "0.6543798785776236"
      ]
     },
     "execution_count": 54,
     "metadata": {},
     "output_type": "execute_result"
    }
   ],
   "source": [
    "#Recall\n",
    "recall = tp/(tp+fn)\n",
    "recall\n",
    "#35% failed to indentify as cancelled"
   ]
  },
  {
   "cell_type": "code",
   "execution_count": 55,
   "id": "ab58728c-c61d-4014-9e94-5ad87aa881f8",
   "metadata": {},
   "outputs": [
    {
     "data": {
      "text/plain": [
       "(0.6543798785776236, 0.11144822006472492)"
      ]
     },
     "execution_count": 55,
     "metadata": {},
     "output_type": "execute_result"
    }
   ],
   "source": [
    "#ROC\n",
    "fpr = fp/(fp+tn)\n",
    "tpr = tp/(tp+fn)\n",
    "tpr, fpr\n"
   ]
  },
  {
   "cell_type": "code",
   "execution_count": 56,
   "id": "2e9a76a8-7efd-4f94-a35f-d5e8865b3dc7",
   "metadata": {},
   "outputs": [
    {
     "name": "stderr",
     "output_type": "stream",
     "text": [
      "/var/folders/zc/tfp7r2pd6xb7fhlxrn16n6980000gn/T/ipykernel_77421/440845875.py:12: RuntimeWarning: invalid value encountered in scalar divide\n",
      "  precision = tp/(tp+fp)\n"
     ]
    },
    {
     "data": {
      "text/html": [
       "<div>\n",
       "<style scoped>\n",
       "    .dataframe tbody tr th:only-of-type {\n",
       "        vertical-align: middle;\n",
       "    }\n",
       "\n",
       "    .dataframe tbody tr th {\n",
       "        vertical-align: top;\n",
       "    }\n",
       "\n",
       "    .dataframe thead th {\n",
       "        text-align: right;\n",
       "    }\n",
       "</style>\n",
       "<table border=\"1\" class=\"dataframe\">\n",
       "  <thead>\n",
       "    <tr style=\"text-align: right;\">\n",
       "      <th></th>\n",
       "      <th>t</th>\n",
       "      <th>tp</th>\n",
       "      <th>fp</th>\n",
       "      <th>fn</th>\n",
       "      <th>tn</th>\n",
       "      <th>precision</th>\n",
       "      <th>recall</th>\n",
       "      <th>fpr</th>\n",
       "      <th>tpr</th>\n",
       "    </tr>\n",
       "  </thead>\n",
       "  <tbody>\n",
       "    <tr>\n",
       "      <th>0</th>\n",
       "      <td>0.0</td>\n",
       "      <td>2306</td>\n",
       "      <td>4944</td>\n",
       "      <td>0</td>\n",
       "      <td>0</td>\n",
       "      <td>0.318069</td>\n",
       "      <td>1.000000</td>\n",
       "      <td>1.000000</td>\n",
       "      <td>1.000000</td>\n",
       "    </tr>\n",
       "    <tr>\n",
       "      <th>10</th>\n",
       "      <td>0.1</td>\n",
       "      <td>2234</td>\n",
       "      <td>2775</td>\n",
       "      <td>72</td>\n",
       "      <td>2169</td>\n",
       "      <td>0.445997</td>\n",
       "      <td>0.968777</td>\n",
       "      <td>0.561286</td>\n",
       "      <td>0.968777</td>\n",
       "    </tr>\n",
       "    <tr>\n",
       "      <th>20</th>\n",
       "      <td>0.2</td>\n",
       "      <td>2054</td>\n",
       "      <td>1737</td>\n",
       "      <td>252</td>\n",
       "      <td>3207</td>\n",
       "      <td>0.541810</td>\n",
       "      <td>0.890720</td>\n",
       "      <td>0.351335</td>\n",
       "      <td>0.890720</td>\n",
       "    </tr>\n",
       "    <tr>\n",
       "      <th>30</th>\n",
       "      <td>0.3</td>\n",
       "      <td>1857</td>\n",
       "      <td>1152</td>\n",
       "      <td>449</td>\n",
       "      <td>3792</td>\n",
       "      <td>0.617149</td>\n",
       "      <td>0.805291</td>\n",
       "      <td>0.233010</td>\n",
       "      <td>0.805291</td>\n",
       "    </tr>\n",
       "    <tr>\n",
       "      <th>40</th>\n",
       "      <td>0.4</td>\n",
       "      <td>1694</td>\n",
       "      <td>838</td>\n",
       "      <td>612</td>\n",
       "      <td>4106</td>\n",
       "      <td>0.669036</td>\n",
       "      <td>0.734605</td>\n",
       "      <td>0.169498</td>\n",
       "      <td>0.734605</td>\n",
       "    </tr>\n",
       "    <tr>\n",
       "      <th>50</th>\n",
       "      <td>0.5</td>\n",
       "      <td>1509</td>\n",
       "      <td>551</td>\n",
       "      <td>797</td>\n",
       "      <td>4393</td>\n",
       "      <td>0.732524</td>\n",
       "      <td>0.654380</td>\n",
       "      <td>0.111448</td>\n",
       "      <td>0.654380</td>\n",
       "    </tr>\n",
       "    <tr>\n",
       "      <th>60</th>\n",
       "      <td>0.6</td>\n",
       "      <td>1233</td>\n",
       "      <td>329</td>\n",
       "      <td>1073</td>\n",
       "      <td>4615</td>\n",
       "      <td>0.789373</td>\n",
       "      <td>0.534692</td>\n",
       "      <td>0.066545</td>\n",
       "      <td>0.534692</td>\n",
       "    </tr>\n",
       "    <tr>\n",
       "      <th>70</th>\n",
       "      <td>0.7</td>\n",
       "      <td>986</td>\n",
       "      <td>197</td>\n",
       "      <td>1320</td>\n",
       "      <td>4747</td>\n",
       "      <td>0.833474</td>\n",
       "      <td>0.427580</td>\n",
       "      <td>0.039846</td>\n",
       "      <td>0.427580</td>\n",
       "    </tr>\n",
       "    <tr>\n",
       "      <th>80</th>\n",
       "      <td>0.8</td>\n",
       "      <td>698</td>\n",
       "      <td>82</td>\n",
       "      <td>1608</td>\n",
       "      <td>4862</td>\n",
       "      <td>0.894872</td>\n",
       "      <td>0.302689</td>\n",
       "      <td>0.016586</td>\n",
       "      <td>0.302689</td>\n",
       "    </tr>\n",
       "    <tr>\n",
       "      <th>90</th>\n",
       "      <td>0.9</td>\n",
       "      <td>360</td>\n",
       "      <td>15</td>\n",
       "      <td>1946</td>\n",
       "      <td>4929</td>\n",
       "      <td>0.960000</td>\n",
       "      <td>0.156114</td>\n",
       "      <td>0.003034</td>\n",
       "      <td>0.156114</td>\n",
       "    </tr>\n",
       "    <tr>\n",
       "      <th>100</th>\n",
       "      <td>1.0</td>\n",
       "      <td>0</td>\n",
       "      <td>0</td>\n",
       "      <td>2306</td>\n",
       "      <td>4944</td>\n",
       "      <td>NaN</td>\n",
       "      <td>0.000000</td>\n",
       "      <td>0.000000</td>\n",
       "      <td>0.000000</td>\n",
       "    </tr>\n",
       "  </tbody>\n",
       "</table>\n",
       "</div>"
      ],
      "text/plain": [
       "       t    tp    fp    fn    tn  precision    recall       fpr       tpr\n",
       "0    0.0  2306  4944     0     0   0.318069  1.000000  1.000000  1.000000\n",
       "10   0.1  2234  2775    72  2169   0.445997  0.968777  0.561286  0.968777\n",
       "20   0.2  2054  1737   252  3207   0.541810  0.890720  0.351335  0.890720\n",
       "30   0.3  1857  1152   449  3792   0.617149  0.805291  0.233010  0.805291\n",
       "40   0.4  1694   838   612  4106   0.669036  0.734605  0.169498  0.734605\n",
       "50   0.5  1509   551   797  4393   0.732524  0.654380  0.111448  0.654380\n",
       "60   0.6  1233   329  1073  4615   0.789373  0.534692  0.066545  0.534692\n",
       "70   0.7   986   197  1320  4747   0.833474  0.427580  0.039846  0.427580\n",
       "80   0.8   698    82  1608  4862   0.894872  0.302689  0.016586  0.302689\n",
       "90   0.9   360    15  1946  4929   0.960000  0.156114  0.003034  0.156114\n",
       "100  1.0     0     0  2306  4944        NaN  0.000000  0.000000  0.000000"
      ]
     },
     "execution_count": 56,
     "metadata": {},
     "output_type": "execute_result"
    }
   ],
   "source": [
    "thresholds = np.linspace(0,1,101)\n",
    "scores = []\n",
    "for t in thresholds:\n",
    "    actual_positive = (y_val == 1)\n",
    "    actual_negative = (y_val == 0)\n",
    "    predict_positive = (y_pred >= t)\n",
    "    predict_negative = (y_pred < t)\n",
    "    tp = (predict_positive & actual_positive).sum()\n",
    "    tn = (predict_negative & actual_negative).sum()\n",
    "    fp = (predict_positive & actual_negative).sum()\n",
    "    fn = (predict_negative & actual_positive).sum()\n",
    "    precision = tp/(tp+fp)\n",
    "    recall = tp/(tp+fn)\n",
    "    fpr = fp/(fp+tn)\n",
    "    tpr = tp/(tp+fn)\n",
    "    scores.append((t,tp,fp,fn,tn,precision,recall,fpr,tpr))\n",
    "    \n",
    "df_scores = pd.DataFrame(scores)\n",
    "df_scores.columns = ['t','tp','fp','fn','tn','precision','recall','fpr','tpr']\n",
    "df_scores[::10]"
   ]
  },
  {
   "cell_type": "code",
   "execution_count": 57,
   "id": "32b8666d-f59b-4e04-804f-9956c976e8c4",
   "metadata": {},
   "outputs": [
    {
     "data": {
      "image/png": "[encoded data removed]",
      "text/plain": [
       "<Figure size 640x480 with 1 Axes>"
      ]
     },
     "metadata": {},
     "output_type": "display_data"
    }
   ],
   "source": [
    "plt.plot(df_scores.t, df_scores.tpr, color='red', linestyle='solid', label='TPR')\n",
    "plt.plot(df_scores.t, df_scores.fpr, color='red', linestyle='dashed', label='FPR')\n",
    "plt.legend()\n",
    "\n",
    "plt.xticks(np.linspace(0, 1, 11))\n",
    "plt.yticks(np.linspace(0, 1, 11))\n",
    "\n",
    "plt.xlabel('Thresholds')\n",
    "plt.title('TPR and FPR')\n",
    "\n",
    "# plt.savefig('04_fpr_tpr_plot.svg')\n",
    "\n",
    "plt.show()"
   ]
  },
  {
   "cell_type": "code",
   "execution_count": 58,
   "id": "5375aa10-71b7-4fac-8937-6a1027d1c9d8",
   "metadata": {},
   "outputs": [
    {
     "data": {
      "image/png": "[encoded data removed]",
      "text/plain": [
       "<Figure size 640x480 with 1 Axes>"
      ]
     },
     "metadata": {},
     "output_type": "display_data"
    }
   ],
   "source": [
    "# now calculating using sklearn\n",
    "from sklearn.metrics import roc_curve\n",
    "\n",
    "fpr, tpr, thresholds = roc_curve(y_val, y_pred)\n",
    "\n",
    "plt.plot(fpr, tpr, color='red')\n",
    "plt.plot([0, 1], [0, 1], color='black', lw=0.7, linestyle='dashed', alpha=0.5)\n",
    "\n",
    "plt.xlim([-0.02, 1.02])\n",
    "plt.ylim([-0.02, 1.02])\n",
    "plt.xlabel('False Positive Rate')\n",
    "plt.ylabel('True Positive Rate')\n",
    "\n",
    "plt.title('ROC curve')\n",
    "\n",
    "plt.show()"
   ]
  },
  {
   "cell_type": "code",
   "execution_count": 59,
   "id": "73ea4491-d0ac-408c-b36f-9eee24ed7b52",
   "metadata": {},
   "outputs": [
    {
     "data": {
      "text/plain": [
       "0.8756607832529184"
      ]
     },
     "execution_count": 59,
     "metadata": {},
     "output_type": "execute_result"
    }
   ],
   "source": [
    "from sklearn.metrics import auc\n",
    "from sklearn.metrics import roc_auc_score\n",
    "\n",
    "auc(fpr, tpr)\n"
   ]
  },
  {
   "cell_type": "code",
   "execution_count": 60,
   "id": "cf4a3b45-9111-4e0a-abf9-edb96ad74c88",
   "metadata": {},
   "outputs": [
    {
     "data": {
      "text/plain": [
       "0.8756607832529184"
      ]
     },
     "execution_count": 60,
     "metadata": {},
     "output_type": "execute_result"
    }
   ],
   "source": [
    "roc_auc_score(y_val,y_pred)\n",
    "\n",
    "#both are same."
   ]
  },
  {
   "cell_type": "code",
   "execution_count": 61,
   "id": "52eedddc-1ac5-40b8-a72f-a34074692125",
   "metadata": {},
   "outputs": [],
   "source": [
    "#Kfold cross validation\n",
    "def train(df, y):\n",
    "    data = df[categorical + numerical].to_dict(orient='records')\n",
    "    \n",
    "    dv = DictVectorizer(sparse=False)\n",
    "    dv.fit(data)\n",
    "\n",
    "    X = dv.transform(data)\n",
    "\n",
    "    model = LogisticRegression(solver='lbfgs')\n",
    "    model.fit(X, y)\n",
    "\n",
    "    return dv, model\n",
    "\n",
    "\n",
    "def predict(df, dv, model):\n",
    "    data = df[categorical + numerical].to_dict(orient='records')\n",
    "    \n",
    "    X = dv.transform(data)\n",
    "\n",
    "    y_pred = model.predict_proba(X)[:, 1]\n",
    "\n",
    "    return y_pred"
   ]
  },
  {
   "cell_type": "code",
   "execution_count": 62,
   "id": "e38273f9-ae47-4f4a-8651-75da156799f2",
   "metadata": {},
   "outputs": [
    {
     "name": "stderr",
     "output_type": "stream",
     "text": [
      "/Users/balajig/.local/share/virtualenvs/trainer-L1X3NtCU/lib/python3.10/site-packages/sklearn/linear_model/_logistic.py:460: ConvergenceWarning: lbfgs failed to converge (status=1):\n",
      "STOP: TOTAL NO. of ITERATIONS REACHED LIMIT.\n",
      "\n",
      "Increase the number of iterations (max_iter) or scale the data as shown in:\n",
      "    https://scikit-learn.org/stable/modules/preprocessing.html\n",
      "Please also refer to the documentation for alternative solver options:\n",
      "    https://scikit-learn.org/stable/modules/linear_model.html#logistic-regression\n",
      "  n_iter_i = _check_optimize_result(\n",
      "/Users/balajig/.local/share/virtualenvs/trainer-L1X3NtCU/lib/python3.10/site-packages/sklearn/linear_model/_logistic.py:460: ConvergenceWarning: lbfgs failed to converge (status=1):\n",
      "STOP: TOTAL NO. of ITERATIONS REACHED LIMIT.\n",
      "\n",
      "Increase the number of iterations (max_iter) or scale the data as shown in:\n",
      "    https://scikit-learn.org/stable/modules/preprocessing.html\n",
      "Please also refer to the documentation for alternative solver options:\n",
      "    https://scikit-learn.org/stable/modules/linear_model.html#logistic-regression\n",
      "  n_iter_i = _check_optimize_result(\n",
      "/Users/balajig/.local/share/virtualenvs/trainer-L1X3NtCU/lib/python3.10/site-packages/sklearn/linear_model/_logistic.py:460: ConvergenceWarning: lbfgs failed to converge (status=1):\n",
      "STOP: TOTAL NO. of ITERATIONS REACHED LIMIT.\n",
      "\n",
      "Increase the number of iterations (max_iter) or scale the data as shown in:\n",
      "    https://scikit-learn.org/stable/modules/preprocessing.html\n",
      "Please also refer to the documentation for alternative solver options:\n",
      "    https://scikit-learn.org/stable/modules/linear_model.html#logistic-regression\n",
      "  n_iter_i = _check_optimize_result(\n",
      "/Users/balajig/.local/share/virtualenvs/trainer-L1X3NtCU/lib/python3.10/site-packages/sklearn/linear_model/_logistic.py:460: ConvergenceWarning: lbfgs failed to converge (status=1):\n",
      "STOP: TOTAL NO. of ITERATIONS REACHED LIMIT.\n",
      "\n",
      "Increase the number of iterations (max_iter) or scale the data as shown in:\n",
      "    https://scikit-learn.org/stable/modules/preprocessing.html\n",
      "Please also refer to the documentation for alternative solver options:\n",
      "    https://scikit-learn.org/stable/modules/linear_model.html#logistic-regression\n",
      "  n_iter_i = _check_optimize_result(\n",
      "/Users/balajig/.local/share/virtualenvs/trainer-L1X3NtCU/lib/python3.10/site-packages/sklearn/linear_model/_logistic.py:460: ConvergenceWarning: lbfgs failed to converge (status=1):\n",
      "STOP: TOTAL NO. of ITERATIONS REACHED LIMIT.\n",
      "\n",
      "Increase the number of iterations (max_iter) or scale the data as shown in:\n",
      "    https://scikit-learn.org/stable/modules/preprocessing.html\n",
      "Please also refer to the documentation for alternative solver options:\n",
      "    https://scikit-learn.org/stable/modules/linear_model.html#logistic-regression\n",
      "  n_iter_i = _check_optimize_result(\n",
      "/Users/balajig/.local/share/virtualenvs/trainer-L1X3NtCU/lib/python3.10/site-packages/sklearn/linear_model/_logistic.py:460: ConvergenceWarning: lbfgs failed to converge (status=1):\n",
      "STOP: TOTAL NO. of ITERATIONS REACHED LIMIT.\n",
      "\n",
      "Increase the number of iterations (max_iter) or scale the data as shown in:\n",
      "    https://scikit-learn.org/stable/modules/preprocessing.html\n",
      "Please also refer to the documentation for alternative solver options:\n",
      "    https://scikit-learn.org/stable/modules/linear_model.html#logistic-regression\n",
      "  n_iter_i = _check_optimize_result(\n",
      "/Users/balajig/.local/share/virtualenvs/trainer-L1X3NtCU/lib/python3.10/site-packages/sklearn/linear_model/_logistic.py:460: ConvergenceWarning: lbfgs failed to converge (status=1):\n",
      "STOP: TOTAL NO. of ITERATIONS REACHED LIMIT.\n",
      "\n",
      "Increase the number of iterations (max_iter) or scale the data as shown in:\n",
      "    https://scikit-learn.org/stable/modules/preprocessing.html\n",
      "Please also refer to the documentation for alternative solver options:\n",
      "    https://scikit-learn.org/stable/modules/linear_model.html#logistic-regression\n",
      "  n_iter_i = _check_optimize_result(\n",
      "/Users/balajig/.local/share/virtualenvs/trainer-L1X3NtCU/lib/python3.10/site-packages/sklearn/linear_model/_logistic.py:460: ConvergenceWarning: lbfgs failed to converge (status=1):\n",
      "STOP: TOTAL NO. of ITERATIONS REACHED LIMIT.\n",
      "\n",
      "Increase the number of iterations (max_iter) or scale the data as shown in:\n",
      "    https://scikit-learn.org/stable/modules/preprocessing.html\n",
      "Please also refer to the documentation for alternative solver options:\n",
      "    https://scikit-learn.org/stable/modules/linear_model.html#logistic-regression\n",
      "  n_iter_i = _check_optimize_result(\n",
      "/Users/balajig/.local/share/virtualenvs/trainer-L1X3NtCU/lib/python3.10/site-packages/sklearn/linear_model/_logistic.py:460: ConvergenceWarning: lbfgs failed to converge (status=1):\n",
      "STOP: TOTAL NO. of ITERATIONS REACHED LIMIT.\n",
      "\n",
      "Increase the number of iterations (max_iter) or scale the data as shown in:\n",
      "    https://scikit-learn.org/stable/modules/preprocessing.html\n",
      "Please also refer to the documentation for alternative solver options:\n",
      "    https://scikit-learn.org/stable/modules/linear_model.html#logistic-regression\n",
      "  n_iter_i = _check_optimize_result(\n",
      "/Users/balajig/.local/share/virtualenvs/trainer-L1X3NtCU/lib/python3.10/site-packages/sklearn/linear_model/_logistic.py:460: ConvergenceWarning: lbfgs failed to converge (status=1):\n",
      "STOP: TOTAL NO. of ITERATIONS REACHED LIMIT.\n",
      "\n",
      "Increase the number of iterations (max_iter) or scale the data as shown in:\n",
      "    https://scikit-learn.org/stable/modules/preprocessing.html\n",
      "Please also refer to the documentation for alternative solver options:\n",
      "    https://scikit-learn.org/stable/modules/linear_model.html#logistic-regression\n",
      "  n_iter_i = _check_optimize_result(\n",
      "/Users/balajig/.local/share/virtualenvs/trainer-L1X3NtCU/lib/python3.10/site-packages/sklearn/linear_model/_logistic.py:460: ConvergenceWarning: lbfgs failed to converge (status=1):\n",
      "STOP: TOTAL NO. of ITERATIONS REACHED LIMIT.\n",
      "\n",
      "Increase the number of iterations (max_iter) or scale the data as shown in:\n",
      "    https://scikit-learn.org/stable/modules/preprocessing.html\n",
      "Please also refer to the documentation for alternative solver options:\n",
      "    https://scikit-learn.org/stable/modules/linear_model.html#logistic-regression\n",
      "  n_iter_i = _check_optimize_result(\n",
      "/Users/balajig/.local/share/virtualenvs/trainer-L1X3NtCU/lib/python3.10/site-packages/sklearn/linear_model/_logistic.py:460: ConvergenceWarning: lbfgs failed to converge (status=1):\n",
      "STOP: TOTAL NO. of ITERATIONS REACHED LIMIT.\n",
      "\n",
      "Increase the number of iterations (max_iter) or scale the data as shown in:\n",
      "    https://scikit-learn.org/stable/modules/preprocessing.html\n",
      "Please also refer to the documentation for alternative solver options:\n",
      "    https://scikit-learn.org/stable/modules/linear_model.html#logistic-regression\n",
      "  n_iter_i = _check_optimize_result(\n",
      "/Users/balajig/.local/share/virtualenvs/trainer-L1X3NtCU/lib/python3.10/site-packages/sklearn/linear_model/_logistic.py:460: ConvergenceWarning: lbfgs failed to converge (status=1):\n",
      "STOP: TOTAL NO. of ITERATIONS REACHED LIMIT.\n",
      "\n",
      "Increase the number of iterations (max_iter) or scale the data as shown in:\n",
      "    https://scikit-learn.org/stable/modules/preprocessing.html\n",
      "Please also refer to the documentation for alternative solver options:\n",
      "    https://scikit-learn.org/stable/modules/linear_model.html#logistic-regression\n",
      "  n_iter_i = _check_optimize_result(\n",
      "/Users/balajig/.local/share/virtualenvs/trainer-L1X3NtCU/lib/python3.10/site-packages/sklearn/linear_model/_logistic.py:460: ConvergenceWarning: lbfgs failed to converge (status=1):\n",
      "STOP: TOTAL NO. of ITERATIONS REACHED LIMIT.\n",
      "\n",
      "Increase the number of iterations (max_iter) or scale the data as shown in:\n",
      "    https://scikit-learn.org/stable/modules/preprocessing.html\n",
      "Please also refer to the documentation for alternative solver options:\n",
      "    https://scikit-learn.org/stable/modules/linear_model.html#logistic-regression\n",
      "  n_iter_i = _check_optimize_result(\n",
      "/Users/balajig/.local/share/virtualenvs/trainer-L1X3NtCU/lib/python3.10/site-packages/sklearn/linear_model/_logistic.py:460: ConvergenceWarning: lbfgs failed to converge (status=1):\n",
      "STOP: TOTAL NO. of ITERATIONS REACHED LIMIT.\n",
      "\n",
      "Increase the number of iterations (max_iter) or scale the data as shown in:\n",
      "    https://scikit-learn.org/stable/modules/preprocessing.html\n",
      "Please also refer to the documentation for alternative solver options:\n",
      "    https://scikit-learn.org/stable/modules/linear_model.html#logistic-regression\n",
      "  n_iter_i = _check_optimize_result(\n"
     ]
    }
   ],
   "source": [
    "from sklearn.model_selection import KFold\n",
    "\n",
    "kfold = KFold(n_splits=15, shuffle=True, random_state=1)\n",
    "auc_scores = []\n",
    "\n",
    "for train_idx, val_idx in kfold.split(df_full_train):\n",
    "    df_train = df_full_train.iloc[train_idx]\n",
    "    y_train = df_train.booking_status.values\n",
    "\n",
    "    df_val = df_full_train.iloc[val_idx]\n",
    "    y_val = df_val.booking_status.values\n",
    "\n",
    "    dv, model = train(df_train, y_train)\n",
    "    y_pred = predict(df_val, dv, model)\n",
    "\n",
    "    rocauc = roc_auc_score(y_val, y_pred)\n",
    "    auc_scores.append(rocauc)"
   ]
  },
  {
   "cell_type": "code",
   "execution_count": 63,
   "id": "7d9b4301-2b79-4623-b118-19d60e725cac",
   "metadata": {},
   "outputs": [
    {
     "data": {
      "text/plain": [
       "[0.8691925656902437,\n",
       " 0.876935278991232,\n",
       " 0.8655797101449275,\n",
       " 0.8726531313864431,\n",
       " 0.8685924617764264,\n",
       " 0.8624047015485109,\n",
       " 0.882466889017788,\n",
       " 0.8591714892858348,\n",
       " 0.8640161120075707,\n",
       " 0.8639630136817302,\n",
       " 0.8657230002057588,\n",
       " 0.8598836860723065,\n",
       " 0.8650470830440131,\n",
       " 0.8724181686161456,\n",
       " 0.873535141962605]"
      ]
     },
     "execution_count": 63,
     "metadata": {},
     "output_type": "execute_result"
    }
   ],
   "source": [
    "auc_scores"
   ]
  },
  {
   "cell_type": "code",
   "execution_count": 64,
   "id": "107692d9-9824-4d60-a824-6b2221374ced",
   "metadata": {},
   "outputs": [
    {
     "name": "stdout",
     "output_type": "stream",
     "text": [
      "auc = 0.868 ± 0.006\n"
     ]
    }
   ],
   "source": [
    "print('auc = %0.3f ± %0.3f' % (np.mean(auc_scores), np.std(auc_scores)))"
   ]
  },
  {
   "cell_type": "code",
   "execution_count": 65,
   "id": "9252c01e-dd0d-43e1-96b0-07748e4b90e3",
   "metadata": {},
   "outputs": [
    {
     "name": "stderr",
     "output_type": "stream",
     "text": [
      "/Users/balajig/.local/share/virtualenvs/trainer-L1X3NtCU/lib/python3.10/site-packages/sklearn/linear_model/_logistic.py:460: ConvergenceWarning: lbfgs failed to converge (status=1):\n",
      "STOP: TOTAL NO. of ITERATIONS REACHED LIMIT.\n",
      "\n",
      "Increase the number of iterations (max_iter) or scale the data as shown in:\n",
      "    https://scikit-learn.org/stable/modules/preprocessing.html\n",
      "Please also refer to the documentation for alternative solver options:\n",
      "    https://scikit-learn.org/stable/modules/linear_model.html#logistic-regression\n",
      "  n_iter_i = _check_optimize_result(\n"
     ]
    },
    {
     "data": {
      "text/plain": [
       "0.8591999508089923"
      ]
     },
     "execution_count": 65,
     "metadata": {},
     "output_type": "execute_result"
    }
   ],
   "source": [
    "dv, model = train(df_full_train, y_full_train)\n",
    "y_pred = predict(df_test, dv, model)\n",
    "\n",
    "auc = roc_auc_score(y_test, y_pred)\n",
    "auc"
   ]
  },
  {
   "cell_type": "code",
   "execution_count": 66,
   "id": "7eee9b42-2db6-4e33-8905-9aedfa2cdaee",
   "metadata": {},
   "outputs": [],
   "source": [
    "#Regularization\n",
    "def train(df, y, C=1.0):\n",
    "    data = df[categorical + numerical].to_dict(orient='records')\n",
    "    \n",
    "    dv = DictVectorizer(sparse=False)\n",
    "    dv.fit(data)\n",
    "\n",
    "    X = dv.transform(data)\n",
    "\n",
    "    model = LogisticRegression(solver='lbfgs', C=C, max_iter=3000)\n",
    "    model.fit(X, y)\n",
    "\n",
    "    return dv, model\n",
    "\n",
    "\n",
    "def predict(df, dv, model):\n",
    "    data = df[categorical + numerical].to_dict(orient='records')\n",
    "    \n",
    "    X = dv.transform(data)\n",
    "\n",
    "    y_pred = model.predict_proba(X)[:, 1]\n",
    "\n",
    "    return y_pred"
   ]
  },
  {
   "cell_type": "code",
   "execution_count": 72,
   "id": "0467f1a6-7e06-4d66-ae9f-498029040d21",
   "metadata": {},
   "outputs": [
    {
     "data": {
      "application/vnd.jupyter.widget-view+json": {
       "model_id": "00d8e5ac3527435980b82f35a20d6dfb",
       "version_major": 2,
       "version_minor": 0
      },
      "text/plain": [
       "0it [00:00, ?it/s]"
      ]
     },
     "metadata": {},
     "output_type": "display_data"
    },
    {
     "name": "stdout",
     "output_type": "stream",
     "text": [
      "C=0.001, auc = 0.855 ± 0.007\n"
     ]
    },
    {
     "data": {
      "application/vnd.jupyter.widget-view+json": {
       "model_id": "9397023bcc2846719dc8ae9069f677f6",
       "version_major": 2,
       "version_minor": 0
      },
      "text/plain": [
       "0it [00:00, ?it/s]"
      ]
     },
     "metadata": {},
     "output_type": "display_data"
    },
    {
     "name": "stdout",
     "output_type": "stream",
     "text": [
      "C=0.01, auc = 0.871 ± 0.005\n"
     ]
    },
    {
     "data": {
      "application/vnd.jupyter.widget-view+json": {
       "model_id": "5e063a5e7d934bd7a403a16a831f123e",
       "version_major": 2,
       "version_minor": 0
      },
      "text/plain": [
       "0it [00:00, ?it/s]"
      ]
     },
     "metadata": {},
     "output_type": "display_data"
    },
    {
     "name": "stdout",
     "output_type": "stream",
     "text": [
      "C=0.1, auc = 0.873 ± 0.005\n"
     ]
    },
    {
     "data": {
      "application/vnd.jupyter.widget-view+json": {
       "model_id": "ff93f62aa9ff491c936500eacb08c86b",
       "version_major": 2,
       "version_minor": 0
      },
      "text/plain": [
       "0it [00:00, ?it/s]"
      ]
     },
     "metadata": {},
     "output_type": "display_data"
    },
    {
     "name": "stdout",
     "output_type": "stream",
     "text": [
      "C=1, auc = 0.873 ± 0.005\n"
     ]
    },
    {
     "data": {
      "application/vnd.jupyter.widget-view+json": {
       "model_id": "2ae7d8c0c2e740c3979121f3b91aa57f",
       "version_major": 2,
       "version_minor": 0
      },
      "text/plain": [
       "0it [00:00, ?it/s]"
      ]
     },
     "metadata": {},
     "output_type": "display_data"
    },
    {
     "name": "stdout",
     "output_type": "stream",
     "text": [
      "C=10, auc = 0.873 ± 0.005\n"
     ]
    }
   ],
   "source": [
    "from tqdm.auto import tqdm \n",
    "kfold = KFold(n_splits=15, shuffle=True, random_state=1)\n",
    "auc_scores = []\n",
    "\n",
    "regularization_lst = [0.001,0.01,0.1,1, 10]\n",
    "\n",
    "for C in regularization_lst:\n",
    "    auc_scores = []\n",
    "\n",
    "    for train_idx, val_idx in tqdm(kfold.split(df_full_train)):\n",
    "        df_train = df_full_train.iloc[train_idx]\n",
    "        y_train = df_train.booking_status.values\n",
    "\n",
    "        df_val = df_full_train.iloc[val_idx]\n",
    "        y_val = df_val.booking_status.values\n",
    "\n",
    "        dv, model = train(df_train, y_train, C)\n",
    "        y_pred = predict(df_val, dv, model)\n",
    "\n",
    "        rocauc = roc_auc_score(y_val, y_pred)\n",
    "        auc_scores.append(rocauc)\n",
    "    print('C=%s, auc = %0.3f ± %0.3f' % (C, np.mean(auc_scores), np.std(auc_scores))) "
   ]
  },
  {
   "cell_type": "code",
   "execution_count": 75,
   "id": "c3759470-f2a4-490d-887f-4ab3733a570d",
   "metadata": {},
   "outputs": [
    {
     "data": {
      "text/plain": [
       "0.8626994482183783"
      ]
     },
     "execution_count": 75,
     "metadata": {},
     "output_type": "execute_result"
    }
   ],
   "source": [
    "#C=1 looks fine.\n",
    "\n",
    "dv, model = train(df_full_train, y_full_train, C=1.0)\n",
    "y_pred = predict(df_test, dv, model)\n",
    "\n",
    "auc = roc_auc_score(y_test, y_pred)\n",
    "auc"
   ]
  },
  {
   "cell_type": "code",
   "execution_count": 76,
   "id": "26c5bef0-f3cc-4110-985b-3fd89063e16b",
   "metadata": {},
   "outputs": [
    {
     "data": {
      "text/html": [
       "<style>#sk-container-id-3 {color: black;}#sk-container-id-3 pre{padding: 0;}#sk-container-id-3 div.sk-toggleable {background-color: white;}#sk-container-id-3 label.sk-toggleable__label {cursor: pointer;display: block;width: 100%;margin-bottom: 0;padding: 0.3em;box-sizing: border-box;text-align: center;}#sk-container-id-3 label.sk-toggleable__label-arrow:before {content: \"▸\";float: left;margin-right: 0.25em;color: #696969;}#sk-container-id-3 label.sk-toggleable__label-arrow:hover:before {color: black;}#sk-container-id-3 div.sk-estimator:hover label.sk-toggleable__label-arrow:before {color: black;}#sk-container-id-3 div.sk-toggleable__content {max-height: 0;max-width: 0;overflow: hidden;text-align: left;background-color: #f0f8ff;}#sk-container-id-3 div.sk-toggleable__content pre {margin: 0.2em;color: black;border-radius: 0.25em;background-color: #f0f8ff;}#sk-container-id-3 input.sk-toggleable__control:checked~div.sk-toggleable__content {max-height: 200px;max-width: 100%;overflow: auto;}#sk-container-id-3 input.sk-toggleable__control:checked~label.sk-toggleable__label-arrow:before {content: \"▾\";}#sk-container-id-3 div.sk-estimator input.sk-toggleable__control:checked~label.sk-toggleable__label {background-color: #d4ebff;}#sk-container-id-3 div.sk-label input.sk-toggleable__control:checked~label.sk-toggleable__label {background-color: #d4ebff;}#sk-container-id-3 input.sk-hidden--visually {border: 0;clip: rect(1px 1px 1px 1px);clip: rect(1px, 1px, 1px, 1px);height: 1px;margin: -1px;overflow: hidden;padding: 0;position: absolute;width: 1px;}#sk-container-id-3 div.sk-estimator {font-family: monospace;background-color: #f0f8ff;border: 1px dotted black;border-radius: 0.25em;box-sizing: border-box;margin-bottom: 0.5em;}#sk-container-id-3 div.sk-estimator:hover {background-color: #d4ebff;}#sk-container-id-3 div.sk-parallel-item::after {content: \"\";width: 100%;border-bottom: 1px solid gray;flex-grow: 1;}#sk-container-id-3 div.sk-label:hover label.sk-toggleable__label {background-color: #d4ebff;}#sk-container-id-3 div.sk-serial::before {content: \"\";position: absolute;border-left: 1px solid gray;box-sizing: border-box;top: 0;bottom: 0;left: 50%;z-index: 0;}#sk-container-id-3 div.sk-serial {display: flex;flex-direction: column;align-items: center;background-color: white;padding-right: 0.2em;padding-left: 0.2em;position: relative;}#sk-container-id-3 div.sk-item {position: relative;z-index: 1;}#sk-container-id-3 div.sk-parallel {display: flex;align-items: stretch;justify-content: center;background-color: white;position: relative;}#sk-container-id-3 div.sk-item::before, #sk-container-id-3 div.sk-parallel-item::before {content: \"\";position: absolute;border-left: 1px solid gray;box-sizing: border-box;top: 0;bottom: 0;left: 50%;z-index: -1;}#sk-container-id-3 div.sk-parallel-item {display: flex;flex-direction: column;z-index: 1;position: relative;background-color: white;}#sk-container-id-3 div.sk-parallel-item:first-child::after {align-self: flex-end;width: 50%;}#sk-container-id-3 div.sk-parallel-item:last-child::after {align-self: flex-start;width: 50%;}#sk-container-id-3 div.sk-parallel-item:only-child::after {width: 0;}#sk-container-id-3 div.sk-dashed-wrapped {border: 1px dashed gray;margin: 0 0.4em 0.5em 0.4em;box-sizing: border-box;padding-bottom: 0.4em;background-color: white;}#sk-container-id-3 div.sk-label label {font-family: monospace;font-weight: bold;display: inline-block;line-height: 1.2em;}#sk-container-id-3 div.sk-label-container {text-align: center;}#sk-container-id-3 div.sk-container {/* jupyter's `normalize.less` sets `[hidden] { display: none; }` but bootstrap.min.css set `[hidden] { display: none !important; }` so we also need the `!important` here to be able to override the default hidden behavior on the sphinx rendered scikit-learn.org. See: https://github.com/scikit-learn/scikit-learn/issues/21755 */display: inline-block !important;position: relative;}#sk-container-id-3 div.sk-text-repr-fallback {display: none;}</style><div id=\"sk-container-id-3\" class=\"sk-top-container\"><div class=\"sk-text-repr-fallback\"><pre>LogisticRegression(max_iter=3000)</pre><b>In a Jupyter environment, please rerun this cell to show the HTML representation or trust the notebook. <br />On GitHub, the HTML representation is unable to render, please try loading this page with nbviewer.org.</b></div><div class=\"sk-container\" hidden><div class=\"sk-item\"><div class=\"sk-estimator sk-toggleable\"><input class=\"sk-toggleable__control sk-hidden--visually\" id=\"sk-estimator-id-3\" type=\"checkbox\" checked><label for=\"sk-estimator-id-3\" class=\"sk-toggleable__label sk-toggleable__label-arrow\">LogisticRegression</label><div class=\"sk-toggleable__content\"><pre>LogisticRegression(max_iter=3000)</pre></div></div></div></div></div>"
      ],
      "text/plain": [
       "LogisticRegression(max_iter=3000)"
      ]
     },
     "execution_count": 76,
     "metadata": {},
     "output_type": "execute_result"
    }
   ],
   "source": [
    "model"
   ]
  },
  {
   "cell_type": "code",
   "execution_count": 77,
   "id": "28fcaf22-b154-4b11-9e8e-ab7fb5429911",
   "metadata": {},
   "outputs": [],
   "source": [
    "#save the model\n",
    "import pickle\n",
    "\n",
    "with open('../model/cancellation-pred-model-lr.bin', 'wb') as f_out:\n",
    "    pickle.dump((dv, model), f_out)"
   ]
  },
  {
   "cell_type": "code",
   "execution_count": null,
   "id": "3a75026e-2186-46e2-a8d6-53a941db6e7f",
   "metadata": {},
   "outputs": [],
   "source": [
    "#auc score - 0.86"
   ]
  }
 ],
 "metadata": {
  "kernelspec": {
   "display_name": "Python 3 (ipykernel)",
   "language": "python",
   "name": "python3"
  },
  "language_info": {
   "codemirror_mode": {
    "name": "ipython",
    "version": 3
   },
   "file_extension": ".py",
   "mimetype": "text/x-python",
   "name": "python",
   "nbconvert_exporter": "python",
   "pygments_lexer": "ipython3",
   "version": "3.10.11"
  }
 },
 "nbformat": 4,
 "nbformat_minor": 5
}
