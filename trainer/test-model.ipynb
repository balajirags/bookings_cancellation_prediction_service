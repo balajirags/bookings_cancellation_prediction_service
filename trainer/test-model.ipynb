{
 "cells": [
  {
   "cell_type": "code",
   "execution_count": 2,
   "id": "169bd985-cd36-4d82-95be-4282ebd183ba",
   "metadata": {},
   "outputs": [],
   "source": [
    "import pickle"
   ]
  },
  {
   "cell_type": "code",
   "execution_count": 3,
   "id": "75031688-df9c-41e3-afcd-686a7b946609",
   "metadata": {},
   "outputs": [],
   "source": [
    "def load_model(file_path):\n",
    "  with open(file_path, 'rb') as f_in:\n",
    "    dv, model = pickle.load(f_in)  \n",
    "  return dv, model"
   ]
  },
  {
   "cell_type": "code",
   "execution_count": 4,
   "id": "e95894e2-1448-4f01-99da-725a9837aacb",
   "metadata": {},
   "outputs": [],
   "source": [
    "logistic_regression_model='../model/cancellation-pred-model-lr.bin'\n",
    "dv, model = load_model(logistic_regression_model)"
   ]
  },
  {
   "cell_type": "code",
   "execution_count": 5,
   "id": "b9d9b9a0-ac71-4fe5-ac73-6faa7c651fc6",
   "metadata": {},
   "outputs": [
    {
     "data": {
      "text/plain": [
       "(DictVectorizer(sparse=False), LogisticRegression(max_iter=3000))"
      ]
     },
     "execution_count": 5,
     "metadata": {},
     "output_type": "execute_result"
    }
   ],
   "source": [
    "dv, model"
   ]
  },
  {
   "cell_type": "code",
   "execution_count": 6,
   "id": "64e451d4-817b-4b06-82dd-6b395d1abcdd",
   "metadata": {},
   "outputs": [],
   "source": [
    "#0th customer booking from df_test\n",
    "\n",
    "test_booking = {'type_of_meal': 'meal_plan_1',\n",
    " 'room_type': 'room_type_1',\n",
    " 'market_segment_type': 'offline',\n",
    " 'car_parking_space': 0,\n",
    " 'repeated': 0,\n",
    " 'month_of_reservation': 'Oct',\n",
    " 'number_of_adults': 2,\n",
    " 'number_of_children': 0,\n",
    " 'number_of_weekend_nights': 0,\n",
    " 'number_of_week_nights': 3,\n",
    " 'lead_time': 105,\n",
    " 'p-c': 0,\n",
    " 'p-not-c': 0,\n",
    " 'average_price': 75.0,\n",
    " 'special_requests': 0}"
   ]
  },
  {
   "cell_type": "code",
   "execution_count": 7,
   "id": "b48eca90-f5a0-4a26-867e-7ad648197b65",
   "metadata": {},
   "outputs": [
    {
     "name": "stdout",
     "output_type": "stream",
     "text": [
      "Probablity of cancellation(using logistic regression) -  0.16396095226469487\n"
     ]
    }
   ],
   "source": [
    "dv, model = load_model('../model/cancellation-pred-model-lr.bin')\n",
    "X = dv.transform(test_booking)\n",
    "y_pred = model.predict_proba(X)[:, 1]\n",
    "y_pred[0]\n",
    "print('Probablity of cancellation(using logistic regression) - ', y_pred[0])"
   ]
  },
  {
   "cell_type": "code",
   "execution_count": null,
   "id": "d897ea3f-8e55-42e0-9885-6ebf19fd017d",
   "metadata": {},
   "outputs": [],
   "source": [
    "#testing decision tree model store in '../model/cancellation-pred-model-decision-tree.bin'"
   ]
  },
  {
   "cell_type": "code",
   "execution_count": 8,
   "id": "209cf0a9-c672-4000-ae92-04c3844a75e8",
   "metadata": {},
   "outputs": [
    {
     "name": "stdout",
     "output_type": "stream",
     "text": [
      "Probablity of cancellation(using decistion tree) -  0.125\n"
     ]
    }
   ],
   "source": [
    "dv, model = load_model('../model/cancellation-pred-model-decision-tree.bin')\n",
    "X = dv.transform(test_booking)\n",
    "y_pred = model.predict_proba(X)[:, 1]\n",
    "y_pred[0]\n",
    "print('Probablity of cancellation(using decistion tree) - ', y_pred[0])"
   ]
  },
  {
   "cell_type": "code",
   "execution_count": 9,
   "id": "adc8b06b-b079-4f4a-aede-58a47df299b2",
   "metadata": {},
   "outputs": [
    {
     "name": "stdout",
     "output_type": "stream",
     "text": [
      "Probablity of cancellation(using decistion tree) -  0.18832869643054037\n"
     ]
    }
   ],
   "source": [
    "#testing random forest model\n",
    "dv, model = load_model('../model/cancellation-pred-model-random-forest.bin')\n",
    "X = dv.transform(test_booking)\n",
    "y_pred = model.predict_proba(X)[:, 1]\n",
    "y_pred[0]\n",
    "print('Probablity of cancellation(using decistion tree) - ', y_pred[0])"
   ]
  }
 ],
 "metadata": {
  "kernelspec": {
   "display_name": "Python 3 (ipykernel)",
   "language": "python",
   "name": "python3"
  },
  "language_info": {
   "codemirror_mode": {
    "name": "ipython",
    "version": 3
   },
   "file_extension": ".py",
   "mimetype": "text/x-python",
   "name": "python",
   "nbconvert_exporter": "python",
   "pygments_lexer": "ipython3",
   "version": "3.10.11"
  }
 },
 "nbformat": 4,
 "nbformat_minor": 5
}
