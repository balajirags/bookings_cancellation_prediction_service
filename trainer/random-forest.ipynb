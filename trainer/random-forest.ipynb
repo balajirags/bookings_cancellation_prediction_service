{
 "cells": [
  {
   "cell_type": "code",
   "execution_count": 56,
   "id": "b212911a-6cd0-4dac-a981-c8230dbf02ea",
   "metadata": {},
   "outputs": [],
   "source": [
    "import pandas as pd\n",
    "import numpy as np\n",
    "import matplotlib.pyplot as plt\n",
    "import seaborn as sn\n",
    "import pickle"
   ]
  },
  {
   "cell_type": "code",
   "execution_count": 2,
   "id": "7799d2fc-e528-4fd3-a6ba-b44820d1dc46",
   "metadata": {},
   "outputs": [],
   "source": [
    "df =  pd.read_csv('../dataset/booking_train.csv')\n",
    "df.columns = df.columns.str.lower().str.replace(' ', '_')\n",
    "df['type_of_meal']=df['type_of_meal'].str.lower().str.replace(' ', '_')\n",
    "df['room_type']=df['room_type'].str.lower().str.replace(' ', '_')\n",
    "df['market_segment_type']=df['market_segment_type'].str.lower().str.replace(' ', '_')\n",
    "df = df[~df[\"date_of_reservation\"].str.contains(\"-\")]\n",
    "df['month_of_reservation'] = pd.to_datetime(df['date_of_reservation'],format='%m/%d/%Y').dt.strftime('%b') \n",
    "df['booking_status'] = (df.booking_status == 'Canceled').astype(int)\n"
   ]
  },
  {
   "cell_type": "code",
   "execution_count": 3,
   "id": "ca6b29e3-892b-4970-9670-22a9777f87f9",
   "metadata": {},
   "outputs": [],
   "source": [
    "#Perform the train/validation/test split with Scikit-Learn\n",
    "from sklearn.model_selection import train_test_split\n",
    "\n",
    "df_full_train, df_test = train_test_split(df,test_size=0.2, random_state=1)\n",
    "df_train, df_val = train_test_split(df_full_train,test_size=0.25, random_state=1)\n",
    "df_full_train  = df_full_train.reset_index(drop=True)\n",
    "df_train = df_train.reset_index(drop=True)\n",
    "df_val = df_val.reset_index(drop=True)\n",
    "df_test = df_test.reset_index(drop=True)\n",
    "y_full_train = df_full_train['booking_status'].values\n",
    "y_train = df_train['booking_status'].values\n",
    "y_val = df_val['booking_status'].values\n",
    "y_test = df_test['booking_status'].values\n",
    "del df_train['booking_status']\n",
    "del df_val['booking_status']\n",
    "del df_test['booking_status']\n"
   ]
  },
  {
   "cell_type": "code",
   "execution_count": 4,
   "id": "50b9fff9-988a-46c3-a034-7afac57e6070",
   "metadata": {},
   "outputs": [],
   "source": [
    "from sklearn.feature_extraction import DictVectorizer\n",
    "from sklearn.ensemble import RandomForestClassifier\n",
    "from sklearn.metrics import roc_auc_score\n",
    "from sklearn.metrics import roc_curve"
   ]
  },
  {
   "cell_type": "code",
   "execution_count": 5,
   "id": "1ba30717-0f4f-4fb0-99b1-0b1b3bcd3f0d",
   "metadata": {},
   "outputs": [
    {
     "data": {
      "text/plain": [
       "array(['average_price', 'car_parking_space', 'lead_time',\n",
       "       'market_segment_type=aviation',\n",
       "       'market_segment_type=complementary',\n",
       "       'market_segment_type=corporate', 'market_segment_type=offline',\n",
       "       'market_segment_type=online', 'month_of_reservation=Apr',\n",
       "       'month_of_reservation=Aug', 'month_of_reservation=Dec',\n",
       "       'month_of_reservation=Feb', 'month_of_reservation=Jan',\n",
       "       'month_of_reservation=Jul', 'month_of_reservation=Jun',\n",
       "       'month_of_reservation=Mar', 'month_of_reservation=May',\n",
       "       'month_of_reservation=Nov', 'month_of_reservation=Oct',\n",
       "       'month_of_reservation=Sep', 'number_of_adults',\n",
       "       'number_of_children', 'number_of_week_nights',\n",
       "       'number_of_weekend_nights', 'p-c', 'p-not-c', 'repeated',\n",
       "       'room_type=room_type_1', 'room_type=room_type_2',\n",
       "       'room_type=room_type_3', 'room_type=room_type_4',\n",
       "       'room_type=room_type_5', 'room_type=room_type_6',\n",
       "       'room_type=room_type_7', 'special_requests',\n",
       "       'type_of_meal=meal_plan_1', 'type_of_meal=meal_plan_2',\n",
       "       'type_of_meal=meal_plan_3', 'type_of_meal=not_selected'],\n",
       "      dtype=object)"
      ]
     },
     "execution_count": 5,
     "metadata": {},
     "output_type": "execute_result"
    }
   ],
   "source": [
    "numerical = ['number_of_adults','number_of_children','number_of_weekend_nights','number_of_week_nights','lead_time','p-c','p-not-c','average_price','special_requests']\n",
    "categorical = ['type_of_meal','room_type','market_segment_type','car_parking_space','repeated','month_of_reservation']\n",
    "\n",
    "\n",
    "train_dict = df_train[categorical + numerical].to_dict(orient='records')\n",
    "val_dict = df_val[categorical + numerical].to_dict(orient='records')\n",
    "test_dict = df_test[categorical + numerical].to_dict(orient='records')\n",
    "\n",
    "dv = DictVectorizer(sparse=False)\n",
    "X_train = dv.fit_transform(train_dict)\n",
    "X_val = dv.transform(val_dict)\n",
    "X_test = dv.transform(test_dict)\n",
    "features = dv.get_feature_names_out()\n",
    "features"
   ]
  },
  {
   "cell_type": "code",
   "execution_count": 9,
   "id": "c9423160-25f6-4d4e-bbc1-5f78fefdb0b4",
   "metadata": {},
   "outputs": [
    {
     "data": {
      "text/plain": [
       "0.8801356634023526"
      ]
     },
     "execution_count": 9,
     "metadata": {},
     "output_type": "execute_result"
    }
   ],
   "source": [
    "rf = RandomForestClassifier(n_estimators=2)\n",
    "rf.fit(X_train, y_train)\n",
    "y_pred = rf.predict_proba(X_val)[:, 1]\n",
    "roc_auc_score(y_val, y_pred)"
   ]
  },
  {
   "cell_type": "code",
   "execution_count": 19,
   "id": "b495ad3c-3bce-4a50-adbc-ca3ec641f954",
   "metadata": {},
   "outputs": [
    {
     "data": {
      "text/plain": [
       "[(2, 0.8843045579703434),\n",
       " (5, 0.9249649851099004),\n",
       " (8, 0.9351791232664473),\n",
       " (10, 0.9382178403321011),\n",
       " (15, 0.9433776685696804),\n",
       " (20, 0.9450950822674493),\n",
       " (25, 0.9457536288477785),\n",
       " (30, 0.9472042645188997),\n",
       " (50, 0.9494940032615071),\n",
       " (75, 0.9500581271735195),\n",
       " (100, 0.9505653255753248)]"
      ]
     },
     "execution_count": 19,
     "metadata": {},
     "output_type": "execute_result"
    }
   ],
   "source": [
    "auc_scores=[]\n",
    "for i in [2,5,8,10,15,20,25,30,50,75,100]:\n",
    "    rf = RandomForestClassifier(n_estimators=i,random_state=5)\n",
    "    rf.fit(X_train, y_train)\n",
    "    y_pred = rf.predict_proba(X_val)[:, 1]\n",
    "    auc = roc_auc_score(y_val, y_pred)\n",
    "    auc_scores.append((i,auc))\n",
    "auc_scores    "
   ]
  },
  {
   "cell_type": "code",
   "execution_count": 21,
   "id": "8451beb3-2304-4688-9887-312ab4a6c6b5",
   "metadata": {},
   "outputs": [
    {
     "name": "stdout",
     "output_type": "stream",
     "text": [
      "depth: 5\n",
      "10 -> 0.866\n",
      "20 -> 0.874\n",
      "30 -> 0.877\n",
      "40 -> 0.880\n",
      "50 -> 0.879\n",
      "60 -> 0.878\n",
      "70 -> 0.879\n",
      "80 -> 0.880\n",
      "90 -> 0.879\n",
      "100 -> 0.881\n",
      "110 -> 0.881\n",
      "120 -> 0.881\n",
      "130 -> 0.882\n",
      "140 -> 0.881\n",
      "150 -> 0.881\n",
      "160 -> 0.882\n",
      "170 -> 0.884\n",
      "180 -> 0.884\n",
      "190 -> 0.884\n",
      "200 -> 0.883\n",
      "\n",
      "depth: 10\n",
      "10 -> 0.916\n",
      "20 -> 0.923\n",
      "30 -> 0.926\n",
      "40 -> 0.927\n",
      "50 -> 0.927\n",
      "60 -> 0.927\n",
      "70 -> 0.927\n",
      "80 -> 0.927\n",
      "90 -> 0.927\n",
      "100 -> 0.927\n",
      "110 -> 0.927\n",
      "120 -> 0.927\n",
      "130 -> 0.926\n",
      "140 -> 0.926\n",
      "150 -> 0.926\n",
      "160 -> 0.927\n",
      "170 -> 0.927\n",
      "180 -> 0.927\n",
      "190 -> 0.926\n",
      "200 -> 0.926\n",
      "\n",
      "depth: 15\n",
      "10 -> 0.938\n",
      "20 -> 0.942\n",
      "30 -> 0.944\n",
      "40 -> 0.945\n",
      "50 -> 0.945\n",
      "60 -> 0.945\n",
      "70 -> 0.946\n",
      "80 -> 0.946\n",
      "90 -> 0.946\n",
      "100 -> 0.946\n",
      "110 -> 0.947\n",
      "120 -> 0.947\n",
      "130 -> 0.947\n",
      "140 -> 0.947\n",
      "150 -> 0.947\n",
      "160 -> 0.947\n",
      "170 -> 0.947\n",
      "180 -> 0.947\n",
      "190 -> 0.947\n",
      "200 -> 0.947\n",
      "\n",
      "depth: 20\n",
      "10 -> 0.945\n",
      "20 -> 0.949\n",
      "30 -> 0.951\n",
      "40 -> 0.952\n",
      "50 -> 0.952\n",
      "60 -> 0.952\n",
      "70 -> 0.953\n",
      "80 -> 0.953\n",
      "90 -> 0.953\n",
      "100 -> 0.953\n",
      "110 -> 0.953\n",
      "120 -> 0.953\n",
      "130 -> 0.953\n",
      "140 -> 0.953\n",
      "150 -> 0.953\n",
      "160 -> 0.953\n",
      "170 -> 0.953\n",
      "180 -> 0.954\n",
      "190 -> 0.953\n",
      "200 -> 0.953\n",
      "\n"
     ]
    }
   ],
   "source": [
    "#max_depth\n",
    "\n",
    "auc_map = {}\n",
    "\n",
    "for depth in [5, 10, 15, 20]:\n",
    "    print('depth: %s' % depth)\n",
    "    auc_scores = []\n",
    "\n",
    "    for i in range(10, 201, 10):\n",
    "        rf = RandomForestClassifier(n_estimators=i, max_depth=depth, random_state=5)\n",
    "        rf.fit(X_train, y_train)\n",
    "        y_pred = rf.predict_proba(X_val)[:, 1]\n",
    "        auc = roc_auc_score(y_val, y_pred)\n",
    "        print('%s -> %.3f' % (i, auc))\n",
    "        auc_scores.append(auc)\n",
    "    \n",
    "    auc_map[depth] = auc_scores\n",
    "    print()"
   ]
  },
  {
   "cell_type": "code",
   "execution_count": 27,
   "id": "7156768b-1b02-453e-b7dc-8c177bb32fda",
   "metadata": {},
   "outputs": [
    {
     "data": {
      "image/png": "[encoded data removed]",
      "text/plain": [
       "<Figure size 640x480 with 1 Axes>"
      ]
     },
     "metadata": {},
     "output_type": "display_data"
    }
   ],
   "source": [
    "num_trees = list(range(10, 201, 10))\n",
    "\n",
    "plt.plot(num_trees, auc_map[5], label='depth=5', color='red', linestyle='solid')\n",
    "plt.plot(num_trees, auc_map[10], label='depth=10', color='black', linestyle='solid')\n",
    "plt.plot(num_trees, auc_map[15], label='depth=15', color='blue', linestyle='solid')\n",
    "plt.plot(num_trees, auc_map[20], label='depth=20', color='green', linestyle='solid')\n",
    "    \n",
    "plt.xticks(range(0, 201, 20))\n",
    "plt.legend()\n",
    "\n",
    "plt.title('Number of trees vs AUC')\n",
    "plt.xlabel('Number of trees')\n",
    "plt.ylabel('AUC')\n",
    "\n",
    "\n",
    "plt.show()"
   ]
  },
  {
   "cell_type": "code",
   "execution_count": null,
   "id": "89123c0f-d9f6-4796-888c-aa647e4c2a0c",
   "metadata": {},
   "outputs": [],
   "source": [
    "# max_depth =20 and estimator= 30 gives 0.95 auc"
   ]
  },
  {
   "cell_type": "code",
   "execution_count": 46,
   "id": "83451d4a-df9e-4c1a-a6ee-5342fc8f5574",
   "metadata": {},
   "outputs": [
    {
     "name": "stdout",
     "output_type": "stream",
     "text": [
      "min_samples_leaft: 2\n",
      "10 -> 0.943\n",
      "20 -> 0.948\n",
      "30 -> 0.951\n",
      "40 -> 0.951\n",
      "50 -> 0.952\n",
      "60 -> 0.952\n",
      "70 -> 0.952\n",
      "80 -> 0.953\n",
      "90 -> 0.953\n",
      "100 -> 0.953\n",
      "110 -> 0.953\n",
      "120 -> 0.953\n",
      "130 -> 0.953\n",
      "140 -> 0.953\n",
      "150 -> 0.953\n",
      "160 -> 0.953\n",
      "170 -> 0.953\n",
      "180 -> 0.953\n",
      "190 -> 0.953\n",
      "200 -> 0.953\n",
      "\n",
      "min_samples_leaft: 5\n",
      "10 -> 0.943\n",
      "20 -> 0.948\n",
      "30 -> 0.951\n",
      "40 -> 0.951\n",
      "50 -> 0.952\n",
      "60 -> 0.952\n",
      "70 -> 0.952\n",
      "80 -> 0.953\n",
      "90 -> 0.953\n",
      "100 -> 0.953\n",
      "110 -> 0.953\n",
      "120 -> 0.953\n",
      "130 -> 0.953\n",
      "140 -> 0.953\n",
      "150 -> 0.953\n",
      "160 -> 0.953\n",
      "170 -> 0.953\n",
      "180 -> 0.953\n",
      "190 -> 0.953\n",
      "200 -> 0.953\n",
      "\n",
      "min_samples_leaft: 10\n",
      "10 -> 0.943\n",
      "20 -> 0.948\n",
      "30 -> 0.951\n",
      "40 -> 0.951\n",
      "50 -> 0.952\n",
      "60 -> 0.952\n",
      "70 -> 0.952\n",
      "80 -> 0.953\n",
      "90 -> 0.953\n",
      "100 -> 0.953\n",
      "110 -> 0.953\n",
      "120 -> 0.953\n",
      "130 -> 0.953\n",
      "140 -> 0.953\n",
      "150 -> 0.953\n",
      "160 -> 0.953\n",
      "170 -> 0.953\n",
      "180 -> 0.953\n",
      "190 -> 0.953\n",
      "200 -> 0.953\n",
      "\n",
      "min_samples_leaft: 15\n",
      "10 -> 0.943\n",
      "20 -> 0.948\n",
      "30 -> 0.951\n",
      "40 -> 0.951\n",
      "50 -> 0.952\n",
      "60 -> 0.952\n",
      "70 -> 0.952\n",
      "80 -> 0.953\n",
      "90 -> 0.953\n",
      "100 -> 0.953\n",
      "110 -> 0.953\n",
      "120 -> 0.953\n",
      "130 -> 0.953\n",
      "140 -> 0.953\n",
      "150 -> 0.953\n",
      "160 -> 0.953\n",
      "170 -> 0.953\n",
      "180 -> 0.953\n",
      "190 -> 0.953\n",
      "200 -> 0.953\n",
      "\n",
      "min_samples_leaft: 20\n",
      "10 -> 0.943\n",
      "20 -> 0.948\n",
      "30 -> 0.951\n",
      "40 -> 0.951\n",
      "50 -> 0.952\n",
      "60 -> 0.952\n",
      "70 -> 0.952\n",
      "80 -> 0.953\n",
      "90 -> 0.953\n",
      "100 -> 0.953\n",
      "110 -> 0.953\n",
      "120 -> 0.953\n",
      "130 -> 0.953\n",
      "140 -> 0.953\n",
      "150 -> 0.953\n",
      "160 -> 0.953\n",
      "170 -> 0.953\n",
      "180 -> 0.953\n",
      "190 -> 0.953\n",
      "200 -> 0.953\n",
      "\n"
     ]
    }
   ],
   "source": [
    "# Tune min_samples_leaf\n",
    "auc_map = {}\n",
    "\n",
    "for min_samples in [2, 5, 10, 15, 20]:\n",
    "    print('min_samples_leaft: %s' % min_samples)\n",
    "    auc_scores = []\n",
    "\n",
    "    for i in range(10, 201, 10):\n",
    "        rf = RandomForestClassifier(n_estimators=i, max_depth=20, random_state=1)\n",
    "        rf.fit(X_train, y_train)\n",
    "        y_pred = rf.predict_proba(X_val)[:, 1]\n",
    "        auc = roc_auc_score(y_val, y_pred)\n",
    "        print('%s -> %.3f' % (i, auc))\n",
    "        auc_scores.append(auc)\n",
    "    \n",
    "    auc_map[min_samples] = auc_scores\n",
    "    print()"
   ]
  },
  {
   "cell_type": "code",
   "execution_count": 37,
   "id": "3177770a-9838-443b-ab79-d5b02e823d4e",
   "metadata": {},
   "outputs": [
    {
     "data": {
      "image/png": "[encoded data removed]",
      "text/plain": [
       "<Figure size 640x480 with 1 Axes>"
      ]
     },
     "metadata": {},
     "output_type": "display_data"
    }
   ],
   "source": [
    "num_trees = list(range(10, 201, 10))\n",
    "\n",
    "plt.plot(num_trees, auc_map[2], label='min_sample_leaft=2', color='red', linestyle='solid')\n",
    "plt.plot(num_trees, auc_map[5], label='min_sample_leaft=5', color='grey', linestyle='solid')\n",
    "plt.plot(num_trees, auc_map[10], label='min_sample_leaft=10', color='black', linestyle='solid')\n",
    "plt.plot(num_trees, auc_map[15], label='min_sample_leaft=15', color='blue', linestyle='solid')\n",
    "plt.plot(num_trees, auc_map[20], label='min_sample_leaft=20', color='green', linestyle='solid')\n",
    "    \n",
    "plt.xticks(range(0, 201, 20))\n",
    "plt.legend()\n",
    "\n",
    "plt.title('Number of trees vs AUC')\n",
    "plt.xlabel('Number of trees')\n",
    "plt.ylabel('AUC')\n",
    "\n",
    "\n",
    "plt.show()"
   ]
  },
  {
   "cell_type": "code",
   "execution_count": 41,
   "id": "7b9bd94e-4831-465c-b680-bbbfb95a5f57",
   "metadata": {},
   "outputs": [],
   "source": [
    "#min_sample_size looks simimlar at estimator=30, max_depth 20, min_samples=5\n",
    "#final model\n",
    "\n",
    "def train(df, y):\n",
    "    data = df[categorical + numerical].to_dict(orient='records')\n",
    "    dv = DictVectorizer(sparse=False)\n",
    "    dv.fit(data)\n",
    "    X = dv.transform(data)\n",
    "    model = RandomForestClassifier(n_estimators=30, max_depth=20, min_samples_leaf=5, random_state=5)\n",
    "    model.fit(X_train, y_train)\n",
    "    return dv, model\n",
    "\n",
    "\n",
    "def predict(df, dv, model):\n",
    "    data = df[categorical + numerical].to_dict(orient='records')\n",
    "    \n",
    "    X = dv.transform(data)\n",
    "\n",
    "    y_pred = model.predict_proba(X)[:, 1]\n",
    "\n",
    "    return y_pred\n"
   ]
  },
  {
   "cell_type": "code",
   "execution_count": 52,
   "id": "caab6ae4-ca81-4806-9acd-70889262ac04",
   "metadata": {},
   "outputs": [
    {
     "name": "stdout",
     "output_type": "stream",
     "text": [
      "train_auc - 0.965, val_auc - 0.942, test_auc - 0.934\n"
     ]
    }
   ],
   "source": [
    "dv, model = train(df_train, y_train)\n",
    "y_train_pred = predict(df_train, dv, model)\n",
    "y_val_pred = predict(df_val, dv, model)\n",
    "y_test_pred = predict(df_test, dv, model)\n",
    "train_auc = roc_auc_score(y_train, y_train_pred)\n",
    "val_auc = roc_auc_score(y_val, y_val_pred)\n",
    "test_auc = roc_auc_score(y_test, y_test_pred)\n",
    "\n",
    "train_auc,test_auc\n",
    "\n",
    "print('train_auc - %.3f, val_auc - %.3f, test_auc - %.3f' % (train_auc, val_auc, test_auc))\n",
    "\n",
    "\n",
    "#no overfitting found."
   ]
  },
  {
   "cell_type": "code",
   "execution_count": 53,
   "id": "30d67448-5918-4a34-886a-3f4df0e476e8",
   "metadata": {},
   "outputs": [
    {
     "data": {
      "text/html": [
       "<style>#sk-container-id-2 {color: black;}#sk-container-id-2 pre{padding: 0;}#sk-container-id-2 div.sk-toggleable {background-color: white;}#sk-container-id-2 label.sk-toggleable__label {cursor: pointer;display: block;width: 100%;margin-bottom: 0;padding: 0.3em;box-sizing: border-box;text-align: center;}#sk-container-id-2 label.sk-toggleable__label-arrow:before {content: \"▸\";float: left;margin-right: 0.25em;color: #696969;}#sk-container-id-2 label.sk-toggleable__label-arrow:hover:before {color: black;}#sk-container-id-2 div.sk-estimator:hover label.sk-toggleable__label-arrow:before {color: black;}#sk-container-id-2 div.sk-toggleable__content {max-height: 0;max-width: 0;overflow: hidden;text-align: left;background-color: #f0f8ff;}#sk-container-id-2 div.sk-toggleable__content pre {margin: 0.2em;color: black;border-radius: 0.25em;background-color: #f0f8ff;}#sk-container-id-2 input.sk-toggleable__control:checked~div.sk-toggleable__content {max-height: 200px;max-width: 100%;overflow: auto;}#sk-container-id-2 input.sk-toggleable__control:checked~label.sk-toggleable__label-arrow:before {content: \"▾\";}#sk-container-id-2 div.sk-estimator input.sk-toggleable__control:checked~label.sk-toggleable__label {background-color: #d4ebff;}#sk-container-id-2 div.sk-label input.sk-toggleable__control:checked~label.sk-toggleable__label {background-color: #d4ebff;}#sk-container-id-2 input.sk-hidden--visually {border: 0;clip: rect(1px 1px 1px 1px);clip: rect(1px, 1px, 1px, 1px);height: 1px;margin: -1px;overflow: hidden;padding: 0;position: absolute;width: 1px;}#sk-container-id-2 div.sk-estimator {font-family: monospace;background-color: #f0f8ff;border: 1px dotted black;border-radius: 0.25em;box-sizing: border-box;margin-bottom: 0.5em;}#sk-container-id-2 div.sk-estimator:hover {background-color: #d4ebff;}#sk-container-id-2 div.sk-parallel-item::after {content: \"\";width: 100%;border-bottom: 1px solid gray;flex-grow: 1;}#sk-container-id-2 div.sk-label:hover label.sk-toggleable__label {background-color: #d4ebff;}#sk-container-id-2 div.sk-serial::before {content: \"\";position: absolute;border-left: 1px solid gray;box-sizing: border-box;top: 0;bottom: 0;left: 50%;z-index: 0;}#sk-container-id-2 div.sk-serial {display: flex;flex-direction: column;align-items: center;background-color: white;padding-right: 0.2em;padding-left: 0.2em;position: relative;}#sk-container-id-2 div.sk-item {position: relative;z-index: 1;}#sk-container-id-2 div.sk-parallel {display: flex;align-items: stretch;justify-content: center;background-color: white;position: relative;}#sk-container-id-2 div.sk-item::before, #sk-container-id-2 div.sk-parallel-item::before {content: \"\";position: absolute;border-left: 1px solid gray;box-sizing: border-box;top: 0;bottom: 0;left: 50%;z-index: -1;}#sk-container-id-2 div.sk-parallel-item {display: flex;flex-direction: column;z-index: 1;position: relative;background-color: white;}#sk-container-id-2 div.sk-parallel-item:first-child::after {align-self: flex-end;width: 50%;}#sk-container-id-2 div.sk-parallel-item:last-child::after {align-self: flex-start;width: 50%;}#sk-container-id-2 div.sk-parallel-item:only-child::after {width: 0;}#sk-container-id-2 div.sk-dashed-wrapped {border: 1px dashed gray;margin: 0 0.4em 0.5em 0.4em;box-sizing: border-box;padding-bottom: 0.4em;background-color: white;}#sk-container-id-2 div.sk-label label {font-family: monospace;font-weight: bold;display: inline-block;line-height: 1.2em;}#sk-container-id-2 div.sk-label-container {text-align: center;}#sk-container-id-2 div.sk-container {/* jupyter's `normalize.less` sets `[hidden] { display: none; }` but bootstrap.min.css set `[hidden] { display: none !important; }` so we also need the `!important` here to be able to override the default hidden behavior on the sphinx rendered scikit-learn.org. See: https://github.com/scikit-learn/scikit-learn/issues/21755 */display: inline-block !important;position: relative;}#sk-container-id-2 div.sk-text-repr-fallback {display: none;}</style><div id=\"sk-container-id-2\" class=\"sk-top-container\"><div class=\"sk-text-repr-fallback\"><pre>RandomForestClassifier(max_depth=20, min_samples_leaf=5, n_estimators=30,\n",
       "                       random_state=5)</pre><b>In a Jupyter environment, please rerun this cell to show the HTML representation or trust the notebook. <br />On GitHub, the HTML representation is unable to render, please try loading this page with nbviewer.org.</b></div><div class=\"sk-container\" hidden><div class=\"sk-item\"><div class=\"sk-estimator sk-toggleable\"><input class=\"sk-toggleable__control sk-hidden--visually\" id=\"sk-estimator-id-2\" type=\"checkbox\" checked><label for=\"sk-estimator-id-2\" class=\"sk-toggleable__label sk-toggleable__label-arrow\">RandomForestClassifier</label><div class=\"sk-toggleable__content\"><pre>RandomForestClassifier(max_depth=20, min_samples_leaf=5, n_estimators=30,\n",
       "                       random_state=5)</pre></div></div></div></div></div>"
      ],
      "text/plain": [
       "RandomForestClassifier(max_depth=20, min_samples_leaf=5, n_estimators=30,\n",
       "                       random_state=5)"
      ]
     },
     "execution_count": 53,
     "metadata": {},
     "output_type": "execute_result"
    }
   ],
   "source": [
    "dv, model = train(df_full_train, y_full_train)\n",
    "model"
   ]
  },
  {
   "cell_type": "code",
   "execution_count": 54,
   "id": "8555942a-7fa9-49de-9e92-1ccf54205c59",
   "metadata": {},
   "outputs": [
    {
     "data": {
      "text/plain": [
       "0.934335885506027"
      ]
     },
     "execution_count": 54,
     "metadata": {},
     "output_type": "execute_result"
    }
   ],
   "source": [
    "y_pred = predict(df_test, dv, model)\n",
    "auc = roc_auc_score(y_test, y_pred)\n",
    "auc"
   ]
  },
  {
   "cell_type": "code",
   "execution_count": 57,
   "id": "bcf26dac-d60f-41bc-a5b9-7b7d42922a50",
   "metadata": {},
   "outputs": [],
   "source": [
    "with open('../model/cancellation-pred-model-random-forest.bin', 'wb') as f_out:\n",
    "    pickle.dump((dv,model),f_out)"
   ]
  },
  {
   "cell_type": "code",
   "execution_count": null,
   "id": "b5e038e2-2a13-43a8-8cea-c2ae6452c847",
   "metadata": {},
   "outputs": [],
   "source": [
    "#test auc - 0.934335885506027, which is 1% better than decision tree"
   ]
  }
 ],
 "metadata": {
  "kernelspec": {
   "display_name": "Python 3 (ipykernel)",
   "language": "python",
   "name": "python3"
  },
  "language_info": {
   "codemirror_mode": {
    "name": "ipython",
    "version": 3
   },
   "file_extension": ".py",
   "mimetype": "text/x-python",
   "name": "python",
   "nbconvert_exporter": "python",
   "pygments_lexer": "ipython3",
   "version": "3.10.11"
  }
 },
 "nbformat": 4,
 "nbformat_minor": 5
}
