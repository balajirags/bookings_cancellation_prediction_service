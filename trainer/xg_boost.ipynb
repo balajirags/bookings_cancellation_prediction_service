{
 "cells": [
  {
   "cell_type": "code",
   "execution_count": 1,
   "id": "a73695b1-3f8a-4672-8ebd-260cc504146f",
   "metadata": {},
   "outputs": [],
   "source": [
    "import pandas as pd\n",
    "import numpy as np\n",
    "import matplotlib.pyplot as plt\n",
    "import seaborn as sn\n",
    "import pickle"
   ]
  },
  {
   "cell_type": "code",
   "execution_count": 2,
   "id": "a6b7d17e-c50a-4157-b82b-7facb9976392",
   "metadata": {},
   "outputs": [],
   "source": [
    "df =  pd.read_csv('../dataset/booking_train.csv')\n",
    "df.columns = df.columns.str.lower().str.replace(' ', '_')\n",
    "df['type_of_meal']=df['type_of_meal'].str.lower().str.replace(' ', '_')\n",
    "df['room_type']=df['room_type'].str.lower().str.replace(' ', '_')\n",
    "df['market_segment_type']=df['market_segment_type'].str.lower().str.replace(' ', '_')\n",
    "df = df[~df[\"date_of_reservation\"].str.contains(\"-\")]\n",
    "df['month_of_reservation'] = pd.to_datetime(df['date_of_reservation'],format='%m/%d/%Y').dt.strftime('%b') \n",
    "df['booking_status'] = (df.booking_status == 'Canceled').astype(int)"
   ]
  },
  {
   "cell_type": "code",
   "execution_count": 141,
   "id": "f1c8b2e4-8c53-4fb0-8d94-4c38a9011679",
   "metadata": {},
   "outputs": [],
   "source": [
    "#Perform the train/validation/test split with Scikit-Learn\n",
    "from sklearn.model_selection import train_test_split\n",
    "\n",
    "df_full_train, df_test = train_test_split(df,test_size=0.2, random_state=1)\n",
    "df_train, df_val = train_test_split(df_full_train,test_size=0.25, random_state=1)\n",
    "df_full_train  = df_full_train.reset_index(drop=True)\n",
    "df_train = df_train.reset_index(drop=True)\n",
    "df_val = df_val.reset_index(drop=True)\n",
    "df_test = df_test.reset_index(drop=True)\n",
    "y_full_train = df_full_train['booking_status'].values\n",
    "y_train = df_train['booking_status'].values\n",
    "y_val = df_val['booking_status'].values\n",
    "y_test = df_test['booking_status'].values\n",
    "del df_train['booking_status']\n",
    "del df_val['booking_status']\n",
    "del df_test['booking_status']\n"
   ]
  },
  {
   "cell_type": "code",
   "execution_count": 4,
   "id": "72e09d93-ead6-45ef-b8aa-799d62effab4",
   "metadata": {},
   "outputs": [],
   "source": [
    "from sklearn.feature_extraction import DictVectorizer\n",
    "from sklearn.ensemble import RandomForestClassifier\n",
    "from sklearn.metrics import roc_auc_score\n",
    "from sklearn.metrics import roc_curve"
   ]
  },
  {
   "cell_type": "code",
   "execution_count": 142,
   "id": "8a6acaf8-f278-41bc-bfb8-8d94b2a4822c",
   "metadata": {},
   "outputs": [
    {
     "data": {
      "text/plain": [
       "['average_price',\n",
       " 'car_parking_space',\n",
       " 'lead_time',\n",
       " 'market_segment_type=aviation',\n",
       " 'market_segment_type=complementary',\n",
       " 'market_segment_type=corporate',\n",
       " 'market_segment_type=offline',\n",
       " 'market_segment_type=online',\n",
       " 'month_of_reservation=Apr',\n",
       " 'month_of_reservation=Aug',\n",
       " 'month_of_reservation=Dec',\n",
       " 'month_of_reservation=Feb',\n",
       " 'month_of_reservation=Jan',\n",
       " 'month_of_reservation=Jul',\n",
       " 'month_of_reservation=Jun',\n",
       " 'month_of_reservation=Mar',\n",
       " 'month_of_reservation=May',\n",
       " 'month_of_reservation=Nov',\n",
       " 'month_of_reservation=Oct',\n",
       " 'month_of_reservation=Sep',\n",
       " 'number_of_adults',\n",
       " 'number_of_children',\n",
       " 'number_of_week_nights',\n",
       " 'number_of_weekend_nights',\n",
       " 'p-c',\n",
       " 'p-not-c',\n",
       " 'repeated',\n",
       " 'room_type=room_type_1',\n",
       " 'room_type=room_type_2',\n",
       " 'room_type=room_type_3',\n",
       " 'room_type=room_type_4',\n",
       " 'room_type=room_type_5',\n",
       " 'room_type=room_type_6',\n",
       " 'room_type=room_type_7',\n",
       " 'special_requests',\n",
       " 'type_of_meal=meal_plan_1',\n",
       " 'type_of_meal=meal_plan_2',\n",
       " 'type_of_meal=meal_plan_3',\n",
       " 'type_of_meal=not_selected']"
      ]
     },
     "execution_count": 142,
     "metadata": {},
     "output_type": "execute_result"
    }
   ],
   "source": [
    "numerical = ['number_of_adults','number_of_children','number_of_weekend_nights','number_of_week_nights','lead_time','p-c','p-not-c','average_price','special_requests']\n",
    "categorical = ['type_of_meal','room_type','market_segment_type','car_parking_space','repeated','month_of_reservation']\n",
    "\n",
    "full_train_dict = df_full_train[categorical + numerical].to_dict(orient='records')\n",
    "train_dict = df_train[categorical + numerical].to_dict(orient='records')\n",
    "val_dict = df_val[categorical + numerical].to_dict(orient='records')\n",
    "test_dict = df_test[categorical + numerical].to_dict(orient='records')\n",
    "\n",
    "dv = DictVectorizer(sparse=False)\n",
    "X_train = dv.fit_transform(train_dict)\n",
    "X_val = dv.transform(val_dict)\n",
    "X_test = dv.transform(test_dict)\n",
    "X_full_train = dv.transform(full_train_dict)\n",
    "\n",
    "features = list(dv.get_feature_names_out())\n",
    "features"
   ]
  },
  {
   "cell_type": "code",
   "execution_count": 10,
   "id": "f28f7b03-f3f7-4a31-ba5b-1f9294a97358",
   "metadata": {},
   "outputs": [],
   "source": [
    "import xgboost as xgb"
   ]
  },
  {
   "cell_type": "code",
   "execution_count": 140,
   "id": "64ab60e8-580a-4057-a088-19d02f04ab8e",
   "metadata": {},
   "outputs": [],
   "source": [
    "dtrain = xgb.DMatrix(X_train, label=y_train, feature_names=features)\n",
    "dval = xgb.DMatrix(X_val, label=y_val, feature_names=features)\n",
    "dtest = xgb.DMatrix(X_test, label=y_test, feature_names=features)"
   ]
  },
  {
   "cell_type": "code",
   "execution_count": 11,
   "id": "d6275c40-516b-4993-af98-37241155a6b9",
   "metadata": {},
   "outputs": [],
   "source": [
    "xgb_params = {\n",
    "    'eta': 0.1,\n",
    "    'max_depth': 10,\n",
    "    'min_child_weight': 1,\n",
    "\n",
    "    'objective': 'binary:logistic',\n",
    "    'nthread': 8,\n",
    "    'seed': 1\n",
    "}"
   ]
  },
  {
   "cell_type": "code",
   "execution_count": 12,
   "id": "9539ba2a-d0cd-4ca6-9eff-4ce64a24795b",
   "metadata": {},
   "outputs": [],
   "source": [
    "model = xgb.train(xgb_params, dtrain, num_boost_round=10)"
   ]
  },
  {
   "cell_type": "code",
   "execution_count": 13,
   "id": "5a7e3b02-6e9e-40c2-84da-8d2c74e2ee63",
   "metadata": {},
   "outputs": [
    {
     "data": {
      "text/plain": [
       "array([0.30798873, 0.73791575, 0.1452187 , ..., 0.15863523, 0.30303952,\n",
       "       0.19408129], dtype=float32)"
      ]
     },
     "execution_count": 13,
     "metadata": {},
     "output_type": "execute_result"
    }
   ],
   "source": [
    "y_pred = model.predict(dval)\n",
    "y_pred"
   ]
  },
  {
   "cell_type": "code",
   "execution_count": 14,
   "id": "f8431952-61e7-4d3d-8913-95de97407b3c",
   "metadata": {},
   "outputs": [
    {
     "data": {
      "text/plain": [
       "0.9357873666416862"
      ]
     },
     "execution_count": 14,
     "metadata": {},
     "output_type": "execute_result"
    }
   ],
   "source": [
    "roc_auc_score(y_val, y_pred)"
   ]
  },
  {
   "cell_type": "code",
   "execution_count": 15,
   "id": "cdf8e7fa-ef42-4db2-a5d1-51de9ad4a42a",
   "metadata": {},
   "outputs": [],
   "source": [
    "watchlist = [(dtrain, 'train'), (dval, 'val')]"
   ]
  },
  {
   "cell_type": "code",
   "execution_count": 16,
   "id": "b9fd09ed-1377-4bae-ac93-5b6401e86a24",
   "metadata": {},
   "outputs": [],
   "source": [
    "xgb_params = {\n",
    "    'eta': 0.1,\n",
    "    'max_depth': 10,\n",
    "    'min_child_weight': 1,\n",
    "\n",
    "    'objective': 'binary:logistic',\n",
    "    'eval_metric': 'auc',\n",
    "    'nthread': 8,\n",
    "    'seed': 1\n",
    "}"
   ]
  },
  {
   "cell_type": "code",
   "execution_count": 26,
   "id": "9eab9414-38e4-4a20-a380-fe33c420694c",
   "metadata": {},
   "outputs": [
    {
     "name": "stdout",
     "output_type": "stream",
     "text": [
      "[0]\ttrain-auc:0.94227\tval-auc:0.92609\n",
      "[10]\ttrain-auc:0.95488\tval-auc:0.93661\n",
      "[20]\ttrain-auc:0.96104\tval-auc:0.94068\n",
      "[30]\ttrain-auc:0.96459\tval-auc:0.94368\n",
      "[40]\ttrain-auc:0.96690\tval-auc:0.94557\n",
      "[50]\ttrain-auc:0.97039\tval-auc:0.94752\n",
      "[60]\ttrain-auc:0.97178\tval-auc:0.94837\n",
      "[70]\ttrain-auc:0.97402\tval-auc:0.94916\n",
      "[80]\ttrain-auc:0.97575\tval-auc:0.94991\n",
      "[90]\ttrain-auc:0.97874\tval-auc:0.95138\n",
      "[100]\ttrain-auc:0.98087\tval-auc:0.95180\n",
      "[110]\ttrain-auc:0.98271\tval-auc:0.95256\n",
      "[120]\ttrain-auc:0.98444\tval-auc:0.95279\n",
      "[130]\ttrain-auc:0.98561\tval-auc:0.95287\n",
      "[140]\ttrain-auc:0.98695\tval-auc:0.95312\n",
      "[150]\ttrain-auc:0.98830\tval-auc:0.95358\n",
      "[160]\ttrain-auc:0.98898\tval-auc:0.95362\n",
      "[170]\ttrain-auc:0.98947\tval-auc:0.95366\n",
      "[180]\ttrain-auc:0.99020\tval-auc:0.95350\n",
      "[190]\ttrain-auc:0.99094\tval-auc:0.95376\n",
      "[199]\ttrain-auc:0.99135\tval-auc:0.95397\n"
     ]
    }
   ],
   "source": [
    "model = xgb.train(xgb_params, dtrain,\n",
    "                  num_boost_round=200,\n",
    "                  evals=watchlist, verbose_eval=10)"
   ]
  },
  {
   "cell_type": "code",
   "execution_count": 21,
   "id": "cfb7d7e3-0bb6-46e5-97ce-2fd51e1c4083",
   "metadata": {},
   "outputs": [],
   "source": [
    "def parse_xgb_output(output):\n",
    "    tree = []\n",
    "    aucs_train = []\n",
    "    aucs_val = []\n",
    "\n",
    "    for line in output.stdout.strip().split('\\n'):\n",
    "        it_line, train_line, val_line = line.split('\\t')\n",
    "\n",
    "        it = int(it_line.strip('[]'))\n",
    "        train = float(train_line.split(':')[1])\n",
    "        val = float(val_line.split(':')[1])\n",
    "\n",
    "        tree.append(it)\n",
    "        aucs_train.append(train)\n",
    "        aucs_val.append(val)\n",
    "\n",
    "    return tree, aucs_train, aucs_val"
   ]
  },
  {
   "cell_type": "code",
   "execution_count": 27,
   "id": "3a9da050-043e-4f61-a4bd-4cec833df120",
   "metadata": {},
   "outputs": [],
   "source": [
    "%%capture output\n",
    "model = xgb.train(xgb_params, dtrain,\n",
    "                  num_boost_round=200,\n",
    "                  evals=watchlist, verbose_eval=10)"
   ]
  },
  {
   "cell_type": "code",
   "execution_count": 28,
   "id": "e7773a3b-46d8-4794-9fb4-ebc179858e18",
   "metadata": {},
   "outputs": [],
   "source": [
    "tree, train_auc, val_auc = parse_xgb_output(output)"
   ]
  },
  {
   "cell_type": "code",
   "execution_count": 30,
   "id": "94d449e0-7577-44a0-87d8-4127782bed69",
   "metadata": {},
   "outputs": [
    {
     "data": {
      "image/png": "[encoded data removed]",
      "text/plain": [
       "<Figure size 640x480 with 1 Axes>"
      ]
     },
     "metadata": {},
     "output_type": "display_data"
    }
   ],
   "source": [
    "plt.plot(tree, train_auc, color='red', linestyle='dashed', label='Train AUC')\n",
    "plt.plot(tree, val_auc, color='red', linestyle='solid', label='Validation AUC')\n",
    "plt.xticks(range(0, 101, 25))\n",
    "\n",
    "plt.legend()\n",
    "\n",
    "plt.title('Number of trees vs AUC')\n",
    "plt.xlabel('Number of trees')\n",
    "plt.ylabel('AUC')\n",
    "\n",
    "plt.show()"
   ]
  },
  {
   "cell_type": "code",
   "execution_count": null,
   "id": "955a4dff-4a3b-45ee-b6c6-b6c9ee3e4a15",
   "metadata": {},
   "outputs": [],
   "source": [
    "# Trying for eta [0.1, -0.3, 0.05, 0.005, 0.01, 0.001]"
   ]
  },
  {
   "cell_type": "code",
   "execution_count": 62,
   "id": "292632a1-8c61-48ed-990e-3844357b62d3",
   "metadata": {},
   "outputs": [],
   "source": [
    "%%capture output\n",
    "#ETA is 0.1\n",
    "xgb_params = {\n",
    "    'eta': 0.1,\n",
    "    'max_depth': 10,\n",
    "    'min_child_weight': 1,\n",
    "\n",
    "    'objective': 'binary:logistic',\n",
    "    'eval_metric': 'auc',\n",
    "    'nthread': 8,\n",
    "    'seed': 1\n",
    "}\n",
    "\n",
    "model = xgb.train(xgb_params, dtrain,\n",
    "                  num_boost_round=500,\n",
    "                  evals=watchlist, verbose_eval=10)\n",
    "\n"
   ]
  },
  {
   "cell_type": "code",
   "execution_count": 63,
   "id": "c060ae08-54ef-4fba-a181-11d8b981a24b",
   "metadata": {},
   "outputs": [
    {
     "name": "stdout",
     "output_type": "stream",
     "text": [
      "0.95468\n",
      "(0.95468, 380)\n"
     ]
    }
   ],
   "source": [
    "tree, train_auc_eta_01, val_auc_eta_01 = parse_xgb_output(output)\n",
    "print(max(val_auc_eta_01))\n",
    "print(max(zip(val_auc_eta_01, tree)))"
   ]
  },
  {
   "cell_type": "code",
   "execution_count": 64,
   "id": "ad695676-562c-4d24-9bfa-1dab0344f299",
   "metadata": {},
   "outputs": [],
   "source": [
    "%%capture output\n",
    "#ETA is 0.01\n",
    "xgb_params = {\n",
    "    'eta': 0.01,\n",
    "    'max_depth': 10,\n",
    "    'min_child_weight': 1,\n",
    "\n",
    "    'objective': 'binary:logistic',\n",
    "    'eval_metric': 'auc',\n",
    "    'nthread': 8,\n",
    "    'seed': 1\n",
    "}\n",
    "\n",
    "model = xgb.train(xgb_params, dtrain,\n",
    "                  num_boost_round=500,\n",
    "                  evals=watchlist, verbose_eval=10)\n",
    "\n"
   ]
  },
  {
   "cell_type": "code",
   "execution_count": 65,
   "id": "ca0ce4f3-3300-4eeb-9143-fa954795bbbb",
   "metadata": {},
   "outputs": [
    {
     "name": "stdout",
     "output_type": "stream",
     "text": [
      "0.94795\n",
      "(0.94795, 499)\n"
     ]
    }
   ],
   "source": [
    "tree, train_auc_eta_001, val_auc_eta_001 = parse_xgb_output(output)\n",
    "print(max(val_auc_eta_001))\n",
    "print(max(zip(val_auc_eta_001, tree)))"
   ]
  },
  {
   "cell_type": "code",
   "execution_count": 66,
   "id": "3c7fa77a-33b2-41a3-a50e-0d1e6094d1d4",
   "metadata": {},
   "outputs": [],
   "source": [
    "%%capture output\n",
    "#ETA is 0.05\n",
    "xgb_params = {\n",
    "    'eta': 0.05,\n",
    "    'max_depth': 10,\n",
    "    'min_child_weight': 1,\n",
    "\n",
    "    'objective': 'binary:logistic',\n",
    "    'eval_metric': 'auc',\n",
    "    'nthread': 8,\n",
    "    'seed': 1\n",
    "}\n",
    "\n",
    "model = xgb.train(xgb_params, dtrain,\n",
    "                  num_boost_round=500,\n",
    "                  evals=watchlist, verbose_eval=10)"
   ]
  },
  {
   "cell_type": "code",
   "execution_count": 67,
   "id": "dbc7744b-7824-4166-99b0-e8b227ff1fd0",
   "metadata": {},
   "outputs": [
    {
     "name": "stdout",
     "output_type": "stream",
     "text": [
      "0.95468\n",
      "(0.95468, 460)\n"
     ]
    }
   ],
   "source": [
    "tree, train_auc_eta_005, val_auc_eta_005 = parse_xgb_output(output)\n",
    "print(max(val_auc_eta_005))\n",
    "print(max(zip(val_auc_eta_005, tree)))"
   ]
  },
  {
   "cell_type": "code",
   "execution_count": 69,
   "id": "e7f6b50b-3d47-4f5f-9e10-1d96a4275cec",
   "metadata": {},
   "outputs": [],
   "source": [
    "%%capture output\n",
    "#ETA is 0.5\n",
    "xgb_params = {\n",
    "    'eta': 0.5,\n",
    "    'max_depth': 10,\n",
    "    'min_child_weight': 1,\n",
    "\n",
    "    'objective': 'binary:logistic',\n",
    "    'eval_metric': 'auc',\n",
    "    'nthread': 8,\n",
    "    'seed': 1\n",
    "}\n",
    "\n",
    "model = xgb.train(xgb_params, dtrain,\n",
    "                  num_boost_round=500,\n",
    "                  evals=watchlist, verbose_eval=10)"
   ]
  },
  {
   "cell_type": "code",
   "execution_count": 70,
   "id": "8b0eb3ef-e96e-4af9-b9ff-9d1b2cea1a70",
   "metadata": {},
   "outputs": [
    {
     "name": "stdout",
     "output_type": "stream",
     "text": [
      "0.95198\n",
      "(0.95198, 70)\n"
     ]
    }
   ],
   "source": [
    "tree, train_auc_eta_05, val_auc_eta_05 = parse_xgb_output(output)\n",
    "print(max(val_auc_eta_05))\n",
    "print(max(zip(val_auc_eta_05, tree)))"
   ]
  },
  {
   "cell_type": "code",
   "execution_count": 72,
   "id": "73d0d312-3cdd-4f1c-9a91-71fa2f7ddb0d",
   "metadata": {},
   "outputs": [],
   "source": [
    "%%capture output\n",
    "#ETA is 0.3\n",
    "xgb_params = {\n",
    "    'eta': 0.3,\n",
    "    'max_depth': 10,\n",
    "    'min_child_weight': 1,\n",
    "\n",
    "    'objective': 'binary:logistic',\n",
    "    'eval_metric': 'auc',\n",
    "    'nthread': 8,\n",
    "    'seed': 1\n",
    "}\n",
    "\n",
    "model = xgb.train(xgb_params, dtrain,\n",
    "                  num_boost_round=500,\n",
    "                  evals=watchlist, verbose_eval=10)"
   ]
  },
  {
   "cell_type": "code",
   "execution_count": 74,
   "id": "4067a23f-4061-45db-b545-6c947aa62abe",
   "metadata": {},
   "outputs": [
    {
     "name": "stdout",
     "output_type": "stream",
     "text": [
      "0.95355\n",
      "(0.95355, 90)\n"
     ]
    }
   ],
   "source": [
    "tree, train_auc_eta_03, val_auc_eta_03 = parse_xgb_output(output)\n",
    "print(max(val_auc_eta_03))\n",
    "print(max(zip(val_auc_eta_03, tree)))"
   ]
  },
  {
   "cell_type": "code",
   "execution_count": 75,
   "id": "d18b2f81-9860-4556-8b07-179931215ff2",
   "metadata": {},
   "outputs": [],
   "source": [
    "%%capture output\n",
    "#ETA is 0.7\n",
    "xgb_params = {\n",
    "    'eta': 0.7,\n",
    "    'max_depth': 10,\n",
    "    'min_child_weight': 1,\n",
    "\n",
    "    'objective': 'binary:logistic',\n",
    "    'eval_metric': 'auc',\n",
    "    'nthread': 8,\n",
    "    'seed': 1\n",
    "}\n",
    "\n",
    "model = xgb.train(xgb_params, dtrain,\n",
    "                  num_boost_round=500,\n",
    "                  evals=watchlist, verbose_eval=10)"
   ]
  },
  {
   "cell_type": "code",
   "execution_count": 76,
   "id": "e49ffa9b-fcff-4fbd-b4e6-05a678f3ae3c",
   "metadata": {},
   "outputs": [
    {
     "name": "stdout",
     "output_type": "stream",
     "text": [
      "0.94985\n",
      "(0.94985, 30)\n"
     ]
    }
   ],
   "source": [
    "tree, train_auc_eta_07, val_auc_eta_07 = parse_xgb_output(output)\n",
    "print(max(val_auc_eta_07))\n",
    "print(max(zip(val_auc_eta_07, tree)))"
   ]
  },
  {
   "cell_type": "code",
   "execution_count": 77,
   "id": "bca66d22-3286-4537-ae85-47bbecd0e611",
   "metadata": {},
   "outputs": [],
   "source": [
    "%%capture output\n",
    "#ETA is 0.01\n",
    "xgb_params = {\n",
    "    'eta': 0.01,\n",
    "    'max_depth': 10,\n",
    "    'min_child_weight': 1,\n",
    "\n",
    "    'objective': 'binary:logistic',\n",
    "    'eval_metric': 'auc',\n",
    "    'nthread': 8,\n",
    "    'seed': 1\n",
    "}\n",
    "\n",
    "model = xgb.train(xgb_params, dtrain,\n",
    "                  num_boost_round=500,\n",
    "                  evals=watchlist, verbose_eval=10)"
   ]
  },
  {
   "cell_type": "code",
   "execution_count": 78,
   "id": "ce93974f-9de6-4853-abe3-a067f1affcfa",
   "metadata": {},
   "outputs": [
    {
     "name": "stdout",
     "output_type": "stream",
     "text": [
      "0.94795\n",
      "(0.94795, 499)\n"
     ]
    }
   ],
   "source": [
    "tree, train_auc_eta_001, val_auc_eta_001 = parse_xgb_output(output)\n",
    "print(max(val_auc_eta_001))\n",
    "print(max(zip(val_auc_eta_001, tree)))"
   ]
  },
  {
   "cell_type": "code",
   "execution_count": 79,
   "id": "eabbbec8-bf27-4918-ba1d-c99454db453a",
   "metadata": {},
   "outputs": [
    {
     "data": {
      "image/png": "[encoded data removed]",
      "text/plain": [
       "<Figure size 600x400 with 1 Axes>"
      ]
     },
     "metadata": {},
     "output_type": "display_data"
    }
   ],
   "source": [
    "plt.plot(tree, val_auc_eta_01, color='black', linestyle='solid', label='eta=0.1')\n",
    "plt.plot(tree, val_auc_eta_03, color='red', linestyle='dashed', label='eta=0.3')\n",
    "plt.plot(tree, val_auc_eta_05, color='green', linestyle='dashed', label='eta=0.5')\n",
    "plt.plot(tree, val_auc_eta_07, color='grey', linestyle='dashed', label='eta=0.7')\n",
    "plt.plot(tree, val_auc_eta_005, color='blue', linestyle='dashed', label='eta=0.05')\n",
    "plt.plot(tree, val_auc_eta_001, color='brown', linestyle='dashed', label='eta=0.001')\n",
    "\n",
    "plt.xticks(range(0, 501, 100))\n",
    "\n",
    "plt.legend()\n",
    "\n",
    "plt.title('The effect of eta on model performance')\n",
    "plt.xlabel('Number of trees')\n",
    "plt.ylabel('AUC (validation)')\n",
    "\n",
    "plt.show()"
   ]
  },
  {
   "cell_type": "code",
   "execution_count": null,
   "id": "79ee58d2-d568-425a-8616-fe9f2c4d7a4b",
   "metadata": {},
   "outputs": [],
   "source": [
    "#eta 0.1 looks good from 150 trees"
   ]
  },
  {
   "cell_type": "code",
   "execution_count": null,
   "id": "1adc3de6-f334-4a97-9149-7920bd88c90b",
   "metadata": {},
   "outputs": [],
   "source": [
    "#Fine tuning max depth for [3, 5, 10, 20, 30]"
   ]
  },
  {
   "cell_type": "code",
   "execution_count": 80,
   "id": "cb7d3f08-a197-4c05-a521-8131160b3264",
   "metadata": {},
   "outputs": [],
   "source": [
    "%%capture output\n",
    "#max depth 3\n",
    "xgb_params = {\n",
    "    'eta': 0.1,\n",
    "    'max_depth': 3,\n",
    "    'min_child_weight': 1,\n",
    "\n",
    "    'objective': 'binary:logistic',\n",
    "    'eval_metric': 'auc',\n",
    "    'nthread': 8,\n",
    "    'seed': 1\n",
    "}\n",
    "\n",
    "model = xgb.train(xgb_params, dtrain,\n",
    "                  num_boost_round=500,\n",
    "                  evals=watchlist, verbose_eval=10)"
   ]
  },
  {
   "cell_type": "code",
   "execution_count": 81,
   "id": "407bc5f9-abcf-49e4-9c52-c73fcf6d989f",
   "metadata": {},
   "outputs": [
    {
     "name": "stdout",
     "output_type": "stream",
     "text": [
      "0.9373\n",
      "(0.9373, 499)\n"
     ]
    }
   ],
   "source": [
    "tree, train_auc_max_depth_3, val_auc_max_depth_3 = parse_xgb_output(output)\n",
    "print(max(val_auc_max_depth_3))\n",
    "print(max(zip(val_auc_max_depth_3, tree)))"
   ]
  },
  {
   "cell_type": "code",
   "execution_count": 82,
   "id": "b33bcff0-b069-48a7-8dda-1da46ec953da",
   "metadata": {},
   "outputs": [],
   "source": [
    "%%capture output\n",
    "#max depth 5\n",
    "xgb_params = {\n",
    "    'eta': 0.1,\n",
    "    'max_depth': 5,\n",
    "    'min_child_weight': 1,\n",
    "\n",
    "    'objective': 'binary:logistic',\n",
    "    'eval_metric': 'auc',\n",
    "    'nthread': 8,\n",
    "    'seed': 1\n",
    "}\n",
    "\n",
    "model = xgb.train(xgb_params, dtrain,\n",
    "                  num_boost_round=500,\n",
    "                  evals=watchlist, verbose_eval=10)"
   ]
  },
  {
   "cell_type": "code",
   "execution_count": 83,
   "id": "0649680b-fafd-4d8c-9925-10ead05ae7ea",
   "metadata": {},
   "outputs": [
    {
     "name": "stdout",
     "output_type": "stream",
     "text": [
      "0.95101\n",
      "(0.95101, 499)\n"
     ]
    }
   ],
   "source": [
    "tree, train_auc_max_depth_5, val_auc_max_depth_5 = parse_xgb_output(output)\n",
    "print(max(val_auc_max_depth_5))\n",
    "print(max(zip(val_auc_max_depth_5, tree)))"
   ]
  },
  {
   "cell_type": "code",
   "execution_count": 86,
   "id": "9c18956a-fb1a-408f-9697-901e0cbd11c9",
   "metadata": {},
   "outputs": [],
   "source": [
    "%%capture output\n",
    "#max depth 10\n",
    "xgb_params = {\n",
    "    'eta': 0.1,\n",
    "    'max_depth': 10,\n",
    "    'min_child_weight': 1,\n",
    "\n",
    "    'objective': 'binary:logistic',\n",
    "    'eval_metric': 'auc',\n",
    "    'nthread': 8,\n",
    "    'seed': 1\n",
    "}\n",
    "\n",
    "model = xgb.train(xgb_params, dtrain,\n",
    "                  num_boost_round=500,\n",
    "                  evals=watchlist, verbose_eval=10)"
   ]
  },
  {
   "cell_type": "code",
   "execution_count": 87,
   "id": "c9698310-c6fd-4f2c-ab80-1a49697b59ae",
   "metadata": {},
   "outputs": [
    {
     "name": "stdout",
     "output_type": "stream",
     "text": [
      "0.95468\n",
      "(0.95468, 380)\n"
     ]
    }
   ],
   "source": [
    "tree, train_auc_max_depth_10, val_auc_max_depth_10 = parse_xgb_output(output)\n",
    "print(max(val_auc_max_depth_10))\n",
    "print(max(zip(val_auc_max_depth_10, tree)))"
   ]
  },
  {
   "cell_type": "code",
   "execution_count": 88,
   "id": "2da9f0f9-88ea-40ef-af41-e10b4309cf49",
   "metadata": {},
   "outputs": [],
   "source": [
    "%%capture output\n",
    "#max depth 20\n",
    "xgb_params = {\n",
    "    'eta': 0.1,\n",
    "    'max_depth': 20,\n",
    "    'min_child_weight': 1,\n",
    "\n",
    "    'objective': 'binary:logistic',\n",
    "    'eval_metric': 'auc',\n",
    "    'nthread': 8,\n",
    "    'seed': 1\n",
    "}\n",
    "\n",
    "model = xgb.train(xgb_params, dtrain,\n",
    "                  num_boost_round=500,\n",
    "                  evals=watchlist, verbose_eval=10)"
   ]
  },
  {
   "cell_type": "code",
   "execution_count": 89,
   "id": "5b7e1780-e49b-447d-a2b6-26f36358f877",
   "metadata": {},
   "outputs": [
    {
     "name": "stdout",
     "output_type": "stream",
     "text": [
      "0.95403\n",
      "(0.95403, 100)\n"
     ]
    }
   ],
   "source": [
    "tree, train_auc_max_depth_20, val_auc_max_depth_20 = parse_xgb_output(output)\n",
    "print(max(val_auc_max_depth_20))\n",
    "print(max(zip(val_auc_max_depth_20, tree)))"
   ]
  },
  {
   "cell_type": "code",
   "execution_count": 90,
   "id": "71ccbc42-1964-463a-a498-c2d53181164d",
   "metadata": {},
   "outputs": [],
   "source": [
    "%%capture output\n",
    "#max depth 30\n",
    "xgb_params = {\n",
    "    'eta': 0.1,\n",
    "    'max_depth': 30,\n",
    "    'min_child_weight': 1,\n",
    "\n",
    "    'objective': 'binary:logistic',\n",
    "    'eval_metric': 'auc',\n",
    "    'nthread': 8,\n",
    "    'seed': 1\n",
    "}\n",
    "\n",
    "model = xgb.train(xgb_params, dtrain,\n",
    "                  num_boost_round=500,\n",
    "                  evals=watchlist, verbose_eval=10)"
   ]
  },
  {
   "cell_type": "code",
   "execution_count": 91,
   "id": "572ee65c-db06-4bb5-aefb-11bec5213e8e",
   "metadata": {},
   "outputs": [
    {
     "name": "stdout",
     "output_type": "stream",
     "text": [
      "0.95328\n",
      "(0.95328, 120)\n"
     ]
    }
   ],
   "source": [
    "tree, train_auc_max_depth_30, val_auc_max_depth_30 = parse_xgb_output(output)\n",
    "print(max(val_auc_max_depth_30))\n",
    "print(max(zip(val_auc_max_depth_30, tree)))"
   ]
  },
  {
   "cell_type": "code",
   "execution_count": 96,
   "id": "3f1dc544-b28c-4a26-9d6b-5e9e09fde2ea",
   "metadata": {},
   "outputs": [
    {
     "data": {
      "image/png": "[encoded data removed]",
      "text/plain": [
       "<Figure size 640x480 with 1 Axes>"
      ]
     },
     "metadata": {},
     "output_type": "display_data"
    }
   ],
   "source": [
    "plt.plot(tree, val_auc_max_depth_3, color='black', linestyle='dashed', label='max_depth_03')\n",
    "plt.plot(tree, val_auc_max_depth_5, color='red', linestyle='dashed', label='max_depth_05')\n",
    "plt.plot(tree, val_auc_max_depth_10, color='green', linestyle='dashed', label='max_depth_10')\n",
    "plt.plot(tree, val_auc_max_depth_20, color='grey', linestyle='dashed', label='max_depth_20')\n",
    "plt.plot(tree, val_auc_max_depth_30, color='blue', linestyle='dashed', label='max_depth_30')\n",
    "\n",
    "\n",
    "plt.xticks(range(0, 501, 100))\n",
    "\n",
    "plt.legend()\n",
    "\n",
    "plt.title('The effect of eta on model performance')\n",
    "plt.xlabel('Number of trees')\n",
    "plt.ylabel('AUC (validation)')\n",
    "\n",
    "plt.show()\n",
    "\n"
   ]
  },
  {
   "cell_type": "code",
   "execution_count": 97,
   "id": "6222325e-1f3a-45d8-b581-4c7a601fedd1",
   "metadata": {},
   "outputs": [],
   "source": [
    "#max depth 10 and 20 seems simalar.. picking 10 at 100 tree"
   ]
  },
  {
   "cell_type": "code",
   "execution_count": null,
   "id": "cf3db40a-d10a-4013-a4b9-1e3184824f1f",
   "metadata": {},
   "outputs": [],
   "source": [
    "#Tuning min child weight [2, 5, 10, 15, 20]"
   ]
  },
  {
   "cell_type": "code",
   "execution_count": 104,
   "id": "16e4b06d-6c5e-4608-806c-3daac895f8ee",
   "metadata": {},
   "outputs": [],
   "source": [
    "%%capture output\n",
    "#min child weight 2\n",
    "xgb_params = {\n",
    "    'eta': 0.1,\n",
    "    'max_depth': 10,\n",
    "    'min_child_weight': 2,\n",
    "\n",
    "    'objective': 'binary:logistic',\n",
    "    'eval_metric': 'auc',\n",
    "    'nthread': 8,\n",
    "    'seed': 1\n",
    "}\n",
    "\n",
    "model = xgb.train(xgb_params, dtrain,\n",
    "                  num_boost_round=500,\n",
    "                  evals=watchlist, verbose_eval=10)"
   ]
  },
  {
   "cell_type": "code",
   "execution_count": 105,
   "id": "1e4fb9d5-6628-4b2c-a28f-9e7aec501274",
   "metadata": {},
   "outputs": [
    {
     "name": "stdout",
     "output_type": "stream",
     "text": [
      "0.95492\n",
      "(0.95492, 290)\n"
     ]
    }
   ],
   "source": [
    "tree, train_auc_min_child_weight_2, val_auc_min_child_weight_2 = parse_xgb_output(output)\n",
    "print(max(val_auc_min_child_weight_2))\n",
    "print(max(zip(val_auc_min_child_weight_2, tree)))"
   ]
  },
  {
   "cell_type": "code",
   "execution_count": 106,
   "id": "e42c517e-668f-4fab-8773-a1b1e151f516",
   "metadata": {},
   "outputs": [],
   "source": [
    "%%capture output\n",
    "#min child weight 5\n",
    "xgb_params = {\n",
    "    'eta': 0.1,\n",
    "    'max_depth': 10,\n",
    "    'min_child_weight': 5,\n",
    "\n",
    "    'objective': 'binary:logistic',\n",
    "    'eval_metric': 'auc',\n",
    "    'nthread': 8,\n",
    "    'seed': 1\n",
    "}\n",
    "\n",
    "model = xgb.train(xgb_params, dtrain,\n",
    "                  num_boost_round=500,\n",
    "                  evals=watchlist, verbose_eval=10)"
   ]
  },
  {
   "cell_type": "code",
   "execution_count": 107,
   "id": "d7f45123-43af-4246-b781-437885d213fe",
   "metadata": {},
   "outputs": [
    {
     "name": "stdout",
     "output_type": "stream",
     "text": [
      "0.95303\n",
      "(0.95303, 390)\n"
     ]
    }
   ],
   "source": [
    "tree, train_auc_min_child_weight_5, val_auc_min_child_weight_5 = parse_xgb_output(output)\n",
    "print(max(val_auc_min_child_weight_5))\n",
    "print(max(zip(val_auc_min_child_weight_5, tree)))"
   ]
  },
  {
   "cell_type": "code",
   "execution_count": 109,
   "id": "901fb4ab-b018-40d3-aade-56cd39f98a8c",
   "metadata": {},
   "outputs": [],
   "source": [
    "%%capture output\n",
    "#min child weight 10\n",
    "xgb_params = {\n",
    "    'eta': 0.1,\n",
    "    'max_depth': 10,\n",
    "    'min_child_weight': 10,\n",
    "\n",
    "    'objective': 'binary:logistic',\n",
    "    'eval_metric': 'auc',\n",
    "    'nthread': 8,\n",
    "    'seed': 1\n",
    "}\n",
    "\n",
    "model = xgb.train(xgb_params, dtrain,\n",
    "                  num_boost_round=500,\n",
    "                  evals=watchlist, verbose_eval=10)"
   ]
  },
  {
   "cell_type": "code",
   "execution_count": 110,
   "id": "d5f06dfe-075a-4366-bc0f-ad385f82a5d2",
   "metadata": {},
   "outputs": [
    {
     "name": "stdout",
     "output_type": "stream",
     "text": [
      "0.95154\n",
      "(0.95154, 450)\n"
     ]
    }
   ],
   "source": [
    "tree, train_auc_min_child_weight_10, val_auc_min_child_weight_10 = parse_xgb_output(output)\n",
    "print(max(val_auc_min_child_weight_10))\n",
    "print(max(zip(val_auc_min_child_weight_10, tree)))"
   ]
  },
  {
   "cell_type": "code",
   "execution_count": 111,
   "id": "515f4fba-a984-4097-be07-db5ca0e482d4",
   "metadata": {},
   "outputs": [],
   "source": [
    "%%capture output\n",
    "#min child weight 15\n",
    "xgb_params = {\n",
    "    'eta': 0.1,\n",
    "    'max_depth': 10,\n",
    "    'min_child_weight': 15,\n",
    "\n",
    "    'objective': 'binary:logistic',\n",
    "    'eval_metric': 'auc',\n",
    "    'nthread': 8,\n",
    "    'seed': 1\n",
    "}\n",
    "\n",
    "model = xgb.train(xgb_params, dtrain,\n",
    "                  num_boost_round=500,\n",
    "                  evals=watchlist, verbose_eval=10)"
   ]
  },
  {
   "cell_type": "code",
   "execution_count": 112,
   "id": "d291226a-88df-4219-bf27-44f9a109c83a",
   "metadata": {},
   "outputs": [
    {
     "name": "stdout",
     "output_type": "stream",
     "text": [
      "0.94964\n",
      "(0.94964, 490)\n"
     ]
    }
   ],
   "source": [
    "tree, train_auc_min_child_weight_15, val_auc_min_child_weight_15 = parse_xgb_output(output)\n",
    "print(max(val_auc_min_child_weight_15))\n",
    "print(max(zip(val_auc_min_child_weight_15, tree)))"
   ]
  },
  {
   "cell_type": "code",
   "execution_count": 113,
   "id": "ef38aede-1716-46a9-9c2c-c3382adfb106",
   "metadata": {},
   "outputs": [],
   "source": [
    "%%capture output\n",
    "#min child weight 20\n",
    "xgb_params = {\n",
    "    'eta': 0.1,\n",
    "    'max_depth': 10,\n",
    "    'min_child_weight': 20,\n",
    "\n",
    "    'objective': 'binary:logistic',\n",
    "    'eval_metric': 'auc',\n",
    "    'nthread': 8,\n",
    "    'seed': 1\n",
    "}\n",
    "\n",
    "model = xgb.train(xgb_params, dtrain,\n",
    "                  num_boost_round=500,\n",
    "                  evals=watchlist, verbose_eval=10)"
   ]
  },
  {
   "cell_type": "code",
   "execution_count": 114,
   "id": "8449a782-7e46-40b6-bbf3-1c86d55015b6",
   "metadata": {},
   "outputs": [
    {
     "name": "stdout",
     "output_type": "stream",
     "text": [
      "0.94806\n",
      "(0.94806, 499)\n"
     ]
    }
   ],
   "source": [
    "tree, train_auc_min_child_weight_20, val_auc_min_child_weight_20 = parse_xgb_output(output)\n",
    "print(max(val_auc_min_child_weight_20))\n",
    "print(max(zip(val_auc_min_child_weight_20, tree)))"
   ]
  },
  {
   "cell_type": "code",
   "execution_count": 115,
   "id": "0f2235ac-a44b-4a5c-8fd7-dcf2e737b098",
   "metadata": {},
   "outputs": [
    {
     "data": {
      "image/png": "[encoded data removed]",
      "text/plain": [
       "<Figure size 640x480 with 1 Axes>"
      ]
     },
     "metadata": {},
     "output_type": "display_data"
    }
   ],
   "source": [
    "plt.plot(tree, val_auc_min_child_weight_2, color='black', linestyle='dashed', label='min_child_weight_2')\n",
    "plt.plot(tree, val_auc_min_child_weight_5, color='red', linestyle='dashed', label='min_child_weight_5')\n",
    "plt.plot(tree, val_auc_min_child_weight_10, color='green', linestyle='dashed', label='min_child_weight_10')\n",
    "plt.plot(tree, val_auc_min_child_weight_15, color='grey', linestyle='dashed', label='min_child_weight_15')\n",
    "plt.plot(tree, val_auc_min_child_weight_20, color='blue', linestyle='dashed', label='min_child_weight_20')\n",
    "\n",
    "\n",
    "plt.xticks(range(0, 501, 100))\n",
    "\n",
    "plt.legend()\n",
    "\n",
    "plt.title('The effect of eta on model performance')\n",
    "plt.xlabel('Number of trees')\n",
    "plt.ylabel('AUC (validation)')\n",
    "\n",
    "plt.show()"
   ]
  },
  {
   "cell_type": "code",
   "execution_count": 163,
   "id": "a630aef7-78b9-4079-b6c6-323cf69b0a41",
   "metadata": {},
   "outputs": [],
   "source": [
    "%%capture output\n",
    "#subsample = 0.5\n",
    "xgb_params = {\n",
    "    'eta': 0.1,\n",
    "    'max_depth': 10,\n",
    "    'min_child_weight': 2,\n",
    "    'subsample': 0.5,\n",
    "    'objective': 'binary:logistic',\n",
    "    'eval_metric': 'auc',\n",
    "    'nthread': 8,\n",
    "    'seed': 1\n",
    "}\n",
    "\n",
    "model = xgb.train(xgb_params, dtrain,\n",
    "                  num_boost_round=500,\n",
    "                  evals=watchlist, verbose_eval=10)"
   ]
  },
  {
   "cell_type": "code",
   "execution_count": 164,
   "id": "d5a5a5a8-6e77-4dc9-821f-f9fe6bf5b0e5",
   "metadata": {},
   "outputs": [
    {
     "name": "stdout",
     "output_type": "stream",
     "text": [
      "0.9521\n",
      "(0.9521, 150)\n"
     ]
    }
   ],
   "source": [
    "tree, train_auc_subsample_05, val_auc_sub_sample_05 = parse_xgb_output(output)\n",
    "print(max(val_auc_sub_sample_05))\n",
    "print(max(zip(val_auc_sub_sample_05, tree)))"
   ]
  },
  {
   "cell_type": "code",
   "execution_count": 165,
   "id": "adcd52f3-2212-4748-8f7d-32df39c28134",
   "metadata": {},
   "outputs": [],
   "source": [
    "%%capture output\n",
    "#subsample = 0.7\n",
    "xgb_params = {\n",
    "    'eta': 0.1,\n",
    "    'max_depth': 10,\n",
    "    'min_child_weight': 2,\n",
    "    'subsample': 0.7,\n",
    "    'objective': 'binary:logistic',\n",
    "    'eval_metric': 'auc',\n",
    "    'nthread': 8,\n",
    "    'seed': 1\n",
    "}\n",
    "\n",
    "model = xgb.train(xgb_params, dtrain,\n",
    "                  num_boost_round=500,\n",
    "                  evals=watchlist, verbose_eval=10)"
   ]
  },
  {
   "cell_type": "code",
   "execution_count": 166,
   "id": "c907d18f-08e3-40ed-a871-8d7739c50ac6",
   "metadata": {},
   "outputs": [
    {
     "name": "stdout",
     "output_type": "stream",
     "text": [
      "0.95342\n",
      "(0.95342, 250)\n"
     ]
    }
   ],
   "source": [
    "tree, train_auc_subsample_07, val_auc_sub_sample_07 = parse_xgb_output(output)\n",
    "print(max(val_auc_sub_sample_07))\n",
    "print(max(zip(val_auc_sub_sample_07, tree)))"
   ]
  },
  {
   "cell_type": "code",
   "execution_count": 167,
   "id": "432ddba1-b8ba-4e4b-a252-48a5294af87a",
   "metadata": {},
   "outputs": [],
   "source": [
    "%%capture output\n",
    "#subsample = 1\n",
    "xgb_params = {\n",
    "    'eta': 0.1,\n",
    "    'max_depth': 10,\n",
    "    'min_child_weight': 2,\n",
    "    'subsample': 1,\n",
    "    'objective': 'binary:logistic',\n",
    "    'eval_metric': 'auc',\n",
    "    'nthread': 8,\n",
    "    'seed': 1\n",
    "}\n",
    "\n",
    "model = xgb.train(xgb_params, dtrain,\n",
    "                  num_boost_round=500,\n",
    "                  evals=watchlist, verbose_eval=10)"
   ]
  },
  {
   "cell_type": "code",
   "execution_count": 168,
   "id": "67d44474-2efd-48ad-aa7a-83e572d10b47",
   "metadata": {},
   "outputs": [
    {
     "name": "stdout",
     "output_type": "stream",
     "text": [
      "0.95492\n",
      "(0.95492, 290)\n"
     ]
    }
   ],
   "source": [
    "tree, train_auc_subsample_1, val_auc_sub_sample_1 = parse_xgb_output(output)\n",
    "print(max(val_auc_sub_sample_1))\n",
    "print(max(zip(val_auc_sub_sample_1, tree)))"
   ]
  },
  {
   "cell_type": "code",
   "execution_count": null,
   "id": "d5dafce3-e74b-4095-be90-584e44e7acd8",
   "metadata": {},
   "outputs": [],
   "source": [
    "#subsample value = 1 which is default looks better than others"
   ]
  },
  {
   "cell_type": "code",
   "execution_count": null,
   "id": "ce415bfb-1c1a-404f-a887-e0890e56a041",
   "metadata": {},
   "outputs": [],
   "source": [
    "#'colsample_bytree': 0.3, 0.5"
   ]
  },
  {
   "cell_type": "code",
   "execution_count": 169,
   "id": "a72f33c8-d0fe-4c86-91d5-ba19e6b663bf",
   "metadata": {},
   "outputs": [],
   "source": [
    "%%capture output\n",
    "#colsample_bytree = 0.5\n",
    "xgb_params = {\n",
    "    'eta': 0.1,\n",
    "    'max_depth': 10,\n",
    "    'min_child_weight': 2,\n",
    "    'colsample_bytree': 0.5,\n",
    "    'objective': 'binary:logistic',\n",
    "    'eval_metric': 'auc',\n",
    "    'nthread': 8,\n",
    "    'seed': 1\n",
    "}\n",
    "\n",
    "model = xgb.train(xgb_params, dtrain,\n",
    "                  num_boost_round=500,\n",
    "                  evals=watchlist, verbose_eval=10)"
   ]
  },
  {
   "cell_type": "code",
   "execution_count": 170,
   "id": "8b4f2347-1331-4bfb-8351-76093f11a5be",
   "metadata": {},
   "outputs": [
    {
     "name": "stdout",
     "output_type": "stream",
     "text": [
      "0.95492\n",
      "(0.95492, 410)\n"
     ]
    }
   ],
   "source": [
    "tree, train_auc_colsample_05, val_auc_col_sample_05 = parse_xgb_output(output)\n",
    "print(max(val_auc_col_sample_05))\n",
    "print(max(zip(val_auc_col_sample_05, tree)))"
   ]
  },
  {
   "cell_type": "code",
   "execution_count": 171,
   "id": "e0bbe002-e21a-4e43-b382-c99784eba25a",
   "metadata": {},
   "outputs": [],
   "source": [
    "%%capture output\n",
    "#colsample_bytree = 0.3\n",
    "xgb_params = {\n",
    "    'eta': 0.1,\n",
    "    'max_depth': 10,\n",
    "    'min_child_weight': 2,\n",
    "    'colsample_bytree': 0.3,\n",
    "    'objective': 'binary:logistic',\n",
    "    'eval_metric': 'auc',\n",
    "    'nthread': 8,\n",
    "    'seed': 1\n",
    "}\n",
    "\n",
    "model = xgb.train(xgb_params, dtrain,\n",
    "                  num_boost_round=500,\n",
    "                  evals=watchlist, verbose_eval=10)"
   ]
  },
  {
   "cell_type": "code",
   "execution_count": 172,
   "id": "fc681554-039a-43db-b02a-639f881774c9",
   "metadata": {},
   "outputs": [
    {
     "name": "stdout",
     "output_type": "stream",
     "text": [
      "0.95323\n",
      "(0.95323, 490)\n"
     ]
    }
   ],
   "source": [
    "tree, train_auc_colsample_03, val_auc_col_sample_03 = parse_xgb_output(output)\n",
    "print(max(val_auc_col_sample_03))\n",
    "print(max(zip(val_auc_col_sample_03, tree)))"
   ]
  },
  {
   "cell_type": "code",
   "execution_count": null,
   "id": "c06c259a-ef80-4abb-880d-73720d3cd922",
   "metadata": {},
   "outputs": [],
   "source": [
    "#colsample_bytree = 1 deafult seems better than others values/ Going with default."
   ]
  },
  {
   "cell_type": "code",
   "execution_count": 116,
   "id": "31a5da1a-13a8-4841-80b0-7fca38afd0b3",
   "metadata": {},
   "outputs": [],
   "source": [
    "#min_child_weight = 2 seems better than others.\n",
    "\n",
    "#final values\n",
    "eta = 0.1 \n",
    "min_child_weight = 2\n",
    "max_depth = 10"
   ]
  },
  {
   "cell_type": "code",
   "execution_count": 118,
   "id": "da80694b-2cb8-43c2-a497-c3671387db7b",
   "metadata": {},
   "outputs": [],
   "source": [
    "%%capture output\n",
    "\n",
    "xgb_params = {\n",
    "    'eta': 0.1,\n",
    "    'max_depth': 10,\n",
    "    'min_child_weight': 2,\n",
    "\n",
    "    'objective': 'binary:logistic',\n",
    "    'eval_metric': 'auc',\n",
    "    'nthread': 8,\n",
    "    'seed': 1\n",
    "}\n",
    "\n",
    "model = xgb.train(xgb_params, dtrain,\n",
    "                  num_boost_round=500,\n",
    "                  evals=watchlist, verbose_eval=10)"
   ]
  },
  {
   "cell_type": "code",
   "execution_count": 119,
   "id": "9a17c058-f8df-41b2-83d6-eb1868c8d173",
   "metadata": {},
   "outputs": [
    {
     "name": "stdout",
     "output_type": "stream",
     "text": [
      "[0]\ttrain-auc:0.93959\tval-auc:0.92371\n",
      "[10]\ttrain-auc:0.95250\tval-auc:0.93546\n",
      "[20]\ttrain-auc:0.95857\tval-auc:0.93982\n",
      "[30]\ttrain-auc:0.96171\tval-auc:0.94322\n",
      "[40]\ttrain-auc:0.96498\tval-auc:0.94562\n",
      "[50]\ttrain-auc:0.96678\tval-auc:0.94681\n",
      "[60]\ttrain-auc:0.96881\tval-auc:0.94807\n",
      "[70]\ttrain-auc:0.97146\tval-auc:0.94910\n",
      "[80]\ttrain-auc:0.97384\tval-auc:0.94992\n",
      "[90]\ttrain-auc:0.97583\tval-auc:0.95059\n",
      "[100]\ttrain-auc:0.97748\tval-auc:0.95135\n",
      "[110]\ttrain-auc:0.97885\tval-auc:0.95164\n",
      "[120]\ttrain-auc:0.98033\tval-auc:0.95216\n",
      "[130]\ttrain-auc:0.98175\tval-auc:0.95235\n",
      "[140]\ttrain-auc:0.98305\tval-auc:0.95259\n",
      "[150]\ttrain-auc:0.98414\tval-auc:0.95279\n",
      "[160]\ttrain-auc:0.98526\tval-auc:0.95294\n",
      "[170]\ttrain-auc:0.98622\tval-auc:0.95320\n",
      "[180]\ttrain-auc:0.98677\tval-auc:0.95338\n",
      "[190]\ttrain-auc:0.98753\tval-auc:0.95358\n",
      "[200]\ttrain-auc:0.98840\tval-auc:0.95373\n",
      "[210]\ttrain-auc:0.98906\tval-auc:0.95384\n",
      "[220]\ttrain-auc:0.98962\tval-auc:0.95402\n",
      "[230]\ttrain-auc:0.99050\tval-auc:0.95412\n",
      "[240]\ttrain-auc:0.99122\tval-auc:0.95443\n",
      "[250]\ttrain-auc:0.99170\tval-auc:0.95450\n",
      "[260]\ttrain-auc:0.99206\tval-auc:0.95462\n",
      "[270]\ttrain-auc:0.99248\tval-auc:0.95478\n",
      "[280]\ttrain-auc:0.99289\tval-auc:0.95487\n",
      "[290]\ttrain-auc:0.99308\tval-auc:0.95492\n",
      "[300]\ttrain-auc:0.99341\tval-auc:0.95484\n",
      "[310]\ttrain-auc:0.99391\tval-auc:0.95484\n",
      "[320]\ttrain-auc:0.99419\tval-auc:0.95483\n",
      "[330]\ttrain-auc:0.99442\tval-auc:0.95471\n",
      "[340]\ttrain-auc:0.99471\tval-auc:0.95462\n",
      "[350]\ttrain-auc:0.99500\tval-auc:0.95466\n",
      "[360]\ttrain-auc:0.99542\tval-auc:0.95470\n",
      "[370]\ttrain-auc:0.99570\tval-auc:0.95466\n",
      "[380]\ttrain-auc:0.99600\tval-auc:0.95470\n",
      "[390]\ttrain-auc:0.99614\tval-auc:0.95466\n",
      "[400]\ttrain-auc:0.99627\tval-auc:0.95454\n",
      "[410]\ttrain-auc:0.99644\tval-auc:0.95448\n",
      "[420]\ttrain-auc:0.99659\tval-auc:0.95447\n",
      "[430]\ttrain-auc:0.99669\tval-auc:0.95445\n",
      "[440]\ttrain-auc:0.99686\tval-auc:0.95442\n",
      "[450]\ttrain-auc:0.99704\tval-auc:0.95428\n",
      "[460]\ttrain-auc:0.99717\tval-auc:0.95420\n",
      "[470]\ttrain-auc:0.99735\tval-auc:0.95424\n",
      "[480]\ttrain-auc:0.99744\tval-auc:0.95413\n",
      "[490]\ttrain-auc:0.99748\tval-auc:0.95415\n",
      "[499]\ttrain-auc:0.99756\tval-auc:0.95410\n",
      "\n"
     ]
    }
   ],
   "source": [
    "print(output)"
   ]
  },
  {
   "cell_type": "code",
   "execution_count": 122,
   "id": "4d4eebd5-5f7e-4084-ba80-4a06e61972d6",
   "metadata": {},
   "outputs": [
    {
     "name": "stdout",
     "output_type": "stream",
     "text": [
      "0.95492\n"
     ]
    },
    {
     "data": {
      "text/plain": [
       "(0.95492, 290)"
      ]
     },
     "execution_count": 122,
     "metadata": {},
     "output_type": "execute_result"
    }
   ],
   "source": [
    "tree, _, val_auc = parse_xgb_output(output)\n",
    "print(max(val_auc))\n",
    "max(zip(val_auc, tree))"
   ]
  },
  {
   "cell_type": "code",
   "execution_count": null,
   "id": "b3d0e25d-ef66-4588-a615-3ae4bac4e236",
   "metadata": {},
   "outputs": [],
   "source": [
    "#final model\n",
    "\n",
    "xgb_params = {\n",
    "    'eta': 0.1,\n",
    "    'max_depth': 10,\n",
    "    'min_child_weight': 2,\n",
    "\n",
    "    'objective': 'binary:logistic',\n",
    "    'eval_metric': 'auc',\n",
    "    'nthread': 8,\n",
    "    'seed': 1\n",
    "}\n",
    "\n",
    "model = xgb.train(xgb_params, dtrain,\n",
    "                  num_boost_round=290,\n",
    "                  evals=watchlist, verbose_eval=10)"
   ]
  },
  {
   "cell_type": "code",
   "execution_count": 124,
   "id": "7ec6e966-735b-4ad3-a818-b874dba44e48",
   "metadata": {},
   "outputs": [
    {
     "data": {
      "text/plain": [
       "0.9541049695882697"
      ]
     },
     "execution_count": 124,
     "metadata": {},
     "output_type": "execute_result"
    }
   ],
   "source": [
    "y_pred = model.predict(dval)\n",
    "roc_auc_score(y_val, y_pred)"
   ]
  },
  {
   "cell_type": "code",
   "execution_count": 128,
   "id": "00e307a4-fbc3-4243-93a9-9f7c0776fa0b",
   "metadata": {},
   "outputs": [
    {
     "data": {
      "image/png": "[encoded data removed]",
      "text/plain": [
       "<Figure size 500x500 with 1 Axes>"
      ]
     },
     "metadata": {},
     "output_type": "display_data"
    }
   ],
   "source": [
    "plt.figure(figsize=(5, 5))\n",
    "\n",
    "fpr, tpr, _ = roc_curve(y_val, y_pred)\n",
    "plt.plot(fpr, tpr, color='black')\n",
    "\n",
    "\n",
    "plt.plot([0, 1], [0, 1], color='black', lw=0.7, linestyle='dashed', alpha=0.5)\n",
    "\n",
    "plt.xlim([-0.02, 1.02])\n",
    "plt.ylim([-0.02, 1.02])\n",
    "plt.xlabel('False Positive Rate')\n",
    "plt.ylabel('True Positive Rate')\n",
    "\n",
    "plt.title('ROC curve')\n",
    "\n",
    "plt.show()"
   ]
  },
  {
   "cell_type": "code",
   "execution_count": 129,
   "id": "c84a25d6-4eae-46ba-97a4-be7030eeea74",
   "metadata": {},
   "outputs": [],
   "source": [
    "#finat auc score for xgb => 0.9541049695882697"
   ]
  },
  {
   "cell_type": "code",
   "execution_count": 147,
   "id": "f5b4621b-8d10-49c3-a604-115585f5464f",
   "metadata": {},
   "outputs": [
    {
     "data": {
      "text/plain": [
       "<xgboost.core.Booster at 0x13e82be20>"
      ]
     },
     "execution_count": 147,
     "metadata": {},
     "output_type": "execute_result"
    }
   ],
   "source": [
    "#min_sample_size looks simimlar at estimator=30, max_depth 20, min_samples=5\n",
    "#final model\n",
    "\n",
    "dtrain_full = xgb.DMatrix(X_full_train, label=y_full_train, feature_names=features)\n",
    "dtest = xgb.DMatrix(X_test, label=y_test, feature_names=features)\n",
    "\n",
    "\n",
    "xgb_params = {\n",
    "    'eta': 0.1,\n",
    "    'max_depth': 10,\n",
    "    'min_child_weight': 2,\n",
    "\n",
    "    'objective': 'binary:logistic',\n",
    "    'eval_metric': 'auc',\n",
    "    'nthread': 8,\n",
    "    'seed': 1\n",
    "}\n",
    "\n",
    "model = xgb.train(xgb_params, dtrain_full,\n",
    "                  num_boost_round=290)\n",
    "model"
   ]
  },
  {
   "cell_type": "code",
   "execution_count": 148,
   "id": "a9994dcb-305a-4fd0-b448-5a5c5ed7b1d1",
   "metadata": {},
   "outputs": [],
   "source": [
    "y_pred = model.predict(dtest)"
   ]
  },
  {
   "cell_type": "code",
   "execution_count": 152,
   "id": "025d3a5d-0912-4120-8543-62592f44a8fa",
   "metadata": {},
   "outputs": [
    {
     "name": "stdout",
     "output_type": "stream",
     "text": [
      "0.9524001761121099\n"
     ]
    }
   ],
   "source": [
    "print(roc_auc_score(y_test, y_pred))\n"
   ]
  },
  {
   "cell_type": "code",
   "execution_count": 156,
   "id": "a7d36935-4868-49e2-9c15-494cc065a611",
   "metadata": {},
   "outputs": [
    {
     "data": {
      "text/plain": [
       "[('market_segment_type=online', 47.39923858642578),\n",
       " ('special_requests', 15.915420532226562),\n",
       " ('car_parking_space', 12.751692771911621),\n",
       " ('month_of_reservation=Dec', 8.930776596069336),\n",
       " ('month_of_reservation=Jan', 6.965875148773193),\n",
       " ('lead_time', 6.769908428192139),\n",
       " ('market_segment_type=offline', 5.430438995361328),\n",
       " ('number_of_adults', 5.377709865570068),\n",
       " ('repeated', 4.527021884918213),\n",
       " ('month_of_reservation=Apr', 4.314088821411133),\n",
       " ('month_of_reservation=Jun', 4.152012348175049),\n",
       " ('month_of_reservation=Feb', 4.074530601501465),\n",
       " ('average_price', 3.624248743057251),\n",
       " ('month_of_reservation=Nov', 3.401684284210205),\n",
       " ('market_segment_type=complementary', 3.2203187942504883),\n",
       " ('month_of_reservation=Oct', 3.028904914855957),\n",
       " ('month_of_reservation=May', 2.777859926223755),\n",
       " ('number_of_weekend_nights', 2.768362522125244),\n",
       " ('month_of_reservation=Sep', 2.665900945663452),\n",
       " ('type_of_meal=meal_plan_1', 2.5012409687042236),\n",
       " ('month_of_reservation=Mar', 2.4306182861328125),\n",
       " ('month_of_reservation=Jul', 2.424269676208496),\n",
       " ('number_of_week_nights', 2.3336963653564453),\n",
       " ('market_segment_type=corporate', 2.2875397205352783),\n",
       " ('market_segment_type=aviation', 2.2368381023406982),\n",
       " ('room_type=room_type_5', 2.191715955734253),\n",
       " ('month_of_reservation=Aug', 2.1273751258850098),\n",
       " ('room_type=room_type_1', 1.9556764364242554),\n",
       " ('room_type=room_type_4', 1.8746391534805298),\n",
       " ('type_of_meal=not_selected', 1.7762187719345093),\n",
       " ('room_type=room_type_2', 1.7528126239776611),\n",
       " ('number_of_children', 1.6676714420318604),\n",
       " ('p-not-c', 1.6540015935897827),\n",
       " ('type_of_meal=meal_plan_2', 1.4922215938568115),\n",
       " ('room_type=room_type_6', 1.0674693584442139),\n",
       " ('room_type=room_type_7', 0.8424586653709412),\n",
       " ('p-c', 0.6800192594528198)]"
      ]
     },
     "execution_count": 156,
     "metadata": {},
     "output_type": "execute_result"
    }
   ],
   "source": [
    "scores = model.get_score(importance_type='gain')\n",
    "scores = sorted(scores.items(), key=lambda x: x[1])\n",
    "list(reversed(scores))"
   ]
  },
  {
   "cell_type": "code",
   "execution_count": 157,
   "id": "7b2de7ea-2a22-4e5a-99f8-e5a58ac332a8",
   "metadata": {},
   "outputs": [
    {
     "data": {
      "text/plain": [
       "[('lead_time', 8665.0),\n",
       " ('average_price', 7463.0),\n",
       " ('number_of_week_nights', 2613.0),\n",
       " ('number_of_weekend_nights', 1944.0),\n",
       " ('special_requests', 909.0),\n",
       " ('number_of_adults', 759.0),\n",
       " ('month_of_reservation=Dec', 446.0),\n",
       " ('type_of_meal=meal_plan_1', 415.0),\n",
       " ('month_of_reservation=Oct', 392.0),\n",
       " ('month_of_reservation=Aug', 383.0),\n",
       " ('market_segment_type=online', 328.0),\n",
       " ('room_type=room_type_4', 317.0),\n",
       " ('month_of_reservation=Sep', 301.0),\n",
       " ('room_type=room_type_1', 289.0),\n",
       " ('number_of_children', 285.0),\n",
       " ('month_of_reservation=Jul', 278.0),\n",
       " ('month_of_reservation=May', 277.0),\n",
       " ('month_of_reservation=Mar', 259.0),\n",
       " ('month_of_reservation=Apr', 258.0),\n",
       " ('type_of_meal=not_selected', 253.0),\n",
       " ('market_segment_type=offline', 250.0),\n",
       " ('month_of_reservation=Nov', 245.0),\n",
       " ('month_of_reservation=Feb', 206.0),\n",
       " ('month_of_reservation=Jun', 204.0),\n",
       " ('type_of_meal=meal_plan_2', 127.0),\n",
       " ('car_parking_space', 127.0),\n",
       " ('market_segment_type=corporate', 111.0),\n",
       " ('month_of_reservation=Jan', 102.0),\n",
       " ('room_type=room_type_5', 82.0),\n",
       " ('room_type=room_type_2', 80.0),\n",
       " ('repeated', 63.0),\n",
       " ('room_type=room_type_6', 50.0),\n",
       " ('room_type=room_type_7', 39.0),\n",
       " ('p-c', 38.0),\n",
       " ('market_segment_type=aviation', 35.0),\n",
       " ('p-not-c', 28.0),\n",
       " ('market_segment_type=complementary', 17.0)]"
      ]
     },
     "execution_count": 157,
     "metadata": {},
     "output_type": "execute_result"
    }
   ],
   "source": [
    "scores = model.get_score(importance_type='weight')\n",
    "scores = sorted(scores.items(), key=lambda x: x[1])\n",
    "list(reversed(scores))"
   ]
  },
  {
   "cell_type": "code",
   "execution_count": 150,
   "id": "734395ee-daa7-4b6b-8999-e7acccb036d4",
   "metadata": {},
   "outputs": [],
   "source": [
    "with open('../model/cancellation-pred-model-xgb.bin', 'wb') as f_out:\n",
    "    pickle.dump((dv,model),f_out)"
   ]
  },
  {
   "cell_type": "code",
   "execution_count": 151,
   "id": "05821785-614c-4572-a1ba-71ecb10db0a8",
   "metadata": {},
   "outputs": [],
   "source": [
    "#test auc - 0.9524001761121099, which is close to 2% better than Random forest"
   ]
  }
 ],
 "metadata": {
  "kernelspec": {
   "display_name": "Python 3 (ipykernel)",
   "language": "python",
   "name": "python3"
  },
  "language_info": {
   "codemirror_mode": {
    "name": "ipython",
    "version": 3
   },
   "file_extension": ".py",
   "mimetype": "text/x-python",
   "name": "python",
   "nbconvert_exporter": "python",
   "pygments_lexer": "ipython3",
   "version": "3.10.11"
  }
 },
 "nbformat": 4,
 "nbformat_minor": 5
}
