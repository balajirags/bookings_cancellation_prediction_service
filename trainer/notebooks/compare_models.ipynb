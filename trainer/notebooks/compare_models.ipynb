{
 "cells": [
  {
   "cell_type": "code",
   "execution_count": 36,
   "id": "67378a79-8183-401a-a7a4-057ecf7f25b6",
   "metadata": {},
   "outputs": [],
   "source": [
    "import pandas as pd\n",
    "import numpy as np\n",
    "import matplotlib.pyplot as plt\n",
    "import seaborn as sn\n",
    "import pickle\n",
    "import xgboost as xgb\n",
    "from sklearn.feature_extraction import DictVectorizer\n",
    "from sklearn.ensemble import RandomForestClassifier\n",
    "from sklearn.metrics import roc_auc_score\n",
    "from sklearn.metrics import roc_curve\n",
    "from sklearn.metrics import accuracy_score\n",
    "from sklearn.metrics import precision_score\n",
    "from sklearn.metrics import recall_score\n",
    "from sklearn.metrics import confusion_matrix\n",
    "from sklearn.metrics import f1_score"
   ]
  },
  {
   "cell_type": "code",
   "execution_count": 3,
   "id": "3dc82eac-dc25-4a5c-99ac-7ae6b4781877",
   "metadata": {},
   "outputs": [],
   "source": [
    "df =  pd.read_csv('../dataset/booking_train.csv')\n",
    "df.columns = df.columns.str.lower().str.replace(' ', '_')\n",
    "df['type_of_meal']=df['type_of_meal'].str.lower().str.replace(' ', '_')\n",
    "df['room_type']=df['room_type'].str.lower().str.replace(' ', '_')\n",
    "df['market_segment_type']=df['market_segment_type'].str.lower().str.replace(' ', '_')\n",
    "df = df[~df[\"date_of_reservation\"].str.contains(\"-\")]\n",
    "df['month_of_reservation'] = pd.to_datetime(df['date_of_reservation'],format='%m/%d/%Y').dt.strftime('%b') \n",
    "df['booking_status'] = (df.booking_status == 'Canceled').astype(int)"
   ]
  },
  {
   "cell_type": "code",
   "execution_count": 4,
   "id": "789827a6-c918-4e48-9f52-1f636da4d64e",
   "metadata": {},
   "outputs": [],
   "source": [
    "#Perform the train/validation/test split with Scikit-Learn\n",
    "from sklearn.model_selection import train_test_split\n",
    "\n",
    "df_full_train, df_test = train_test_split(df,test_size=0.2, random_state=1)\n",
    "df_train, df_val = train_test_split(df_full_train,test_size=0.25, random_state=1)\n",
    "df_full_train  = df_full_train.reset_index(drop=True)\n",
    "df_train = df_train.reset_index(drop=True)\n",
    "df_val = df_val.reset_index(drop=True)\n",
    "df_test = df_test.reset_index(drop=True)\n",
    "y_full_train = df_full_train['booking_status'].values\n",
    "y_train = df_train['booking_status'].values\n",
    "y_val = df_val['booking_status'].values\n",
    "y_test = df_test['booking_status'].values\n",
    "del df_train['booking_status']\n",
    "del df_val['booking_status']\n",
    "del df_test['booking_status']\n"
   ]
  },
  {
   "cell_type": "code",
   "execution_count": 10,
   "id": "50d81530-8040-46fe-9e6e-1c352a360350",
   "metadata": {},
   "outputs": [],
   "source": [
    "numerical = ['number_of_adults','number_of_children','number_of_weekend_nights','number_of_week_nights','lead_time','p-c','p-not-c','average_price','special_requests']\n",
    "categorical = ['type_of_meal','room_type','market_segment_type','car_parking_space','repeated','month_of_reservation']\n",
    "\n",
    "test_dict = df_test[categorical + numerical].to_dict(orient='records')\n",
    "\n",
    "#X_test = dv.transform(test_dict)\n",
    "#features = list(dv.get_feature_names_out())\n",
    "#dtest = xgb.DMatrix(X_test, label=y_test, feature_names=features)"
   ]
  },
  {
   "cell_type": "code",
   "execution_count": 12,
   "id": "4c364038-0534-4c61-a455-8a48a0834494",
   "metadata": {},
   "outputs": [],
   "source": [
    "def load_model(file_path):\n",
    "  with open(file_path, 'rb') as f_in:\n",
    "    dv, model = pickle.load(f_in)  \n",
    "  return dv, model"
   ]
  },
  {
   "cell_type": "code",
   "execution_count": 13,
   "id": "166ff8ae-6fee-4377-ba7a-54be2e78e141",
   "metadata": {},
   "outputs": [],
   "source": [
    "dv_lr, model_lg = load_model('../model/cancellation-pred-model-lr.bin')\n",
    "dv_dt, model_dt = load_model('../model/cancellation-pred-model-decision-tree.bin')\n",
    "dv_rf, model_rf = load_model('../model/cancellation-pred-model-random-forest.bin')\n",
    "dv_xgb, model_xgb = load_model('../model/cancellation-pred-model-xgb.bin')\n"
   ]
  },
  {
   "cell_type": "code",
   "execution_count": null,
   "id": "2cff9f08-00bb-462a-a821-b45438194feb",
   "metadata": {},
   "outputs": [],
   "source": [
    "\n",
    "y_pred_lg = model_lg.predict(y_test)\n",
    "roc_auc_score(y_val, y_pred)"
   ]
  },
  {
   "cell_type": "code",
   "execution_count": 42,
   "id": "87644d41-8608-4204-b3a7-2d401e2b23af",
   "metadata": {},
   "outputs": [
    {
     "data": {
      "text/html": [
       "<div>\n",
       "<style scoped>\n",
       "    .dataframe tbody tr th:only-of-type {\n",
       "        vertical-align: middle;\n",
       "    }\n",
       "\n",
       "    .dataframe tbody tr th {\n",
       "        vertical-align: top;\n",
       "    }\n",
       "\n",
       "    .dataframe thead th {\n",
       "        text-align: right;\n",
       "    }\n",
       "</style>\n",
       "<table border=\"1\" class=\"dataframe\">\n",
       "  <thead>\n",
       "    <tr style=\"text-align: right;\">\n",
       "      <th></th>\n",
       "      <th>model_name</th>\n",
       "      <th>auc_score</th>\n",
       "      <th>accuracy</th>\n",
       "      <th>precision</th>\n",
       "      <th>recall</th>\n",
       "      <th>f1_score</th>\n",
       "    </tr>\n",
       "  </thead>\n",
       "  <tbody>\n",
       "    <tr>\n",
       "      <th>0</th>\n",
       "      <td>cancellation-pred-model-lr.bin</td>\n",
       "      <td>0.862699</td>\n",
       "      <td>0.799862</td>\n",
       "      <td>0.715898</td>\n",
       "      <td>0.642465</td>\n",
       "      <td>0.677197</td>\n",
       "    </tr>\n",
       "    <tr>\n",
       "      <th>1</th>\n",
       "      <td>cancellation-pred-model-decision-tree.bin</td>\n",
       "      <td>0.922478</td>\n",
       "      <td>0.859034</td>\n",
       "      <td>0.813110</td>\n",
       "      <td>0.738286</td>\n",
       "      <td>0.773894</td>\n",
       "    </tr>\n",
       "    <tr>\n",
       "      <th>2</th>\n",
       "      <td>cancellation-pred-model-random-forest.bin</td>\n",
       "      <td>0.934336</td>\n",
       "      <td>0.872552</td>\n",
       "      <td>0.852611</td>\n",
       "      <td>0.737442</td>\n",
       "      <td>0.790856</td>\n",
       "    </tr>\n",
       "    <tr>\n",
       "      <th>3</th>\n",
       "      <td>cancellation-pred-model-xgb.bin</td>\n",
       "      <td>0.952400</td>\n",
       "      <td>0.889793</td>\n",
       "      <td>0.853285</td>\n",
       "      <td>0.800338</td>\n",
       "      <td>0.825964</td>\n",
       "    </tr>\n",
       "  </tbody>\n",
       "</table>\n",
       "</div>"
      ],
      "text/plain": [
       "                                  model_name  auc_score  accuracy  precision  \\\n",
       "0             cancellation-pred-model-lr.bin   0.862699  0.799862   0.715898   \n",
       "1  cancellation-pred-model-decision-tree.bin   0.922478  0.859034   0.813110   \n",
       "2  cancellation-pred-model-random-forest.bin   0.934336  0.872552   0.852611   \n",
       "3            cancellation-pred-model-xgb.bin   0.952400  0.889793   0.853285   \n",
       "\n",
       "     recall  f1_score  \n",
       "0  0.642465  0.677197  \n",
       "1  0.738286  0.773894  \n",
       "2  0.737442  0.790856  \n",
       "3  0.800338  0.825964  "
      ]
     },
     "execution_count": 42,
     "metadata": {},
     "output_type": "execute_result"
    }
   ],
   "source": [
    "model_names = ['cancellation-pred-model-lr.bin','cancellation-pred-model-decision-tree.bin','cancellation-pred-model-random-forest.bin','cancellation-pred-model-xgb.bin']\n",
    "dvs = []\n",
    "models = []\n",
    "scores =[]\n",
    "\n",
    "for i in model_names:\n",
    "    dv, model = load_model(f'../model/{i}')\n",
    "    dvs.append(dv)\n",
    "    models.append(model)\n",
    "\n",
    "for j in range(len(model_names)):\n",
    "    X = dvs[j].transform(test_dict)\n",
    "    features = dvs[j].get_feature_names_out()\n",
    "    if model_names[j]== 'cancellation-pred-model-xgb.bin':\n",
    "        dtest = xgb.DMatrix(X, label=y_test, feature_names=list(features))\n",
    "        y_pred = model.predict(dtest)\n",
    "    else:   \n",
    "        y_pred = models[j].predict_proba(X)[:, 1]\n",
    "        \n",
    "    auc = roc_auc_score(y_test, y_pred)\n",
    "    accuracy = accuracy_score(y_test, y_pred>0.5)\n",
    "    precision = precision_score(y_test, y_pred>0.5)\n",
    "    recall = recall_score(y_test, y_pred>0.5)\n",
    "    f1_score = 2 * (precision * recall) / (precision + recall)\n",
    "    scores.append((model_names[j],auc,accuracy,precision,recall,f1_score))\n",
    "\n",
    "\n",
    "\n",
    "pd.DataFrame(scores, columns=['model_name','auc_score','accuracy', 'precision','recall','f1_score'])\n",
    "\n"
   ]
  }
 ],
 "metadata": {
  "kernelspec": {
   "display_name": "Python 3 (ipykernel)",
   "language": "python",
   "name": "python3"
  },
  "language_info": {
   "codemirror_mode": {
    "name": "ipython",
    "version": 3
   },
   "file_extension": ".py",
   "mimetype": "text/x-python",
   "name": "python",
   "nbconvert_exporter": "python",
   "pygments_lexer": "ipython3",
   "version": "3.10.11"
  }
 },
 "nbformat": 4,
 "nbformat_minor": 5
}
